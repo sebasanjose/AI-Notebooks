{
  "nbformat": 4,
  "nbformat_minor": 0,
  "metadata": {
    "colab": {
      "provenance": [],
      "gpuType": "T4",
      "authorship_tag": "ABX9TyNSLe360LirJ93a+fYzk1jT",
      "include_colab_link": true
    },
    "kernelspec": {
      "name": "python3",
      "display_name": "Python 3"
    },
    "language_info": {
      "name": "python"
    },
    "accelerator": "GPU"
  },
  "cells": [
    {
      "cell_type": "markdown",
      "metadata": {
        "id": "view-in-github",
        "colab_type": "text"
      },
      "source": [
        "<a href=\"https://colab.research.google.com/github/sebasanjose/AI-Notebooks/blob/main/Adaptative_Chunking.ipynb\" target=\"_parent\"><img src=\"https://colab.research.google.com/assets/colab-badge.svg\" alt=\"Open In Colab\"/></a>"
      ]
    },
    {
      "cell_type": "code",
      "execution_count": 3,
      "metadata": {
        "colab": {
          "base_uri": "https://localhost:8080/"
        },
        "id": "kZ9xa0eLef0V",
        "outputId": "854d5793-3468-4bdb-f91b-3cfe47068d0b"
      },
      "outputs": [
        {
          "output_type": "stream",
          "name": "stdout",
          "text": [
            "Overwriting adaptativeChunking.cu\n"
          ]
        }
      ],
      "source": [
        "%%writefile adaptativeChunking.cu\n",
        "\n",
        "#include <cuda_runtime.h>\n",
        "#include <iostream>\n",
        "#include <chrono>\n",
        "\n",
        "__global__ void vectorAddKernel(int *a, int *b, int *c, int chunkSize, int offset) {\n",
        "    int idx = blockIdx.x * blockDim.x + threadIdx.x + offset;\n",
        "    if (idx < offset + chunkSize) {\n",
        "        c[idx] = a[idx] + b[idx];\n",
        "    }\n",
        "}\n",
        "\n",
        "void adaptiveChunking(int *h_a, int *h_b, int *h_c, int size) {\n",
        "    int minChunkSize = 256; // Minimum chunk size\n",
        "    int maxChunkSize = 1024; // Maximum chunk size\n",
        "    int currentChunkSize = minChunkSize;\n",
        "    int numChunks = size / currentChunkSize;\n",
        "    int remainingSize = size % currentChunkSize;\n",
        "\n",
        "    int *d_a, *d_b, *d_c;\n",
        "    cudaMalloc(&d_a, size * sizeof(int));\n",
        "    cudaMalloc(&d_b, size * sizeof(int));\n",
        "    cudaMalloc(&d_c, size * sizeof(int));\n",
        "\n",
        "    auto start = std::chrono::high_resolution_clock::now();\n",
        "\n",
        "    for (int i = 0; i < numChunks; ++i) {\n",
        "        cudaStream_t stream;\n",
        "        cudaStreamCreate(&stream);\n",
        "        int offset = i * currentChunkSize;\n",
        "        cudaMemcpyAsync(d_a + offset, h_a + offset, currentChunkSize * sizeof(int), cudaMemcpyHostToDevice, stream);\n",
        "        cudaMemcpyAsync(d_b + offset, h_b + offset, currentChunkSize * sizeof(int), cudaMemcpyHostToDevice, stream);\n",
        "        vectorAddKernel<<<(currentChunkSize + 255) / 256, 256, 0, stream>>>(d_a, d_b, d_c, currentChunkSize, offset);\n",
        "        cudaMemcpyAsync(h_c + offset, d_c + offset, currentChunkSize * sizeof(int), cudaMemcpyDeviceToHost, stream);\n",
        "        cudaStreamSynchronize(stream);\n",
        "        cudaStreamDestroy(stream);\n",
        "\n",
        "        // Adaptive adjustment of chunk size based on performance feedback\n",
        "        // This is a simplified example; in a real scenario, you'd measure performance metrics\n",
        "        if (i % 2 == 0 && currentChunkSize < maxChunkSize) {\n",
        "            currentChunkSize *= 2; // Increase chunk size\n",
        "        } else if (i % 2 != 0 && currentChunkSize > minChunkSize) {\n",
        "            currentChunkSize /= 2; // Decrease chunk size\n",
        "        }\n",
        "    }\n",
        "\n",
        "    // Handle the remaining data\n",
        "    if (remainingSize > 0) {\n",
        "        cudaStream_t lastStream;\n",
        "        cudaStreamCreate(&lastStream);\n",
        "        int offset = numChunks * currentChunkSize;\n",
        "        cudaMemcpyAsync(d_a + offset, h_a + offset, remainingSize * sizeof(int), cudaMemcpyHostToDevice, lastStream);\n",
        "        cudaMemcpyAsync(d_b + offset, h_b + offset, remainingSize * sizeof(int), cudaMemcpyHostToDevice, lastStream);\n",
        "        vectorAddKernel<<<(remainingSize + 255) / 256, 256, 0, lastStream>>>(d_a, d_b, d_c, remainingSize, offset);\n",
        "        cudaMemcpyAsync(h_c + offset, d_c + offset, remainingSize * sizeof(int), cudaMemcpyDeviceToHost, lastStream);\n",
        "        cudaStreamSynchronize(lastStream);\n",
        "        cudaStreamDestroy(lastStream);\n",
        "    }\n",
        "\n",
        "    auto end = std::chrono::high_resolution_clock::now();\n",
        "    std::chrono::duration<float, std::milli> duration = end - start;\n",
        "    std::cout << \"Total execution time: \" << duration.count() << \" ms\" << std::endl;\n",
        "\n",
        "    cudaFree(d_a);\n",
        "    cudaFree(d_b);\n",
        "    cudaFree(d_c);\n",
        "}\n",
        "\n",
        "int main() {\n",
        "    int size = 4096;\n",
        "    int *h_a = new int[size];\n",
        "    int *h_b = new int[size];\n",
        "    int *h_c = new int[size];\n",
        "\n",
        "    // Initialize h_a and h_b\n",
        "    for (int i = 0; i < size; ++i) {\n",
        "        h_a[i] = i;\n",
        "        h_b[i] = size - i;\n",
        "    }\n",
        "\n",
        "    adaptiveChunking(h_a, h_b, h_c, size);\n",
        "\n",
        "    // Verify results\n",
        "    bool correct = true;\n",
        "    for (int i = 0; i < size; ++i) {\n",
        "        if (h_c[i] != size) {\n",
        "            correct = false;\n",
        "            std::cout << \"Error at index \" << i << \": \" << h_c[i] << std::endl;\n",
        "            break;\n",
        "        }\n",
        "    }\n",
        "    if (correct) {\n",
        "        std::cout << \"All results are correct.\" << std::endl;\n",
        "    }\n",
        "\n",
        "    delete[] h_a;\n",
        "    delete[] h_b;\n",
        "    delete[] h_c;\n",
        "    return 0;\n",
        "}\n",
        "\n"
      ]
    },
    {
      "cell_type": "code",
      "source": [
        "!nvcc adaptativeChunking.cu -o adaptativeChunking -run"
      ],
      "metadata": {
        "colab": {
          "base_uri": "https://localhost:8080/"
        },
        "id": "-5G3W11MfUmC",
        "outputId": "58683e49-7bc9-4f46-dc15-7c8dc0e4cbb8"
      },
      "execution_count": 4,
      "outputs": [
        {
          "output_type": "stream",
          "name": "stdout",
          "text": [
            "Total execution time: 43.1511 ms\n",
            "Error at index 256: 0\n"
          ]
        }
      ]
    }
  ]
}