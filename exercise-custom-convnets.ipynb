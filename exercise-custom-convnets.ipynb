{
 "cells": [
  {
   "cell_type": "markdown",
   "id": "1a8047dd",
   "metadata": {
    "papermill": {
     "duration": 0.003208,
     "end_time": "2024-12-11T16:33:12.806161",
     "exception": false,
     "start_time": "2024-12-11T16:33:12.802953",
     "status": "completed"
    },
    "tags": []
   },
   "source": [
    "**This notebook is an exercise in the [Computer Vision](https://www.kaggle.com/learn/computer-vision) course.  You can reference the tutorial at [this link](https://www.kaggle.com/ryanholbrook/custom-convnets).**\n",
    "\n",
    "---\n"
   ]
  },
  {
   "cell_type": "markdown",
   "id": "194dfeca",
   "metadata": {
    "papermill": {
     "duration": 0.002434,
     "end_time": "2024-12-11T16:33:12.811485",
     "exception": false,
     "start_time": "2024-12-11T16:33:12.809051",
     "status": "completed"
    },
    "tags": []
   },
   "source": [
    "# Introduction #\n",
    "\n",
    "In these exercises, you'll build a custom convnet with performance competitive to the VGG16 model from Lesson 1.\n",
    "\n",
    "Get started by running the code cell below."
   ]
  },
  {
   "cell_type": "code",
   "execution_count": 1,
   "id": "addbb0e1",
   "metadata": {
    "execution": {
     "iopub.execute_input": "2024-12-11T16:33:12.817966Z",
     "iopub.status.busy": "2024-12-11T16:33:12.817682Z",
     "iopub.status.idle": "2024-12-11T16:33:40.473654Z",
     "shell.execute_reply": "2024-12-11T16:33:40.472975Z"
    },
    "papermill": {
     "duration": 27.661645,
     "end_time": "2024-12-11T16:33:40.475719",
     "exception": false,
     "start_time": "2024-12-11T16:33:12.814074",
     "status": "completed"
    },
    "tags": []
   },
   "outputs": [
    {
     "name": "stderr",
     "output_type": "stream",
     "text": [
      "2024-12-11 16:33:15.274580: E external/local_xla/xla/stream_executor/cuda/cuda_dnn.cc:9261] Unable to register cuDNN factory: Attempting to register factory for plugin cuDNN when one has already been registered\n",
      "2024-12-11 16:33:15.274701: E external/local_xla/xla/stream_executor/cuda/cuda_fft.cc:607] Unable to register cuFFT factory: Attempting to register factory for plugin cuFFT when one has already been registered\n",
      "2024-12-11 16:33:15.409531: E external/local_xla/xla/stream_executor/cuda/cuda_blas.cc:1515] Unable to register cuBLAS factory: Attempting to register factory for plugin cuBLAS when one has already been registered\n"
     ]
    },
    {
     "name": "stdout",
     "output_type": "stream",
     "text": [
      "Found 5117 files belonging to 2 classes.\n",
      "Found 5051 files belonging to 2 classes.\n"
     ]
    }
   ],
   "source": [
    "# Setup feedback system\n",
    "from learntools.core import binder\n",
    "binder.bind(globals())\n",
    "from learntools.computer_vision.ex5 import *\n",
    "\n",
    "# Imports\n",
    "import os, warnings\n",
    "import matplotlib.pyplot as plt\n",
    "from matplotlib import gridspec\n",
    "\n",
    "import numpy as np\n",
    "import tensorflow as tf\n",
    "from tensorflow.keras.preprocessing import image_dataset_from_directory\n",
    "\n",
    "# Reproducability\n",
    "def set_seed(seed=31415):\n",
    "    np.random.seed(seed)\n",
    "    tf.random.set_seed(seed)\n",
    "    os.environ['PYTHONHASHSEED'] = str(seed)\n",
    "    os.environ['TF_DETERMINISTIC_OPS'] = '1'\n",
    "set_seed()\n",
    "\n",
    "# Set Matplotlib defaults\n",
    "plt.rc('figure', autolayout=True)\n",
    "plt.rc('axes', labelweight='bold', labelsize='large',\n",
    "       titleweight='bold', titlesize=18, titlepad=10)\n",
    "plt.rc('image', cmap='magma')\n",
    "warnings.filterwarnings(\"ignore\") # to clean up output cells\n",
    "\n",
    "\n",
    "# Load training and validation sets\n",
    "ds_train_ = image_dataset_from_directory(\n",
    "    '../input/car-or-truck/train',\n",
    "    labels='inferred',\n",
    "    label_mode='binary',\n",
    "    image_size=[128, 128],\n",
    "    interpolation='nearest',\n",
    "    batch_size=64,\n",
    "    shuffle=True,\n",
    ")\n",
    "ds_valid_ = image_dataset_from_directory(\n",
    "    '../input/car-or-truck/valid',\n",
    "    labels='inferred',\n",
    "    label_mode='binary',\n",
    "    image_size=[128, 128],\n",
    "    interpolation='nearest',\n",
    "    batch_size=64,\n",
    "    shuffle=False,\n",
    ")\n",
    "\n",
    "# Data Pipeline\n",
    "def convert_to_float(image, label):\n",
    "    image = tf.image.convert_image_dtype(image, dtype=tf.float32)\n",
    "    return image, label\n",
    "\n",
    "AUTOTUNE = tf.data.experimental.AUTOTUNE\n",
    "ds_train = (\n",
    "    ds_train_\n",
    "    .map(convert_to_float)\n",
    "    .cache()\n",
    "    .prefetch(buffer_size=AUTOTUNE)\n",
    ")\n",
    "ds_valid = (\n",
    "    ds_valid_\n",
    "    .map(convert_to_float)\n",
    "    .cache()\n",
    "    .prefetch(buffer_size=AUTOTUNE)\n",
    ")\n"
   ]
  },
  {
   "cell_type": "markdown",
   "id": "f2d22156",
   "metadata": {
    "papermill": {
     "duration": 0.002771,
     "end_time": "2024-12-11T16:33:40.481709",
     "exception": false,
     "start_time": "2024-12-11T16:33:40.478938",
     "status": "completed"
    },
    "tags": []
   },
   "source": [
    "# Design a Convnet #\n",
    "\n",
    "Let's design a convolutional network with a block architecture like we saw in the tutorial. The model from the example had three blocks, each with a single convolutional layer. Its performance on the \"Car or Truck\" problem was okay, but far from what the pretrained VGG16 could achieve. It might be that our simple network lacks the ability to extract sufficiently complex features. We could try improving the model either by adding more blocks or by adding convolutions to the blocks we have.\n",
    "\n",
    "Let's go with the second approach. We'll keep the three block structure, but increase the number of `Conv2D` layer in the second block to two, and in the third block to three.\n",
    "\n",
    "<figure>\n",
    "<!-- <img src=\"./images/2-convmodel-2.png\" width=\"250\" alt=\"Diagram of a convolutional model.\"> -->\n",
    "<img src=\"https://storage.googleapis.com/kaggle-media/learn/images/Vko6nCK.png\" width=\"250\" alt=\"Diagram of a convolutional model.\">\n",
    "</figure>\n",
    "\n",
    "# 1) Define Model #\n",
    "\n",
    "Given the diagram above, complete the model by defining the layers of the third block."
   ]
  },
  {
   "cell_type": "code",
   "execution_count": 2,
   "id": "3f721226",
   "metadata": {
    "execution": {
     "iopub.execute_input": "2024-12-11T16:33:40.488654Z",
     "iopub.status.busy": "2024-12-11T16:33:40.488344Z",
     "iopub.status.idle": "2024-12-11T16:33:40.603663Z",
     "shell.execute_reply": "2024-12-11T16:33:40.602828Z"
    },
    "lines_to_next_cell": 0,
    "papermill": {
     "duration": 0.120919,
     "end_time": "2024-12-11T16:33:40.605411",
     "exception": false,
     "start_time": "2024-12-11T16:33:40.484492",
     "status": "completed"
    },
    "tags": []
   },
   "outputs": [
    {
     "data": {
      "application/javascript": [
       "parent.postMessage({\"jupyterEvent\": \"custom.exercise_interaction\", \"data\": {\"outcomeType\": 2, \"failureMessage\": \"You've added an incorrect number of layers. For `# Block Three`, try something like:\\n\\n```python\\nlayers.Conv2D(____),\\nlayers.Conv2D(____),\\nlayers.MaxPool2D(),\\n```\\n\", \"interactionType\": 1, \"questionType\": 2, \"questionId\": \"1_Q1\", \"learnToolsVersion\": \"0.3.4\", \"valueTowardsCompletion\": 0.0, \"exceptionClass\": \"\", \"trace\": \"\"}}, \"*\")"
      ],
      "text/plain": [
       "<IPython.core.display.Javascript object>"
      ]
     },
     "metadata": {},
     "output_type": "display_data"
    },
    {
     "data": {
      "text/markdown": [
       "<span style=\"color:#cc3333\">Incorrect:</span> You've added an incorrect number of layers. For `# Block Three`, try something like:\n",
       "\n",
       "```python\n",
       "layers.Conv2D(____),\n",
       "layers.Conv2D(____),\n",
       "layers.MaxPool2D(),\n",
       "```\n"
      ],
      "text/plain": [
       "Incorrect: You've added an incorrect number of layers. For `# Block Three`, try something like:\n",
       "\n",
       "```python\n",
       "layers.Conv2D(____),\n",
       "layers.Conv2D(____),\n",
       "layers.MaxPool2D(),\n",
       "```"
      ]
     },
     "metadata": {},
     "output_type": "display_data"
    }
   ],
   "source": [
    "from tensorflow import keras\n",
    "from tensorflow.keras import layers\n",
    "\n",
    "model = keras.Sequential([\n",
    "    # Block One\n",
    "    layers.Conv2D(filters=32, kernel_size=3, activation='relu', padding='same',\n",
    "                  input_shape=[128, 128, 3]),\n",
    "    layers.MaxPool2D(),\n",
    "\n",
    "    # Block Two\n",
    "    layers.Conv2D(filters=64, kernel_size=3, activation='relu', padding='same'),\n",
    "    layers.MaxPool2D(),\n",
    "\n",
    "    # Block Three\n",
    "    # YOUR CODE HERE\n",
    "    # ____,\n",
    "\n",
    "    # Head\n",
    "    layers.Flatten(),\n",
    "    layers.Dense(6, activation='relu'),\n",
    "    layers.Dropout(0.2),\n",
    "    layers.Dense(1, activation='sigmoid'),\n",
    "])\n",
    "\n",
    "# Check your answer\n",
    "q_1.check()"
   ]
  },
  {
   "cell_type": "code",
   "execution_count": 3,
   "id": "7f9fb668",
   "metadata": {
    "execution": {
     "iopub.execute_input": "2024-12-11T16:33:40.613695Z",
     "iopub.status.busy": "2024-12-11T16:33:40.612886Z",
     "iopub.status.idle": "2024-12-11T16:33:40.616750Z",
     "shell.execute_reply": "2024-12-11T16:33:40.616087Z"
    },
    "papermill": {
     "duration": 0.009546,
     "end_time": "2024-12-11T16:33:40.618272",
     "exception": false,
     "start_time": "2024-12-11T16:33:40.608726",
     "status": "completed"
    },
    "tags": []
   },
   "outputs": [],
   "source": [
    "# Lines below will give you a hint or solution code\n",
    "#q_1.hint()\n",
    "#q_1.solution()"
   ]
  },
  {
   "cell_type": "markdown",
   "id": "d7597490",
   "metadata": {
    "papermill": {
     "duration": 0.002878,
     "end_time": "2024-12-11T16:33:40.624273",
     "exception": false,
     "start_time": "2024-12-11T16:33:40.621395",
     "status": "completed"
    },
    "tags": []
   },
   "source": [
    "# 2) Compile #\n",
    "\n",
    "To prepare for training, compile the model with an appropriate loss and accuracy metric for the \"Car or Truck\" dataset."
   ]
  },
  {
   "cell_type": "code",
   "execution_count": 4,
   "id": "03e0f194",
   "metadata": {
    "execution": {
     "iopub.execute_input": "2024-12-11T16:33:40.631393Z",
     "iopub.status.busy": "2024-12-11T16:33:40.630942Z",
     "iopub.status.idle": "2024-12-11T16:33:40.834032Z",
     "shell.execute_reply": "2024-12-11T16:33:40.833269Z"
    },
    "lines_to_next_cell": 0,
    "papermill": {
     "duration": 0.208699,
     "end_time": "2024-12-11T16:33:40.835947",
     "exception": false,
     "start_time": "2024-12-11T16:33:40.627248",
     "status": "completed"
    },
    "tags": []
   },
   "outputs": [
    {
     "data": {
      "application/javascript": [
       "parent.postMessage({\"jupyterEvent\": \"custom.exercise_interaction\", \"data\": {\"outcomeType\": 2, \"failureMessage\": \"The loss should be `'binary_crossentropy'`. You gave None\", \"interactionType\": 1, \"questionType\": 2, \"questionId\": \"2_Q2\", \"learnToolsVersion\": \"0.3.4\", \"valueTowardsCompletion\": 0.0, \"exceptionClass\": \"\", \"trace\": \"\"}}, \"*\")"
      ],
      "text/plain": [
       "<IPython.core.display.Javascript object>"
      ]
     },
     "metadata": {},
     "output_type": "display_data"
    },
    {
     "data": {
      "text/markdown": [
       "<span style=\"color:#cc3333\">Incorrect:</span> The loss should be `'binary_crossentropy'`. You gave None"
      ],
      "text/plain": [
       "Incorrect: The loss should be `'binary_crossentropy'`. You gave None"
      ]
     },
     "metadata": {},
     "output_type": "display_data"
    }
   ],
   "source": [
    "model.compile(\n",
    "    optimizer=tf.keras.optimizers.Adam(epsilon=0.01),\n",
    "    # YOUR CODE HERE: Add loss and metric\n",
    ")\n",
    "\n",
    "# Check your answer\n",
    "q_2.check()"
   ]
  },
  {
   "cell_type": "code",
   "execution_count": 5,
   "id": "954c3bc2",
   "metadata": {
    "execution": {
     "iopub.execute_input": "2024-12-11T16:33:40.843900Z",
     "iopub.status.busy": "2024-12-11T16:33:40.843670Z",
     "iopub.status.idle": "2024-12-11T16:33:40.855845Z",
     "shell.execute_reply": "2024-12-11T16:33:40.855025Z"
    },
    "lines_to_next_cell": 0,
    "papermill": {
     "duration": 0.018082,
     "end_time": "2024-12-11T16:33:40.857516",
     "exception": false,
     "start_time": "2024-12-11T16:33:40.839434",
     "status": "completed"
    },
    "tags": []
   },
   "outputs": [
    {
     "data": {
      "application/javascript": [
       "parent.postMessage({\"jupyterEvent\": \"custom.exercise_interaction\", \"data\": {\"outcomeType\": 1, \"valueTowardsCompletion\": 0.3333333333333333, \"interactionType\": 1, \"questionType\": 2, \"questionId\": \"2_Q2\", \"learnToolsVersion\": \"0.3.4\", \"failureMessage\": \"\", \"exceptionClass\": \"\", \"trace\": \"\"}}, \"*\")"
      ],
      "text/plain": [
       "<IPython.core.display.Javascript object>"
      ]
     },
     "metadata": {},
     "output_type": "display_data"
    },
    {
     "data": {
      "text/markdown": [
       "<span style=\"color:#33cc33\">Correct</span>"
      ],
      "text/plain": [
       "Correct"
      ]
     },
     "metadata": {},
     "output_type": "display_data"
    }
   ],
   "source": [
    "model.compile(\n",
    "    optimizer=tf.keras.optimizers.Adam(epsilon=0.01),\n",
    "    loss='binary_crossentropy',\n",
    "    metrics=['binary_accuracy'],\n",
    ")\n",
    "q_2.assert_check_passed()"
   ]
  },
  {
   "cell_type": "code",
   "execution_count": 6,
   "id": "27bedd6d",
   "metadata": {
    "execution": {
     "iopub.execute_input": "2024-12-11T16:33:40.865623Z",
     "iopub.status.busy": "2024-12-11T16:33:40.865347Z",
     "iopub.status.idle": "2024-12-11T16:33:40.868734Z",
     "shell.execute_reply": "2024-12-11T16:33:40.867940Z"
    },
    "lines_to_next_cell": 0,
    "papermill": {
     "duration": 0.009261,
     "end_time": "2024-12-11T16:33:40.870307",
     "exception": false,
     "start_time": "2024-12-11T16:33:40.861046",
     "status": "completed"
    },
    "tags": []
   },
   "outputs": [],
   "source": [
    "# Lines below will give you a hint or solution code\n",
    "#q_2.hint()\n",
    "#q_2.solution()"
   ]
  },
  {
   "cell_type": "markdown",
   "id": "5df8248f",
   "metadata": {
    "papermill": {
     "duration": 0.003333,
     "end_time": "2024-12-11T16:33:40.877265",
     "exception": false,
     "start_time": "2024-12-11T16:33:40.873932",
     "status": "completed"
    },
    "tags": []
   },
   "source": [
    "Finally, let's test the performance of this new model. First run this cell to fit the model to the training set."
   ]
  },
  {
   "cell_type": "code",
   "execution_count": 7,
   "id": "24e50e0f",
   "metadata": {
    "execution": {
     "iopub.execute_input": "2024-12-11T16:33:40.886390Z",
     "iopub.status.busy": "2024-12-11T16:33:40.886159Z",
     "iopub.status.idle": "2024-12-11T16:35:56.871256Z",
     "shell.execute_reply": "2024-12-11T16:35:56.870447Z"
    },
    "papermill": {
     "duration": 135.991974,
     "end_time": "2024-12-11T16:35:56.873046",
     "exception": false,
     "start_time": "2024-12-11T16:33:40.881072",
     "status": "completed"
    },
    "tags": []
   },
   "outputs": [
    {
     "name": "stdout",
     "output_type": "stream",
     "text": [
      "Epoch 1/50\n"
     ]
    },
    {
     "name": "stderr",
     "output_type": "stream",
     "text": [
      "WARNING: All log messages before absl::InitializeLog() is called are written to STDERR\n",
      "I0000 00:00:1733934824.763669      72 device_compiler.h:186] Compiled cluster using XLA!  This line is logged at most once for the lifetime of the process.\n"
     ]
    },
    {
     "name": "stdout",
     "output_type": "stream",
     "text": [
      "80/80 [==============================] - 17s 154ms/step - loss: 0.6702 - binary_accuracy: 0.5722 - val_loss: 0.6513 - val_binary_accuracy: 0.5785\n",
      "Epoch 2/50\n",
      "80/80 [==============================] - 2s 30ms/step - loss: 0.6554 - binary_accuracy: 0.5749 - val_loss: 0.6478 - val_binary_accuracy: 0.5799\n",
      "Epoch 3/50\n",
      "80/80 [==============================] - 2s 30ms/step - loss: 0.6509 - binary_accuracy: 0.5951 - val_loss: 0.6388 - val_binary_accuracy: 0.6331\n",
      "Epoch 4/50\n",
      "80/80 [==============================] - 2s 30ms/step - loss: 0.6440 - binary_accuracy: 0.6095 - val_loss: 0.6421 - val_binary_accuracy: 0.6078\n",
      "Epoch 5/50\n",
      "80/80 [==============================] - 2s 31ms/step - loss: 0.6382 - binary_accuracy: 0.6195 - val_loss: 0.6271 - val_binary_accuracy: 0.6417\n",
      "Epoch 6/50\n",
      "80/80 [==============================] - 2s 30ms/step - loss: 0.6199 - binary_accuracy: 0.6445 - val_loss: 0.6100 - val_binary_accuracy: 0.6666\n",
      "Epoch 7/50\n",
      "80/80 [==============================] - 2s 30ms/step - loss: 0.6136 - binary_accuracy: 0.6457 - val_loss: 0.6053 - val_binary_accuracy: 0.6652\n",
      "Epoch 8/50\n",
      "80/80 [==============================] - 2s 30ms/step - loss: 0.5997 - binary_accuracy: 0.6594 - val_loss: 0.5976 - val_binary_accuracy: 0.6747\n",
      "Epoch 9/50\n",
      "80/80 [==============================] - 2s 30ms/step - loss: 0.5919 - binary_accuracy: 0.6705 - val_loss: 0.5886 - val_binary_accuracy: 0.6842\n",
      "Epoch 10/50\n",
      "80/80 [==============================] - 2s 30ms/step - loss: 0.5714 - binary_accuracy: 0.6789 - val_loss: 0.5753 - val_binary_accuracy: 0.6975\n",
      "Epoch 11/50\n",
      "80/80 [==============================] - 2s 30ms/step - loss: 0.5632 - binary_accuracy: 0.6910 - val_loss: 0.5701 - val_binary_accuracy: 0.7009\n",
      "Epoch 12/50\n",
      "80/80 [==============================] - 2s 30ms/step - loss: 0.5461 - binary_accuracy: 0.7020 - val_loss: 0.5604 - val_binary_accuracy: 0.7135\n",
      "Epoch 13/50\n",
      "80/80 [==============================] - 2s 30ms/step - loss: 0.5236 - binary_accuracy: 0.7176 - val_loss: 0.5535 - val_binary_accuracy: 0.7210\n",
      "Epoch 14/50\n",
      "80/80 [==============================] - 2s 30ms/step - loss: 0.5155 - binary_accuracy: 0.7209 - val_loss: 0.5506 - val_binary_accuracy: 0.7163\n",
      "Epoch 15/50\n",
      "80/80 [==============================] - 2s 30ms/step - loss: 0.4912 - binary_accuracy: 0.7362 - val_loss: 0.5452 - val_binary_accuracy: 0.7232\n",
      "Epoch 16/50\n",
      "80/80 [==============================] - 2s 30ms/step - loss: 0.4835 - binary_accuracy: 0.7438 - val_loss: 0.5485 - val_binary_accuracy: 0.7212\n",
      "Epoch 17/50\n",
      "80/80 [==============================] - 2s 30ms/step - loss: 0.4700 - binary_accuracy: 0.7479 - val_loss: 0.6377 - val_binary_accuracy: 0.6935\n",
      "Epoch 18/50\n",
      "80/80 [==============================] - 2s 30ms/step - loss: 0.4551 - binary_accuracy: 0.7514 - val_loss: 0.5822 - val_binary_accuracy: 0.7100\n",
      "Epoch 19/50\n",
      "80/80 [==============================] - 2s 31ms/step - loss: 0.4343 - binary_accuracy: 0.7727 - val_loss: 0.6436 - val_binary_accuracy: 0.7046\n",
      "Epoch 20/50\n",
      "80/80 [==============================] - 2s 30ms/step - loss: 0.4200 - binary_accuracy: 0.7723 - val_loss: 0.5772 - val_binary_accuracy: 0.7268\n",
      "Epoch 21/50\n",
      "80/80 [==============================] - 2s 30ms/step - loss: 0.3963 - binary_accuracy: 0.7860 - val_loss: 0.5760 - val_binary_accuracy: 0.7195\n",
      "Epoch 22/50\n",
      "80/80 [==============================] - 2s 31ms/step - loss: 0.3798 - binary_accuracy: 0.8028 - val_loss: 0.5862 - val_binary_accuracy: 0.7145\n",
      "Epoch 23/50\n",
      "80/80 [==============================] - 2s 30ms/step - loss: 0.4031 - binary_accuracy: 0.7829 - val_loss: 0.6973 - val_binary_accuracy: 0.7123\n",
      "Epoch 24/50\n",
      "80/80 [==============================] - 2s 30ms/step - loss: 0.3857 - binary_accuracy: 0.7964 - val_loss: 0.8052 - val_binary_accuracy: 0.6959\n",
      "Epoch 25/50\n",
      "80/80 [==============================] - 2s 30ms/step - loss: 0.3723 - binary_accuracy: 0.7975 - val_loss: 0.8069 - val_binary_accuracy: 0.6971\n",
      "Epoch 26/50\n",
      "80/80 [==============================] - 2s 30ms/step - loss: 0.3575 - binary_accuracy: 0.8132 - val_loss: 0.8174 - val_binary_accuracy: 0.7001\n",
      "Epoch 27/50\n",
      "80/80 [==============================] - 2s 30ms/step - loss: 0.3514 - binary_accuracy: 0.8140 - val_loss: 0.8100 - val_binary_accuracy: 0.6906\n",
      "Epoch 28/50\n",
      "80/80 [==============================] - 2s 30ms/step - loss: 0.3565 - binary_accuracy: 0.8136 - val_loss: 0.7130 - val_binary_accuracy: 0.7109\n",
      "Epoch 29/50\n",
      "80/80 [==============================] - 2s 31ms/step - loss: 0.3806 - binary_accuracy: 0.8007 - val_loss: 0.6226 - val_binary_accuracy: 0.6917\n",
      "Epoch 30/50\n",
      "80/80 [==============================] - 2s 30ms/step - loss: 0.3794 - binary_accuracy: 0.8063 - val_loss: 0.6428 - val_binary_accuracy: 0.7040\n",
      "Epoch 31/50\n",
      "80/80 [==============================] - 2s 30ms/step - loss: 0.3641 - binary_accuracy: 0.8116 - val_loss: 0.6476 - val_binary_accuracy: 0.7143\n",
      "Epoch 32/50\n",
      "80/80 [==============================] - 2s 30ms/step - loss: 0.3315 - binary_accuracy: 0.8278 - val_loss: 0.6739 - val_binary_accuracy: 0.7161\n",
      "Epoch 33/50\n",
      "80/80 [==============================] - 2s 30ms/step - loss: 0.2992 - binary_accuracy: 0.8431 - val_loss: 0.6704 - val_binary_accuracy: 0.7173\n",
      "Epoch 34/50\n",
      "80/80 [==============================] - 2s 31ms/step - loss: 0.3066 - binary_accuracy: 0.8437 - val_loss: 0.6862 - val_binary_accuracy: 0.7147\n",
      "Epoch 35/50\n",
      "80/80 [==============================] - 2s 30ms/step - loss: 0.2960 - binary_accuracy: 0.8466 - val_loss: 0.7215 - val_binary_accuracy: 0.7159\n",
      "Epoch 36/50\n",
      "80/80 [==============================] - 2s 30ms/step - loss: 0.2697 - binary_accuracy: 0.8569 - val_loss: 0.6949 - val_binary_accuracy: 0.7165\n",
      "Epoch 37/50\n",
      "80/80 [==============================] - 2s 31ms/step - loss: 0.2681 - binary_accuracy: 0.8554 - val_loss: 0.7613 - val_binary_accuracy: 0.7161\n",
      "Epoch 38/50\n",
      "80/80 [==============================] - 2s 30ms/step - loss: 0.2642 - binary_accuracy: 0.8628 - val_loss: 0.8382 - val_binary_accuracy: 0.7197\n",
      "Epoch 39/50\n",
      "80/80 [==============================] - 2s 30ms/step - loss: 0.2552 - binary_accuracy: 0.8595 - val_loss: 0.8193 - val_binary_accuracy: 0.7240\n",
      "Epoch 40/50\n",
      "80/80 [==============================] - 2s 30ms/step - loss: 0.2512 - binary_accuracy: 0.8626 - val_loss: 0.7939 - val_binary_accuracy: 0.7264\n",
      "Epoch 41/50\n",
      "80/80 [==============================] - 2s 30ms/step - loss: 0.2554 - binary_accuracy: 0.8685 - val_loss: 0.6994 - val_binary_accuracy: 0.7167\n",
      "Epoch 42/50\n",
      "80/80 [==============================] - 2s 31ms/step - loss: 0.2610 - binary_accuracy: 0.8650 - val_loss: 0.9684 - val_binary_accuracy: 0.7171\n",
      "Epoch 43/50\n",
      "80/80 [==============================] - 2s 30ms/step - loss: 0.2519 - binary_accuracy: 0.8732 - val_loss: 0.9075 - val_binary_accuracy: 0.7096\n",
      "Epoch 44/50\n",
      "80/80 [==============================] - 2s 30ms/step - loss: 0.2274 - binary_accuracy: 0.8857 - val_loss: 0.9774 - val_binary_accuracy: 0.7155\n",
      "Epoch 45/50\n",
      "80/80 [==============================] - 2s 30ms/step - loss: 0.2211 - binary_accuracy: 0.8829 - val_loss: 1.0721 - val_binary_accuracy: 0.6993\n",
      "Epoch 46/50\n",
      "80/80 [==============================] - 2s 30ms/step - loss: 0.2293 - binary_accuracy: 0.8835 - val_loss: 0.9427 - val_binary_accuracy: 0.7104\n",
      "Epoch 47/50\n",
      "80/80 [==============================] - 2s 31ms/step - loss: 0.2364 - binary_accuracy: 0.8841 - val_loss: 0.9129 - val_binary_accuracy: 0.7165\n",
      "Epoch 48/50\n",
      "80/80 [==============================] - 2s 30ms/step - loss: 0.2196 - binary_accuracy: 0.8880 - val_loss: 1.0857 - val_binary_accuracy: 0.7139\n",
      "Epoch 49/50\n",
      "80/80 [==============================] - 2s 31ms/step - loss: 0.2391 - binary_accuracy: 0.8736 - val_loss: 1.0336 - val_binary_accuracy: 0.7258\n",
      "Epoch 50/50\n",
      "80/80 [==============================] - 2s 30ms/step - loss: 0.2129 - binary_accuracy: 0.8970 - val_loss: 1.1281 - val_binary_accuracy: 0.7258\n"
     ]
    }
   ],
   "source": [
    "history = model.fit(\n",
    "    ds_train,\n",
    "    validation_data=ds_valid,\n",
    "    epochs=50,\n",
    ")"
   ]
  },
  {
   "cell_type": "markdown",
   "id": "5e1a1ba3",
   "metadata": {
    "papermill": {
     "duration": 0.109602,
     "end_time": "2024-12-11T16:35:57.050154",
     "exception": false,
     "start_time": "2024-12-11T16:35:56.940552",
     "status": "completed"
    },
    "tags": []
   },
   "source": [
    "And now run the cell below to plot the loss and metric curves for this training run."
   ]
  },
  {
   "cell_type": "code",
   "execution_count": 8,
   "id": "61913db4",
   "metadata": {
    "execution": {
     "iopub.execute_input": "2024-12-11T16:35:57.185112Z",
     "iopub.status.busy": "2024-12-11T16:35:57.184789Z",
     "iopub.status.idle": "2024-12-11T16:35:57.720153Z",
     "shell.execute_reply": "2024-12-11T16:35:57.719412Z"
    },
    "papermill": {
     "duration": 0.605363,
     "end_time": "2024-12-11T16:35:57.722187",
     "exception": false,
     "start_time": "2024-12-11T16:35:57.116824",
     "status": "completed"
    },
    "tags": []
   },
   "outputs": [
    {
     "data": {
      "image/png": "[encoded data removed]",
      "text/plain": [
       "<Figure size 640x480 with 1 Axes>"
      ]
     },
     "metadata": {},
     "output_type": "display_data"
    },
    {
     "data": {
      "image/png": "[encoded data removed]",
      "text/plain": [
       "<Figure size 640x480 with 1 Axes>"
      ]
     },
     "metadata": {},
     "output_type": "display_data"
    }
   ],
   "source": [
    "import pandas as pd\n",
    "history_frame = pd.DataFrame(history.history)\n",
    "history_frame.loc[:, ['loss', 'val_loss']].plot()\n",
    "history_frame.loc[:, ['binary_accuracy', 'val_binary_accuracy']].plot();"
   ]
  },
  {
   "cell_type": "markdown",
   "id": "a607902b",
   "metadata": {
    "papermill": {
     "duration": 0.067171,
     "end_time": "2024-12-11T16:35:57.857464",
     "exception": false,
     "start_time": "2024-12-11T16:35:57.790293",
     "status": "completed"
    },
    "tags": []
   },
   "source": [
    "# 3) Train the Model #\n",
    "\n",
    "How would you interpret these training curves? Did this model improve upon the model from the tutorial?"
   ]
  },
  {
   "cell_type": "code",
   "execution_count": 9,
   "id": "1c6a96a6",
   "metadata": {
    "execution": {
     "iopub.execute_input": "2024-12-11T16:35:58.000074Z",
     "iopub.status.busy": "2024-12-11T16:35:57.999750Z",
     "iopub.status.idle": "2024-12-11T16:35:58.006431Z",
     "shell.execute_reply": "2024-12-11T16:35:58.005673Z"
    },
    "lines_to_next_cell": 0,
    "papermill": {
     "duration": 0.079789,
     "end_time": "2024-12-11T16:35:58.008072",
     "exception": false,
     "start_time": "2024-12-11T16:35:57.928283",
     "status": "completed"
    },
    "tags": []
   },
   "outputs": [
    {
     "data": {
      "application/javascript": [
       "parent.postMessage({\"jupyterEvent\": \"custom.exercise_interaction\", \"data\": {\"outcomeType\": 1, \"valueTowardsCompletion\": 0.3333333333333333, \"interactionType\": 1, \"questionType\": 4, \"questionId\": \"3_Q3\", \"learnToolsVersion\": \"0.3.4\", \"failureMessage\": \"\", \"exceptionClass\": \"\", \"trace\": \"\"}}, \"*\")"
      ],
      "text/plain": [
       "<IPython.core.display.Javascript object>"
      ]
     },
     "metadata": {},
     "output_type": "display_data"
    },
    {
     "data": {
      "text/markdown": [
       "<span style=\"color:#33cc33\">Correct:</span> \n",
       "\n",
       "\n",
       "The learning curves for the model from the tutorial diverged fairly rapidly. This would indicate that it was prone to overfitting and in need of some regularization. The additional layer in our new model would make it even more prone to overfitting. However, adding some regularization with the `Dropout` layer helped prevent this. These changes improved the validation accuracy of the model by several points.\n"
      ],
      "text/plain": [
       "Correct: \n",
       "\n",
       "\n",
       "The learning curves for the model from the tutorial diverged fairly rapidly. This would indicate that it was prone to overfitting and in need of some regularization. The additional layer in our new model would make it even more prone to overfitting. However, adding some regularization with the `Dropout` layer helped prevent this. These changes improved the validation accuracy of the model by several points."
      ]
     },
     "metadata": {},
     "output_type": "display_data"
    }
   ],
   "source": [
    "# View the solution (Run this code cell to receive credit!)\n",
    "q_3.check()"
   ]
  },
  {
   "cell_type": "markdown",
   "id": "d4b97310",
   "metadata": {
    "papermill": {
     "duration": 0.070278,
     "end_time": "2024-12-11T16:35:58.153349",
     "exception": false,
     "start_time": "2024-12-11T16:35:58.083071",
     "status": "completed"
    },
    "tags": []
   },
   "source": [
    "# Conclusion #\n",
    "\n",
    "These exercises showed you how to design a custom convolutional network to solve a specific classification problem. Though most models these days will be built on top of a pretrained base, it certain circumstances a smaller custom convnet might still be preferable -- such as with a smaller or unusual dataset or when computing resources are very limited. As you saw here, for certain problems they can perform just as well as a pretrained model.\n",
    "\n",
    "# Keep Going #\n",
    "\n",
    "Continue on to [**Lesson 6**](https://www.kaggle.com/ryanholbrook/data-augmentation), where you'll learn a widely-used technique that can give a boost to your training data: **data augmentation**."
   ]
  },
  {
   "cell_type": "markdown",
   "id": "b45e695f",
   "metadata": {
    "papermill": {
     "duration": 0.066755,
     "end_time": "2024-12-11T16:35:58.288291",
     "exception": false,
     "start_time": "2024-12-11T16:35:58.221536",
     "status": "completed"
    },
    "tags": []
   },
   "source": [
    "---\n",
    "\n",
    "\n",
    "\n",
    "\n",
    "*Have questions or comments? Visit the [course discussion forum](https://www.kaggle.com/learn/computer-vision/discussion) to chat with other learners.*"
   ]
  }
 ],
 "metadata": {
  "jupytext": {
   "formats": "md,ipynb"
  },
  "kaggle": {
   "accelerator": "gpu",
   "dataSources": [
    {
     "datasetId": 708136,
     "sourceId": 1338830,
     "sourceType": "datasetVersion"
    },
    {
     "datasetId": 701538,
     "sourceId": 1363948,
     "sourceType": "datasetVersion"
    },
    {
     "datasetId": 878523,
     "sourceId": 1495782,
     "sourceType": "datasetVersion"
    }
   ],
   "dockerImageVersionId": 30648,
   "isGpuEnabled": true,
   "isInternetEnabled": false,
   "language": "python",
   "sourceType": "notebook"
  },
  "kernelspec": {
   "display_name": "Python 3",
   "language": "python",
   "name": "python3"
  },
  "language_info": {
   "codemirror_mode": {
    "name": "ipython",
    "version": 3
   },
   "file_extension": ".py",
   "mimetype": "text/x-python",
   "name": "python",
   "nbconvert_exporter": "python",
   "pygments_lexer": "ipython3",
   "version": "3.10.13"
  },
  "papermill": {
   "default_parameters": {},
   "duration": 170.230985,
   "end_time": "2024-12-11T16:36:00.481021",
   "environment_variables": {},
   "exception": null,
   "input_path": "__notebook__.ipynb",
   "output_path": "__notebook__.ipynb",
   "parameters": {},
   "start_time": "2024-12-11T16:33:10.250036",
   "version": "2.5.0"
  }
 },
 "nbformat": 4,
 "nbformat_minor": 5
}
