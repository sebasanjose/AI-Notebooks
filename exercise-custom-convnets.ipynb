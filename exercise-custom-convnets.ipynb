{
 "cells": [
  {
   "cell_type": "markdown",
   "id": "278456b9",
   "metadata": {
    "papermill": {
     "duration": 0.003405,
     "end_time": "2024-12-11T16:42:12.941730",
     "exception": false,
     "start_time": "2024-12-11T16:42:12.938325",
     "status": "completed"
    },
    "tags": []
   },
   "source": [
    "**This notebook is an exercise in the [Computer Vision](https://www.kaggle.com/learn/computer-vision) course.  You can reference the tutorial at [this link](https://www.kaggle.com/ryanholbrook/custom-convnets).**\n",
    "\n",
    "---\n"
   ]
  },
  {
   "cell_type": "markdown",
   "id": "a3847bad",
   "metadata": {
    "papermill": {
     "duration": 0.002704,
     "end_time": "2024-12-11T16:42:12.947648",
     "exception": false,
     "start_time": "2024-12-11T16:42:12.944944",
     "status": "completed"
    },
    "tags": []
   },
   "source": [
    "# Introduction #\n",
    "\n",
    "In these exercises, you'll build a custom convnet with performance competitive to the VGG16 model from Lesson 1.\n",
    "\n",
    "Get started by running the code cell below."
   ]
  },
  {
   "cell_type": "code",
   "execution_count": 1,
   "id": "4aa7c0e5",
   "metadata": {
    "execution": {
     "iopub.execute_input": "2024-12-11T16:42:12.954731Z",
     "iopub.status.busy": "2024-12-11T16:42:12.954412Z",
     "iopub.status.idle": "2024-12-11T16:42:35.275427Z",
     "shell.execute_reply": "2024-12-11T16:42:35.274701Z"
    },
    "papermill": {
     "duration": 22.327042,
     "end_time": "2024-12-11T16:42:35.277485",
     "exception": false,
     "start_time": "2024-12-11T16:42:12.950443",
     "status": "completed"
    },
    "tags": []
   },
   "outputs": [
    {
     "name": "stderr",
     "output_type": "stream",
     "text": [
      "2024-12-11 16:42:15.491020: E external/local_xla/xla/stream_executor/cuda/cuda_dnn.cc:9261] Unable to register cuDNN factory: Attempting to register factory for plugin cuDNN when one has already been registered\n",
      "2024-12-11 16:42:15.491186: E external/local_xla/xla/stream_executor/cuda/cuda_fft.cc:607] Unable to register cuFFT factory: Attempting to register factory for plugin cuFFT when one has already been registered\n",
      "2024-12-11 16:42:15.634839: E external/local_xla/xla/stream_executor/cuda/cuda_blas.cc:1515] Unable to register cuBLAS factory: Attempting to register factory for plugin cuBLAS when one has already been registered\n"
     ]
    },
    {
     "name": "stdout",
     "output_type": "stream",
     "text": [
      "Found 5117 files belonging to 2 classes.\n",
      "Found 5051 files belonging to 2 classes.\n"
     ]
    }
   ],
   "source": [
    "# Setup feedback system\n",
    "from learntools.core import binder\n",
    "binder.bind(globals())\n",
    "from learntools.computer_vision.ex5 import *\n",
    "\n",
    "# Imports\n",
    "import os, warnings\n",
    "import matplotlib.pyplot as plt\n",
    "from matplotlib import gridspec\n",
    "\n",
    "import numpy as np\n",
    "import tensorflow as tf\n",
    "from tensorflow.keras.preprocessing import image_dataset_from_directory\n",
    "\n",
    "# Reproducability\n",
    "def set_seed(seed=31415):\n",
    "    np.random.seed(seed)\n",
    "    tf.random.set_seed(seed)\n",
    "    os.environ['PYTHONHASHSEED'] = str(seed)\n",
    "    os.environ['TF_DETERMINISTIC_OPS'] = '1'\n",
    "set_seed()\n",
    "\n",
    "# Set Matplotlib defaults\n",
    "plt.rc('figure', autolayout=True)\n",
    "plt.rc('axes', labelweight='bold', labelsize='large',\n",
    "       titleweight='bold', titlesize=18, titlepad=10)\n",
    "plt.rc('image', cmap='magma')\n",
    "warnings.filterwarnings(\"ignore\") # to clean up output cells\n",
    "\n",
    "\n",
    "# Load training and validation sets\n",
    "ds_train_ = image_dataset_from_directory(\n",
    "    '../input/car-or-truck/train',\n",
    "    labels='inferred',\n",
    "    label_mode='binary',\n",
    "    image_size=[128, 128],\n",
    "    interpolation='nearest',\n",
    "    batch_size=64,\n",
    "    shuffle=True,\n",
    ")\n",
    "ds_valid_ = image_dataset_from_directory(\n",
    "    '../input/car-or-truck/valid',\n",
    "    labels='inferred',\n",
    "    label_mode='binary',\n",
    "    image_size=[128, 128],\n",
    "    interpolation='nearest',\n",
    "    batch_size=64,\n",
    "    shuffle=False,\n",
    ")\n",
    "\n",
    "# Data Pipeline\n",
    "def convert_to_float(image, label):\n",
    "    image = tf.image.convert_image_dtype(image, dtype=tf.float32)\n",
    "    return image, label\n",
    "\n",
    "AUTOTUNE = tf.data.experimental.AUTOTUNE\n",
    "ds_train = (\n",
    "    ds_train_\n",
    "    .map(convert_to_float)\n",
    "    .cache()\n",
    "    .prefetch(buffer_size=AUTOTUNE)\n",
    ")\n",
    "ds_valid = (\n",
    "    ds_valid_\n",
    "    .map(convert_to_float)\n",
    "    .cache()\n",
    "    .prefetch(buffer_size=AUTOTUNE)\n",
    ")\n"
   ]
  },
  {
   "cell_type": "markdown",
   "id": "b4c67646",
   "metadata": {
    "papermill": {
     "duration": 0.00283,
     "end_time": "2024-12-11T16:42:35.283837",
     "exception": false,
     "start_time": "2024-12-11T16:42:35.281007",
     "status": "completed"
    },
    "tags": []
   },
   "source": [
    "# Design a Convnet #\n",
    "\n",
    "Let's design a convolutional network with a block architecture like we saw in the tutorial. The model from the example had three blocks, each with a single convolutional layer. Its performance on the \"Car or Truck\" problem was okay, but far from what the pretrained VGG16 could achieve. It might be that our simple network lacks the ability to extract sufficiently complex features. We could try improving the model either by adding more blocks or by adding convolutions to the blocks we have.\n",
    "\n",
    "Let's go with the second approach. We'll keep the three block structure, but increase the number of `Conv2D` layer in the second block to two, and in the third block to three.\n",
    "\n",
    "<figure>\n",
    "<!-- <img src=\"./images/2-convmodel-2.png\" width=\"250\" alt=\"Diagram of a convolutional model.\"> -->\n",
    "<img src=\"https://storage.googleapis.com/kaggle-media/learn/images/Vko6nCK.png\" width=\"250\" alt=\"Diagram of a convolutional model.\">\n",
    "</figure>\n",
    "\n",
    "# 1) Define Model #\n",
    "\n",
    "Given the diagram above, complete the model by defining the layers of the third block."
   ]
  },
  {
   "cell_type": "code",
   "execution_count": 2,
   "id": "dff7e16f",
   "metadata": {
    "execution": {
     "iopub.execute_input": "2024-12-11T16:42:35.290822Z",
     "iopub.status.busy": "2024-12-11T16:42:35.290569Z",
     "iopub.status.idle": "2024-12-11T16:42:35.424907Z",
     "shell.execute_reply": "2024-12-11T16:42:35.424123Z"
    },
    "lines_to_next_cell": 0,
    "papermill": {
     "duration": 0.139803,
     "end_time": "2024-12-11T16:42:35.426581",
     "exception": false,
     "start_time": "2024-12-11T16:42:35.286778",
     "status": "completed"
    },
    "tags": []
   },
   "outputs": [
    {
     "data": {
      "application/javascript": [
       "parent.postMessage({\"jupyterEvent\": \"custom.exercise_interaction\", \"data\": {\"outcomeType\": 1, \"valueTowardsCompletion\": 0.3333333333333333, \"interactionType\": 1, \"questionType\": 2, \"questionId\": \"1_Q1\", \"learnToolsVersion\": \"0.3.4\", \"failureMessage\": \"\", \"exceptionClass\": \"\", \"trace\": \"\"}}, \"*\")"
      ],
      "text/plain": [
       "<IPython.core.display.Javascript object>"
      ]
     },
     "metadata": {},
     "output_type": "display_data"
    },
    {
     "data": {
      "text/markdown": [
       "<span style=\"color:#33cc33\">Correct</span>"
      ],
      "text/plain": [
       "Correct"
      ]
     },
     "metadata": {},
     "output_type": "display_data"
    }
   ],
   "source": [
    "from tensorflow import keras\n",
    "from tensorflow.keras import layers\n",
    "\n",
    "model = keras.Sequential([\n",
    "    # Block One\n",
    "    layers.Conv2D(filters=32, kernel_size=3, activation='relu', padding='same',\n",
    "                  input_shape=[128, 128, 3]),\n",
    "    layers.MaxPool2D(),\n",
    "\n",
    "    # Block Two\n",
    "    layers.Conv2D(filters=64, kernel_size=3, activation='relu', padding='same'),\n",
    "    layers.MaxPool2D(),\n",
    "\n",
    "    # Block Three\n",
    "    layers.Conv2D(filters=128, kernel_size=3, activation='relu', padding='same'),\n",
    "    layers.Conv2D(filters=128, kernel_size=3, activation='relu', padding='same'),\n",
    "    layers.MaxPool2D(),\n",
    "\n",
    "    # Head\n",
    "    layers.Flatten(),\n",
    "    layers.Dense(6, activation='relu'),\n",
    "    layers.Dropout(0.2),\n",
    "    layers.Dense(1, activation='sigmoid'),\n",
    "])\n",
    "\n",
    "# Check your answer\n",
    "q_1.check()"
   ]
  },
  {
   "cell_type": "code",
   "execution_count": 3,
   "id": "36634b3e",
   "metadata": {
    "execution": {
     "iopub.execute_input": "2024-12-11T16:42:35.434164Z",
     "iopub.status.busy": "2024-12-11T16:42:35.433907Z",
     "iopub.status.idle": "2024-12-11T16:42:35.437292Z",
     "shell.execute_reply": "2024-12-11T16:42:35.436513Z"
    },
    "papermill": {
     "duration": 0.009238,
     "end_time": "2024-12-11T16:42:35.439193",
     "exception": false,
     "start_time": "2024-12-11T16:42:35.429955",
     "status": "completed"
    },
    "tags": []
   },
   "outputs": [],
   "source": [
    "# Lines below will give you a hint or solution code\n",
    "#q_1.hint()\n",
    "#q_1.solution()"
   ]
  },
  {
   "cell_type": "markdown",
   "id": "5205a0e1",
   "metadata": {
    "papermill": {
     "duration": 0.003191,
     "end_time": "2024-12-11T16:42:35.445679",
     "exception": false,
     "start_time": "2024-12-11T16:42:35.442488",
     "status": "completed"
    },
    "tags": []
   },
   "source": [
    "# 2) Compile #\n",
    "\n",
    "To prepare for training, compile the model with an appropriate loss and accuracy metric for the \"Car or Truck\" dataset."
   ]
  },
  {
   "cell_type": "code",
   "execution_count": 4,
   "id": "f9fdcdaf",
   "metadata": {
    "execution": {
     "iopub.execute_input": "2024-12-11T16:42:35.453388Z",
     "iopub.status.busy": "2024-12-11T16:42:35.453157Z",
     "iopub.status.idle": "2024-12-11T16:42:35.646427Z",
     "shell.execute_reply": "2024-12-11T16:42:35.645596Z"
    },
    "lines_to_next_cell": 0,
    "papermill": {
     "duration": 0.198907,
     "end_time": "2024-12-11T16:42:35.648156",
     "exception": false,
     "start_time": "2024-12-11T16:42:35.449249",
     "status": "completed"
    },
    "tags": []
   },
   "outputs": [
    {
     "data": {
      "application/javascript": [
       "parent.postMessage({\"jupyterEvent\": \"custom.exercise_interaction\", \"data\": {\"outcomeType\": 1, \"valueTowardsCompletion\": 0.3333333333333333, \"interactionType\": 1, \"questionType\": 2, \"questionId\": \"2_Q2\", \"learnToolsVersion\": \"0.3.4\", \"failureMessage\": \"\", \"exceptionClass\": \"\", \"trace\": \"\"}}, \"*\")"
      ],
      "text/plain": [
       "<IPython.core.display.Javascript object>"
      ]
     },
     "metadata": {},
     "output_type": "display_data"
    },
    {
     "data": {
      "text/markdown": [
       "<span style=\"color:#33cc33\">Correct</span>"
      ],
      "text/plain": [
       "Correct"
      ]
     },
     "metadata": {},
     "output_type": "display_data"
    }
   ],
   "source": [
    "model.compile(\n",
    "    optimizer=tf.keras.optimizers.Adam(epsilon=0.01),\n",
    "    loss='binary_crossentropy',\n",
    "    metrics=['binary_accuracy']\n",
    ")\n",
    "\n",
    "# Check your answer\n",
    "q_2.check()"
   ]
  },
  {
   "cell_type": "code",
   "execution_count": 5,
   "id": "721d95ba",
   "metadata": {
    "execution": {
     "iopub.execute_input": "2024-12-11T16:42:35.656353Z",
     "iopub.status.busy": "2024-12-11T16:42:35.656062Z",
     "iopub.status.idle": "2024-12-11T16:42:35.667974Z",
     "shell.execute_reply": "2024-12-11T16:42:35.667257Z"
    },
    "lines_to_next_cell": 0,
    "papermill": {
     "duration": 0.017903,
     "end_time": "2024-12-11T16:42:35.669591",
     "exception": false,
     "start_time": "2024-12-11T16:42:35.651688",
     "status": "completed"
    },
    "tags": []
   },
   "outputs": [
    {
     "data": {
      "application/javascript": [
       "parent.postMessage({\"jupyterEvent\": \"custom.exercise_interaction\", \"data\": {\"outcomeType\": 1, \"valueTowardsCompletion\": 0.3333333333333333, \"interactionType\": 1, \"questionType\": 2, \"questionId\": \"2_Q2\", \"learnToolsVersion\": \"0.3.4\", \"failureMessage\": \"\", \"exceptionClass\": \"\", \"trace\": \"\"}}, \"*\")"
      ],
      "text/plain": [
       "<IPython.core.display.Javascript object>"
      ]
     },
     "metadata": {},
     "output_type": "display_data"
    },
    {
     "data": {
      "text/markdown": [
       "<span style=\"color:#33cc33\">Correct</span>"
      ],
      "text/plain": [
       "Correct"
      ]
     },
     "metadata": {},
     "output_type": "display_data"
    }
   ],
   "source": [
    "model.compile(\n",
    "    optimizer=tf.keras.optimizers.Adam(epsilon=0.01),\n",
    "    loss='binary_crossentropy',\n",
    "    metrics=['binary_accuracy'],\n",
    ")\n",
    "q_2.assert_check_passed()"
   ]
  },
  {
   "cell_type": "code",
   "execution_count": 6,
   "id": "fb81702e",
   "metadata": {
    "execution": {
     "iopub.execute_input": "2024-12-11T16:42:35.677334Z",
     "iopub.status.busy": "2024-12-11T16:42:35.677060Z",
     "iopub.status.idle": "2024-12-11T16:42:35.680263Z",
     "shell.execute_reply": "2024-12-11T16:42:35.679495Z"
    },
    "lines_to_next_cell": 0,
    "papermill": {
     "duration": 0.008856,
     "end_time": "2024-12-11T16:42:35.681878",
     "exception": false,
     "start_time": "2024-12-11T16:42:35.673022",
     "status": "completed"
    },
    "tags": []
   },
   "outputs": [],
   "source": [
    "# Lines below will give you a hint or solution code\n",
    "#q_2.hint()\n",
    "#q_2.solution()"
   ]
  },
  {
   "cell_type": "markdown",
   "id": "5ed988bc",
   "metadata": {
    "papermill": {
     "duration": 0.003357,
     "end_time": "2024-12-11T16:42:35.688811",
     "exception": false,
     "start_time": "2024-12-11T16:42:35.685454",
     "status": "completed"
    },
    "tags": []
   },
   "source": [
    "Finally, let's test the performance of this new model. First run this cell to fit the model to the training set."
   ]
  },
  {
   "cell_type": "code",
   "execution_count": 7,
   "id": "2253e848",
   "metadata": {
    "execution": {
     "iopub.execute_input": "2024-12-11T16:42:35.697803Z",
     "iopub.status.busy": "2024-12-11T16:42:35.697581Z",
     "iopub.status.idle": "2024-12-11T16:45:27.305708Z",
     "shell.execute_reply": "2024-12-11T16:45:27.304868Z"
    },
    "papermill": {
     "duration": 171.615088,
     "end_time": "2024-12-11T16:45:27.307540",
     "exception": false,
     "start_time": "2024-12-11T16:42:35.692452",
     "status": "completed"
    },
    "tags": []
   },
   "outputs": [
    {
     "name": "stdout",
     "output_type": "stream",
     "text": [
      "Epoch 1/50\n"
     ]
    },
    {
     "name": "stderr",
     "output_type": "stream",
     "text": [
      "WARNING: All log messages before absl::InitializeLog() is called are written to STDERR\n",
      "I0000 00:00:1733935359.556745      73 device_compiler.h:186] Compiled cluster using XLA!  This line is logged at most once for the lifetime of the process.\n"
     ]
    },
    {
     "name": "stdout",
     "output_type": "stream",
     "text": [
      "80/80 [==============================] - 15s 119ms/step - loss: 0.6768 - binary_accuracy: 0.5796 - val_loss: 0.6605 - val_binary_accuracy: 0.6032\n",
      "Epoch 2/50\n",
      "80/80 [==============================] - 3s 40ms/step - loss: 0.6583 - binary_accuracy: 0.6005 - val_loss: 0.6580 - val_binary_accuracy: 0.5785\n",
      "Epoch 3/50\n",
      "80/80 [==============================] - 3s 40ms/step - loss: 0.6525 - binary_accuracy: 0.5787 - val_loss: 0.6433 - val_binary_accuracy: 0.5785\n",
      "Epoch 4/50\n",
      "80/80 [==============================] - 3s 40ms/step - loss: 0.6414 - binary_accuracy: 0.6093 - val_loss: 0.6429 - val_binary_accuracy: 0.6032\n",
      "Epoch 5/50\n",
      "80/80 [==============================] - 3s 40ms/step - loss: 0.6338 - binary_accuracy: 0.6432 - val_loss: 0.6305 - val_binary_accuracy: 0.6078\n",
      "Epoch 6/50\n",
      "80/80 [==============================] - 3s 40ms/step - loss: 0.6265 - binary_accuracy: 0.6559 - val_loss: 0.6196 - val_binary_accuracy: 0.6399\n",
      "Epoch 7/50\n",
      "80/80 [==============================] - 3s 40ms/step - loss: 0.6221 - binary_accuracy: 0.6658 - val_loss: 0.6155 - val_binary_accuracy: 0.6508\n",
      "Epoch 8/50\n",
      "80/80 [==============================] - 3s 40ms/step - loss: 0.6109 - binary_accuracy: 0.6803 - val_loss: 0.6029 - val_binary_accuracy: 0.6814\n",
      "Epoch 9/50\n",
      "80/80 [==============================] - 3s 40ms/step - loss: 0.6027 - binary_accuracy: 0.6899 - val_loss: 0.5956 - val_binary_accuracy: 0.6878\n",
      "Epoch 10/50\n",
      "80/80 [==============================] - 3s 40ms/step - loss: 0.5938 - binary_accuracy: 0.7026 - val_loss: 0.5947 - val_binary_accuracy: 0.6937\n",
      "Epoch 11/50\n",
      "80/80 [==============================] - 3s 40ms/step - loss: 0.5815 - binary_accuracy: 0.7166 - val_loss: 0.5806 - val_binary_accuracy: 0.7115\n",
      "Epoch 12/50\n",
      "80/80 [==============================] - 3s 40ms/step - loss: 0.5677 - binary_accuracy: 0.7344 - val_loss: 0.5705 - val_binary_accuracy: 0.7173\n",
      "Epoch 13/50\n",
      "80/80 [==============================] - 3s 40ms/step - loss: 0.5497 - binary_accuracy: 0.7401 - val_loss: 0.5525 - val_binary_accuracy: 0.7270\n",
      "Epoch 14/50\n",
      "80/80 [==============================] - 3s 40ms/step - loss: 0.5374 - binary_accuracy: 0.7407 - val_loss: 0.5424 - val_binary_accuracy: 0.7329\n",
      "Epoch 15/50\n",
      "80/80 [==============================] - 3s 40ms/step - loss: 0.5138 - binary_accuracy: 0.7586 - val_loss: 0.5386 - val_binary_accuracy: 0.7414\n",
      "Epoch 16/50\n",
      "80/80 [==============================] - 3s 40ms/step - loss: 0.4920 - binary_accuracy: 0.7792 - val_loss: 0.4986 - val_binary_accuracy: 0.7737\n",
      "Epoch 17/50\n",
      "80/80 [==============================] - 3s 40ms/step - loss: 0.4627 - binary_accuracy: 0.7923 - val_loss: 0.4847 - val_binary_accuracy: 0.7759\n",
      "Epoch 18/50\n",
      "80/80 [==============================] - 3s 40ms/step - loss: 0.4428 - binary_accuracy: 0.8018 - val_loss: 0.5106 - val_binary_accuracy: 0.7553\n",
      "Epoch 19/50\n",
      "80/80 [==============================] - 3s 40ms/step - loss: 0.4201 - binary_accuracy: 0.8194 - val_loss: 0.4492 - val_binary_accuracy: 0.7822\n",
      "Epoch 20/50\n",
      "80/80 [==============================] - 3s 40ms/step - loss: 0.3709 - binary_accuracy: 0.8440 - val_loss: 0.4225 - val_binary_accuracy: 0.8125\n",
      "Epoch 21/50\n",
      "80/80 [==============================] - 3s 40ms/step - loss: 0.3462 - binary_accuracy: 0.8564 - val_loss: 0.4150 - val_binary_accuracy: 0.8117\n",
      "Epoch 22/50\n",
      "80/80 [==============================] - 3s 39ms/step - loss: 0.3247 - binary_accuracy: 0.8585 - val_loss: 0.4015 - val_binary_accuracy: 0.8222\n",
      "Epoch 23/50\n",
      "80/80 [==============================] - 3s 40ms/step - loss: 0.2836 - binary_accuracy: 0.8829 - val_loss: 0.4204 - val_binary_accuracy: 0.8210\n",
      "Epoch 24/50\n",
      "80/80 [==============================] - 3s 40ms/step - loss: 0.2780 - binary_accuracy: 0.8839 - val_loss: 0.4415 - val_binary_accuracy: 0.8040\n",
      "Epoch 25/50\n",
      "80/80 [==============================] - 3s 40ms/step - loss: 0.2708 - binary_accuracy: 0.8853 - val_loss: 0.5074 - val_binary_accuracy: 0.7935\n",
      "Epoch 26/50\n",
      "80/80 [==============================] - 3s 40ms/step - loss: 0.2548 - binary_accuracy: 0.8927 - val_loss: 0.4670 - val_binary_accuracy: 0.7965\n",
      "Epoch 27/50\n",
      "80/80 [==============================] - 3s 40ms/step - loss: 0.2419 - binary_accuracy: 0.8988 - val_loss: 0.4168 - val_binary_accuracy: 0.8291\n",
      "Epoch 28/50\n",
      "80/80 [==============================] - 3s 40ms/step - loss: 0.2046 - binary_accuracy: 0.9144 - val_loss: 0.4278 - val_binary_accuracy: 0.8341\n",
      "Epoch 29/50\n",
      "80/80 [==============================] - 3s 40ms/step - loss: 0.1699 - binary_accuracy: 0.9330 - val_loss: 0.4374 - val_binary_accuracy: 0.8293\n",
      "Epoch 30/50\n",
      "80/80 [==============================] - 3s 40ms/step - loss: 0.1697 - binary_accuracy: 0.9306 - val_loss: 0.4183 - val_binary_accuracy: 0.8367\n",
      "Epoch 31/50\n",
      "80/80 [==============================] - 3s 40ms/step - loss: 0.1680 - binary_accuracy: 0.9306 - val_loss: 0.5127 - val_binary_accuracy: 0.8291\n",
      "Epoch 32/50\n",
      "80/80 [==============================] - 3s 40ms/step - loss: 0.1596 - binary_accuracy: 0.9357 - val_loss: 0.5343 - val_binary_accuracy: 0.8335\n",
      "Epoch 33/50\n",
      "80/80 [==============================] - 3s 40ms/step - loss: 0.1199 - binary_accuracy: 0.9533 - val_loss: 0.5997 - val_binary_accuracy: 0.8242\n",
      "Epoch 34/50\n",
      "80/80 [==============================] - 3s 40ms/step - loss: 0.1055 - binary_accuracy: 0.9590 - val_loss: 0.7001 - val_binary_accuracy: 0.8143\n",
      "Epoch 35/50\n",
      "80/80 [==============================] - 3s 40ms/step - loss: 0.1072 - binary_accuracy: 0.9601 - val_loss: 0.6382 - val_binary_accuracy: 0.8161\n",
      "Epoch 36/50\n",
      "80/80 [==============================] - 3s 39ms/step - loss: 0.1095 - binary_accuracy: 0.9582 - val_loss: 0.8369 - val_binary_accuracy: 0.7951\n",
      "Epoch 37/50\n",
      "80/80 [==============================] - 3s 39ms/step - loss: 0.1314 - binary_accuracy: 0.9500 - val_loss: 0.8645 - val_binary_accuracy: 0.7848\n",
      "Epoch 38/50\n",
      "80/80 [==============================] - 3s 39ms/step - loss: 0.1067 - binary_accuracy: 0.9597 - val_loss: 0.6283 - val_binary_accuracy: 0.8266\n",
      "Epoch 39/50\n",
      "80/80 [==============================] - 3s 39ms/step - loss: 0.1118 - binary_accuracy: 0.9543 - val_loss: 0.5464 - val_binary_accuracy: 0.8442\n",
      "Epoch 40/50\n",
      "80/80 [==============================] - 3s 40ms/step - loss: 0.1112 - binary_accuracy: 0.9586 - val_loss: 0.5647 - val_binary_accuracy: 0.8361\n",
      "Epoch 41/50\n",
      "80/80 [==============================] - 3s 40ms/step - loss: 0.1014 - binary_accuracy: 0.9625 - val_loss: 0.5099 - val_binary_accuracy: 0.8408\n",
      "Epoch 42/50\n",
      "80/80 [==============================] - 3s 39ms/step - loss: 0.0863 - binary_accuracy: 0.9697 - val_loss: 0.4999 - val_binary_accuracy: 0.8200\n",
      "Epoch 43/50\n",
      "80/80 [==============================] - 3s 39ms/step - loss: 0.0728 - binary_accuracy: 0.9724 - val_loss: 0.6268 - val_binary_accuracy: 0.8123\n",
      "Epoch 44/50\n",
      "80/80 [==============================] - 3s 40ms/step - loss: 0.0665 - binary_accuracy: 0.9777 - val_loss: 0.5797 - val_binary_accuracy: 0.8487\n",
      "Epoch 45/50\n",
      "80/80 [==============================] - 3s 40ms/step - loss: 0.0552 - binary_accuracy: 0.9785 - val_loss: 0.6142 - val_binary_accuracy: 0.8590\n",
      "Epoch 46/50\n",
      "80/80 [==============================] - 3s 40ms/step - loss: 0.0490 - binary_accuracy: 0.9830 - val_loss: 0.7054 - val_binary_accuracy: 0.8507\n",
      "Epoch 47/50\n",
      "80/80 [==============================] - 3s 40ms/step - loss: 0.0382 - binary_accuracy: 0.9863 - val_loss: 0.7208 - val_binary_accuracy: 0.8515\n",
      "Epoch 48/50\n",
      "80/80 [==============================] - 3s 39ms/step - loss: 0.0385 - binary_accuracy: 0.9859 - val_loss: 0.7553 - val_binary_accuracy: 0.8505\n",
      "Epoch 49/50\n",
      "80/80 [==============================] - 3s 40ms/step - loss: 0.0321 - binary_accuracy: 0.9881 - val_loss: 0.7845 - val_binary_accuracy: 0.8487\n",
      "Epoch 50/50\n",
      "80/80 [==============================] - 3s 39ms/step - loss: 0.0300 - binary_accuracy: 0.9902 - val_loss: 0.8779 - val_binary_accuracy: 0.8543\n"
     ]
    }
   ],
   "source": [
    "history = model.fit(\n",
    "    ds_train,\n",
    "    validation_data=ds_valid,\n",
    "    epochs=50,\n",
    ")"
   ]
  },
  {
   "cell_type": "markdown",
   "id": "6a919dd0",
   "metadata": {
    "papermill": {
     "duration": 0.09413,
     "end_time": "2024-12-11T16:45:27.497368",
     "exception": false,
     "start_time": "2024-12-11T16:45:27.403238",
     "status": "completed"
    },
    "tags": []
   },
   "source": [
    "And now run the cell below to plot the loss and metric curves for this training run."
   ]
  },
  {
   "cell_type": "code",
   "execution_count": 8,
   "id": "aafa365f",
   "metadata": {
    "execution": {
     "iopub.execute_input": "2024-12-11T16:45:27.693930Z",
     "iopub.status.busy": "2024-12-11T16:45:27.693258Z",
     "iopub.status.idle": "2024-12-11T16:45:28.204017Z",
     "shell.execute_reply": "2024-12-11T16:45:28.203071Z"
    },
    "papermill": {
     "duration": 0.608421,
     "end_time": "2024-12-11T16:45:28.205709",
     "exception": false,
     "start_time": "2024-12-11T16:45:27.597288",
     "status": "completed"
    },
    "tags": []
   },
   "outputs": [
    {
     "data": {
      "image/png": "[encoded data removed]",
      "text/plain": [
       "<Figure size 640x480 with 1 Axes>"
      ]
     },
     "metadata": {},
     "output_type": "display_data"
    },
    {
     "data": {
      "image/png": "[encoded data removed]",
      "text/plain": [
       "<Figure size 640x480 with 1 Axes>"
      ]
     },
     "metadata": {},
     "output_type": "display_data"
    }
   ],
   "source": [
    "import pandas as pd\n",
    "history_frame = pd.DataFrame(history.history)\n",
    "history_frame.loc[:, ['loss', 'val_loss']].plot()\n",
    "history_frame.loc[:, ['binary_accuracy', 'val_binary_accuracy']].plot();"
   ]
  },
  {
   "cell_type": "markdown",
   "id": "67a40c82",
   "metadata": {
    "papermill": {
     "duration": 0.094193,
     "end_time": "2024-12-11T16:45:28.395702",
     "exception": false,
     "start_time": "2024-12-11T16:45:28.301509",
     "status": "completed"
    },
    "tags": []
   },
   "source": [
    "# 3) Train the Model #\n",
    "\n",
    "How would you interpret these training curves? Did this model improve upon the model from the tutorial?"
   ]
  },
  {
   "cell_type": "code",
   "execution_count": 9,
   "id": "4c2b9783",
   "metadata": {
    "execution": {
     "iopub.execute_input": "2024-12-11T16:45:28.587710Z",
     "iopub.status.busy": "2024-12-11T16:45:28.587363Z",
     "iopub.status.idle": "2024-12-11T16:45:28.594355Z",
     "shell.execute_reply": "2024-12-11T16:45:28.593554Z"
    },
    "lines_to_next_cell": 0,
    "papermill": {
     "duration": 0.105563,
     "end_time": "2024-12-11T16:45:28.595971",
     "exception": false,
     "start_time": "2024-12-11T16:45:28.490408",
     "status": "completed"
    },
    "tags": []
   },
   "outputs": [
    {
     "data": {
      "application/javascript": [
       "parent.postMessage({\"jupyterEvent\": \"custom.exercise_interaction\", \"data\": {\"outcomeType\": 1, \"valueTowardsCompletion\": 0.3333333333333333, \"interactionType\": 1, \"questionType\": 4, \"questionId\": \"3_Q3\", \"learnToolsVersion\": \"0.3.4\", \"failureMessage\": \"\", \"exceptionClass\": \"\", \"trace\": \"\"}}, \"*\")"
      ],
      "text/plain": [
       "<IPython.core.display.Javascript object>"
      ]
     },
     "metadata": {},
     "output_type": "display_data"
    },
    {
     "data": {
      "text/markdown": [
       "<span style=\"color:#33cc33\">Correct:</span> \n",
       "\n",
       "\n",
       "The learning curves for the model from the tutorial diverged fairly rapidly. This would indicate that it was prone to overfitting and in need of some regularization. The additional layer in our new model would make it even more prone to overfitting. However, adding some regularization with the `Dropout` layer helped prevent this. These changes improved the validation accuracy of the model by several points.\n"
      ],
      "text/plain": [
       "Correct: \n",
       "\n",
       "\n",
       "The learning curves for the model from the tutorial diverged fairly rapidly. This would indicate that it was prone to overfitting and in need of some regularization. The additional layer in our new model would make it even more prone to overfitting. However, adding some regularization with the `Dropout` layer helped prevent this. These changes improved the validation accuracy of the model by several points."
      ]
     },
     "metadata": {},
     "output_type": "display_data"
    }
   ],
   "source": [
    "# View the solution (Run this code cell to receive credit!)\n",
    "q_3.check()"
   ]
  },
  {
   "cell_type": "markdown",
   "id": "d9893c19",
   "metadata": {
    "papermill": {
     "duration": 0.09328,
     "end_time": "2024-12-11T16:45:28.783676",
     "exception": false,
     "start_time": "2024-12-11T16:45:28.690396",
     "status": "completed"
    },
    "tags": []
   },
   "source": [
    "# Conclusion #\n",
    "\n",
    "These exercises showed you how to design a custom convolutional network to solve a specific classification problem. Though most models these days will be built on top of a pretrained base, it certain circumstances a smaller custom convnet might still be preferable -- such as with a smaller or unusual dataset or when computing resources are very limited. As you saw here, for certain problems they can perform just as well as a pretrained model.\n",
    "\n",
    "# Keep Going #\n",
    "\n",
    "Continue on to [**Lesson 6**](https://www.kaggle.com/ryanholbrook/data-augmentation), where you'll learn a widely-used technique that can give a boost to your training data: **data augmentation**."
   ]
  },
  {
   "cell_type": "markdown",
   "id": "52296dad",
   "metadata": {
    "papermill": {
     "duration": 0.093478,
     "end_time": "2024-12-11T16:45:28.972270",
     "exception": false,
     "start_time": "2024-12-11T16:45:28.878792",
     "status": "completed"
    },
    "tags": []
   },
   "source": [
    "---\n",
    "\n",
    "\n",
    "\n",
    "\n",
    "*Have questions or comments? Visit the [course discussion forum](https://www.kaggle.com/learn/computer-vision/discussion) to chat with other learners.*"
   ]
  }
 ],
 "metadata": {
  "jupytext": {
   "formats": "md,ipynb"
  },
  "kaggle": {
   "accelerator": "gpu",
   "dataSources": [
    {
     "datasetId": 708136,
     "sourceId": 1338830,
     "sourceType": "datasetVersion"
    },
    {
     "datasetId": 701538,
     "sourceId": 1363948,
     "sourceType": "datasetVersion"
    },
    {
     "datasetId": 878523,
     "sourceId": 1495782,
     "sourceType": "datasetVersion"
    }
   ],
   "dockerImageVersionId": 30648,
   "isGpuEnabled": true,
   "isInternetEnabled": false,
   "language": "python",
   "sourceType": "notebook"
  },
  "kernelspec": {
   "display_name": "Python 3",
   "language": "python",
   "name": "python3"
  },
  "language_info": {
   "codemirror_mode": {
    "name": "ipython",
    "version": 3
   },
   "file_extension": ".py",
   "mimetype": "text/x-python",
   "name": "python",
   "nbconvert_exporter": "python",
   "pygments_lexer": "ipython3",
   "version": "3.10.13"
  },
  "papermill": {
   "default_parameters": {},
   "duration": 201.217606,
   "end_time": "2024-12-11T16:45:31.664568",
   "environment_variables": {},
   "exception": null,
   "input_path": "__notebook__.ipynb",
   "output_path": "__notebook__.ipynb",
   "parameters": {},
   "start_time": "2024-12-11T16:42:10.446962",
   "version": "2.5.0"
  }
 },
 "nbformat": 4,
 "nbformat_minor": 5
}
