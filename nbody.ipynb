{
  "nbformat": 4,
  "nbformat_minor": 0,
  "metadata": {
    "colab": {
      "provenance": [],
      "authorship_tag": "ABX9TyMFPkje27/tj7lCDTbeZHpq",
      "include_colab_link": true
    },
    "kernelspec": {
      "name": "python3",
      "display_name": "Python 3"
    },
    "language_info": {
      "name": "python"
    }
  },
  "cells": [
    {
      "cell_type": "markdown",
      "metadata": {
        "id": "view-in-github",
        "colab_type": "text"
      },
      "source": [
        "<a href=\"https://colab.research.google.com/github/sebasanjose/AI-Notebooks/blob/main/nbody.ipynb\" target=\"_parent\"><img src=\"https://colab.research.google.com/assets/colab-badge.svg\" alt=\"Open In Colab\"/></a>"
      ]
    },
    {
      "cell_type": "code",
      "source": [
        "!pip install git+git://github.com/frehseg/nvcc4jupyter.git"
      ],
      "metadata": {
        "colab": {
          "base_uri": "https://localhost:8080/"
        },
        "id": "VpvxbG1kg0ce",
        "outputId": "fa06ca63-32da-454c-8b00-dc9062ab1ba4"
      },
      "execution_count": null,
      "outputs": [
        {
          "output_type": "stream",
          "name": "stdout",
          "text": [
            "Collecting git+git://github.com/frehseg/nvcc4jupyter.git\n",
            "  Cloning git://github.com/frehseg/nvcc4jupyter.git to /tmp/pip-req-build-dvp0ww8l\n",
            "  Running command git clone --filter=blob:none --quiet git://github.com/frehseg/nvcc4jupyter.git /tmp/pip-req-build-dvp0ww8l\n"
          ]
        }
      ]
    },
    {
      "cell_type": "code",
      "execution_count": 2,
      "metadata": {
        "id": "_SdjH-Ajd7lp",
        "colab": {
          "base_uri": "https://localhost:8080/"
        },
        "outputId": "4aa4f28f-0e59-4a31-e7eb-e64f6aa1cdc6"
      },
      "outputs": [
        {
          "output_type": "stream",
          "name": "stdout",
          "text": [
            "Writing nbody.cu\n"
          ]
        }
      ],
      "source": [
        "%%writefile nbody.cu\n",
        "\n",
        "#include <math.h>\n",
        "#include <stdio.h>\n",
        "#include <stdlib.h>\n",
        "#include \"timer.h\"\n",
        "#include \"files.h\"\n",
        "\n",
        "#define SOFTENING 1e-9f\n",
        "\n",
        "/*\n",
        " * Each body contains x, y, and z coordinate positions,\n",
        " * as well as velocities in the x, y, and z directions.\n",
        " */\n",
        "\n",
        "typedef struct { float x, y, z, vx, vy, vz; } Body;\n",
        "\n",
        "/*\n",
        " * Calculate the gravitational impact of all bodies in the system\n",
        " * on all others.\n",
        " */\n",
        "\n",
        "void bodyForce(Body *p, float dt, int n) {\n",
        "  for (int i = 0; i < n; ++i) {\n",
        "    float Fx = 0.0f; float Fy = 0.0f; float Fz = 0.0f;\n",
        "\n",
        "    for (int j = 0; j < n; j++) {\n",
        "      float dx = p[j].x - p[i].x;\n",
        "      float dy = p[j].y - p[i].y;\n",
        "      float dz = p[j].z - p[i].z;\n",
        "      float distSqr = dx*dx + dy*dy + dz*dz + SOFTENING;\n",
        "      float invDist = rsqrtf(distSqr);\n",
        "      float invDist3 = invDist * invDist * invDist;\n",
        "\n",
        "      Fx += dx * invDist3; Fy += dy * invDist3; Fz += dz * invDist3;\n",
        "    }\n",
        "\n",
        "    p[i].vx += dt*Fx; p[i].vy += dt*Fy; p[i].vz += dt*Fz;\n",
        "  }\n",
        "}\n",
        "\n",
        "\n",
        "int main(const int argc, const char** argv) {\n",
        "\n",
        "  // The assessment will test against both 2<11 and 2<15.\n",
        "  // Feel free to pass the command line argument 15 when you generate ./nbody report files\n",
        "  int nBodies = 2<<11;\n",
        "  if (argc > 1) nBodies = 2<<atoi(argv[1]);\n",
        "\n",
        "  // The assessment will pass hidden initialized values to check for correctness.\n",
        "  // You should not make changes to these files, or else the assessment will not work.\n",
        "  const char * initialized_values;\n",
        "  const char * solution_values;\n",
        "\n",
        "  if (nBodies == 2<<11) {\n",
        "    initialized_values = \"09-nbody/files/initialized_4096\";\n",
        "    solution_values = \"09-nbody/files/solution_4096\";\n",
        "  } else { // nBodies == 2<<15\n",
        "    initialized_values = \"09-nbody/files/initialized_65536\";\n",
        "    solution_values = \"09-nbody/files/solution_65536\";\n",
        "  }\n",
        "\n",
        "  if (argc > 2) initialized_values = argv[2];\n",
        "  if (argc > 3) solution_values = argv[3];\n",
        "\n",
        "  const float dt = 0.01f; // Time step\n",
        "  const int nIters = 10;  // Simulation iterations\n",
        "\n",
        "  int bytes = nBodies * sizeof(Body);\n",
        "  float *buf;\n",
        "\n",
        "  buf = (float *)malloc(bytes);\n",
        "\n",
        "  Body *p = (Body*)buf;\n",
        "\n",
        "  read_values_from_file(initialized_values, buf, bytes);\n",
        "\n",
        "  double totalTime = 0.0;\n",
        "\n",
        "  /*\n",
        "   * This simulation will run for 10 cycles of time, calculating gravitational\n",
        "   * interaction amongst bodies, and adjusting their positions to reflect.\n",
        "   */\n",
        "\n",
        "  for (int iter = 0; iter < nIters; iter++) {\n",
        "    StartTimer();\n",
        "\n",
        "  /*\n",
        "   * You will likely wish to refactor the work being done in `bodyForce`,\n",
        "   * and potentially the work to integrate the positions.\n",
        "   */\n",
        "\n",
        "    bodyForce(p, dt, nBodies); // compute interbody forces\n",
        "\n",
        "  /*\n",
        "   * This position integration cannot occur until this round of `bodyForce` has completed.\n",
        "   * Also, the next round of `bodyForce` cannot begin until the integration is complete.\n",
        "   */\n",
        "\n",
        "    for (int i = 0 ; i < nBodies; i++) { // integrate position\n",
        "      p[i].x += p[i].vx*dt;\n",
        "      p[i].y += p[i].vy*dt;\n",
        "      p[i].z += p[i].vz*dt;\n",
        "    }\n",
        "\n",
        "    const double tElapsed = GetTimer() / 1000.0;\n",
        "    totalTime += tElapsed;\n",
        "  }\n",
        "\n",
        "  double avgTime = totalTime / (double)(nIters);\n",
        "  float billionsOfOpsPerSecond = 1e-9 * nBodies * nBodies / avgTime;\n",
        "  write_values_to_file(solution_values, buf, bytes);\n",
        "\n",
        "  // You will likely enjoy watching this value grow as you accelerate the application,\n",
        "  // but beware that a failure to correctly synchronize the device might result in\n",
        "  // unrealistically high values.\n",
        "  printf(\"%0.3f Billion Interactions / second\\n\", billionsOfOpsPerSecond);\n",
        "\n",
        "  free(buf);\n",
        "}\n"
      ]
    },
    {
      "cell_type": "code",
      "source": [
        "!nvcc nbody.cu -o nbody -run"
      ],
      "metadata": {
        "colab": {
          "base_uri": "https://localhost:8080/"
        },
        "id": "vGF_HeiEgSUb",
        "outputId": "14515752-70ec-416e-8f1c-c1208f7b8a22"
      },
      "execution_count": 3,
      "outputs": [
        {
          "output_type": "stream",
          "name": "stdout",
          "text": [
            "\u001b[01m\u001b[Knbody.cu:5:10:\u001b[m\u001b[K \u001b[01;31m\u001b[Kfatal error: \u001b[m\u001b[Ktimer.h: No such file or directory\n",
            "    5 | #include \u001b[01;31m\u001b[K\"timer.h\"\u001b[m\u001b[K\n",
            "      |          \u001b[01;31m\u001b[K^~~~~~~~~\u001b[m\u001b[K\n",
            "compilation terminated.\n"
          ]
        }
      ]
    }
  ]
}