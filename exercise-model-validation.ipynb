{
 "cells": [
  {
   "cell_type": "markdown",
   "id": "a5386e78",
   "metadata": {
    "papermill": {
     "duration": 0.004492,
     "end_time": "2024-11-22T17:20:18.079361",
     "exception": false,
     "start_time": "2024-11-22T17:20:18.074869",
     "status": "completed"
    },
    "tags": []
   },
   "source": [
    "**This notebook is an exercise in the [Introduction to Machine Learning](https://www.kaggle.com/learn/intro-to-machine-learning) course.  You can reference the tutorial at [this link](https://www.kaggle.com/dansbecker/model-validation).**\n",
    "\n",
    "---\n"
   ]
  },
  {
   "cell_type": "markdown",
   "id": "28d2cdc3",
   "metadata": {
    "papermill": {
     "duration": 0.00341,
     "end_time": "2024-11-22T17:20:18.086685",
     "exception": false,
     "start_time": "2024-11-22T17:20:18.083275",
     "status": "completed"
    },
    "tags": []
   },
   "source": [
    "## Recap\n",
    "You've built a model. In this exercise you will test how good your model is.\n",
    "\n",
    "Run the cell below to set up your coding environment where the previous exercise left off."
   ]
  },
  {
   "cell_type": "code",
   "execution_count": 1,
   "id": "9f9ea283",
   "metadata": {
    "execution": {
     "iopub.execute_input": "2024-11-22T17:20:18.095883Z",
     "iopub.status.busy": "2024-11-22T17:20:18.095378Z",
     "iopub.status.idle": "2024-11-22T17:20:21.232943Z",
     "shell.execute_reply": "2024-11-22T17:20:21.231654Z"
    },
    "papermill": {
     "duration": 3.144929,
     "end_time": "2024-11-22T17:20:21.235274",
     "exception": false,
     "start_time": "2024-11-22T17:20:18.090345",
     "status": "completed"
    },
    "tags": []
   },
   "outputs": [
    {
     "name": "stdout",
     "output_type": "stream",
     "text": [
      "First in-sample predictions: [208500. 181500. 223500. 140000. 250000.]\n",
      "Actual target values for those homes: [208500, 181500, 223500, 140000, 250000]\n",
      "Setup Complete\n"
     ]
    }
   ],
   "source": [
    "# Code you have previously used to load data\n",
    "import pandas as pd\n",
    "from sklearn.tree import DecisionTreeRegressor\n",
    "\n",
    "# Path of the file to read\n",
    "iowa_file_path = '../input/home-data-for-ml-course/train.csv'\n",
    "\n",
    "home_data = pd.read_csv(iowa_file_path)\n",
    "y = home_data.SalePrice\n",
    "feature_columns = ['LotArea', 'YearBuilt', '1stFlrSF', '2ndFlrSF', 'FullBath', 'BedroomAbvGr', 'TotRmsAbvGrd']\n",
    "X = home_data[feature_columns]\n",
    "\n",
    "# Specify Model\n",
    "iowa_model = DecisionTreeRegressor()\n",
    "# Fit Model\n",
    "iowa_model.fit(X, y)\n",
    "\n",
    "print(\"First in-sample predictions:\", iowa_model.predict(X.head()))\n",
    "print(\"Actual target values for those homes:\", y.head().tolist())\n",
    "\n",
    "# Set up code checking\n",
    "from learntools.core import binder\n",
    "binder.bind(globals())\n",
    "from learntools.machine_learning.ex4 import *\n",
    "print(\"Setup Complete\")"
   ]
  },
  {
   "cell_type": "markdown",
   "id": "566bb8e4",
   "metadata": {
    "papermill": {
     "duration": 0.003606,
     "end_time": "2024-11-22T17:20:21.242847",
     "exception": false,
     "start_time": "2024-11-22T17:20:21.239241",
     "status": "completed"
    },
    "tags": []
   },
   "source": [
    "# Exercises\n",
    "\n",
    "## Step 1: Split Your Data\n",
    "Use the `train_test_split` function to split up your data.\n",
    "\n",
    "Give it the argument `random_state=1` so the `check` functions know what to expect when verifying your code.\n",
    "\n",
    "Recall, your features are loaded in the DataFrame **X** and your target is loaded in **y**.\n"
   ]
  },
  {
   "cell_type": "code",
   "execution_count": 2,
   "id": "bbda9a8e",
   "metadata": {
    "execution": {
     "iopub.execute_input": "2024-11-22T17:20:21.252225Z",
     "iopub.status.busy": "2024-11-22T17:20:21.251497Z",
     "iopub.status.idle": "2024-11-22T17:20:21.268778Z",
     "shell.execute_reply": "2024-11-22T17:20:21.267543Z"
    },
    "papermill": {
     "duration": 0.024344,
     "end_time": "2024-11-22T17:20:21.270930",
     "exception": false,
     "start_time": "2024-11-22T17:20:21.246586",
     "status": "completed"
    },
    "tags": []
   },
   "outputs": [
    {
     "data": {
      "application/javascript": [
       "parent.postMessage({\"jupyterEvent\": \"custom.exercise_interaction\", \"data\": {\"outcomeType\": 1, \"valueTowardsCompletion\": 0.25, \"interactionType\": 1, \"questionType\": 2, \"questionId\": \"1_SplitData\", \"learnToolsVersion\": \"0.3.4\", \"failureMessage\": \"\", \"exceptionClass\": \"\", \"trace\": \"\"}}, \"*\")"
      ],
      "text/plain": [
       "<IPython.core.display.Javascript object>"
      ]
     },
     "metadata": {},
     "output_type": "display_data"
    },
    {
     "data": {
      "text/markdown": [
       "<span style=\"color:#33cc33\">Correct</span>"
      ],
      "text/plain": [
       "Correct"
      ]
     },
     "metadata": {},
     "output_type": "display_data"
    }
   ],
   "source": [
    "# Import the train_test_split function and uncomment\n",
    "from sklearn.model_selection import train_test_split\n",
    "\n",
    "# fill in and uncomment\n",
    "train_X, val_X, train_y, val_y = train_test_split(X, y, random_state=1)\n",
    "\n",
    "# Check your answer\n",
    "step_1.check()"
   ]
  },
  {
   "cell_type": "code",
   "execution_count": 3,
   "id": "67301a04",
   "metadata": {
    "execution": {
     "iopub.execute_input": "2024-11-22T17:20:21.281024Z",
     "iopub.status.busy": "2024-11-22T17:20:21.280627Z",
     "iopub.status.idle": "2024-11-22T17:20:21.284949Z",
     "shell.execute_reply": "2024-11-22T17:20:21.283911Z"
    },
    "papermill": {
     "duration": 0.01189,
     "end_time": "2024-11-22T17:20:21.287048",
     "exception": false,
     "start_time": "2024-11-22T17:20:21.275158",
     "status": "completed"
    },
    "tags": []
   },
   "outputs": [],
   "source": [
    "# The lines below will show you a hint or the solution.\n",
    "# step_1.hint() \n",
    "# step_1.solution()\n"
   ]
  },
  {
   "cell_type": "markdown",
   "id": "4b416c88",
   "metadata": {
    "papermill": {
     "duration": 0.00374,
     "end_time": "2024-11-22T17:20:21.294941",
     "exception": false,
     "start_time": "2024-11-22T17:20:21.291201",
     "status": "completed"
    },
    "tags": []
   },
   "source": [
    "## Step 2: Specify and Fit the Model\n",
    "\n",
    "Create a `DecisionTreeRegressor` model and fit it to the relevant data.\n",
    "Set `random_state` to 1 again when creating the model."
   ]
  },
  {
   "cell_type": "code",
   "execution_count": 4,
   "id": "a049314a",
   "metadata": {
    "execution": {
     "iopub.execute_input": "2024-11-22T17:20:21.305503Z",
     "iopub.status.busy": "2024-11-22T17:20:21.305089Z",
     "iopub.status.idle": "2024-11-22T17:20:21.332786Z",
     "shell.execute_reply": "2024-11-22T17:20:21.331795Z"
    },
    "papermill": {
     "duration": 0.03617,
     "end_time": "2024-11-22T17:20:21.335065",
     "exception": false,
     "start_time": "2024-11-22T17:20:21.298895",
     "status": "completed"
    },
    "tags": []
   },
   "outputs": [
    {
     "name": "stdout",
     "output_type": "stream",
     "text": [
      "[186500. 184000. 130000.  92000. 164500. 220000. 335000. 144152. 215000.\n",
      " 262000.]\n",
      "[186500. 184000. 130000.  92000. 164500. 220000. 335000. 144152. 215000.\n",
      " 262000.]\n"
     ]
    },
    {
     "data": {
      "application/javascript": [
       "parent.postMessage({\"jupyterEvent\": \"custom.exercise_interaction\", \"data\": {\"outcomeType\": 1, \"valueTowardsCompletion\": 0.25, \"interactionType\": 1, \"questionType\": 2, \"questionId\": \"2_FitModelWithTrain\", \"learnToolsVersion\": \"0.3.4\", \"failureMessage\": \"\", \"exceptionClass\": \"\", \"trace\": \"\"}}, \"*\")"
      ],
      "text/plain": [
       "<IPython.core.display.Javascript object>"
      ]
     },
     "metadata": {},
     "output_type": "display_data"
    },
    {
     "data": {
      "text/markdown": [
       "<span style=\"color:#33cc33\">Correct</span>"
      ],
      "text/plain": [
       "Correct"
      ]
     },
     "metadata": {},
     "output_type": "display_data"
    }
   ],
   "source": [
    "# You imported DecisionTreeRegressor in your last exercise\n",
    "# and that code has been copied to the setup code above. So, no need to\n",
    "# import it again\n",
    "\n",
    "# Specify the model\n",
    "iowa_model = DecisionTreeRegressor(random_state=1)\n",
    "\n",
    "# Fit iowa_model with the training data.\n",
    "iowa_model.fit(train_X, train_y)\n",
    "\n",
    "# Check your answer\n",
    "step_2.check()"
   ]
  },
  {
   "cell_type": "code",
   "execution_count": 5,
   "id": "577a7de7",
   "metadata": {
    "execution": {
     "iopub.execute_input": "2024-11-22T17:20:21.345049Z",
     "iopub.status.busy": "2024-11-22T17:20:21.344692Z",
     "iopub.status.idle": "2024-11-22T17:20:21.349068Z",
     "shell.execute_reply": "2024-11-22T17:20:21.347973Z"
    },
    "papermill": {
     "duration": 0.011827,
     "end_time": "2024-11-22T17:20:21.351153",
     "exception": false,
     "start_time": "2024-11-22T17:20:21.339326",
     "status": "completed"
    },
    "tags": []
   },
   "outputs": [],
   "source": [
    "# step_2.hint()\n",
    "# step_2.solution()"
   ]
  },
  {
   "cell_type": "markdown",
   "id": "73867c46",
   "metadata": {
    "papermill": {
     "duration": 0.004143,
     "end_time": "2024-11-22T17:20:21.360203",
     "exception": false,
     "start_time": "2024-11-22T17:20:21.356060",
     "status": "completed"
    },
    "tags": []
   },
   "source": [
    "## Step 3: Make Predictions with Validation data\n"
   ]
  },
  {
   "cell_type": "code",
   "execution_count": 6,
   "id": "7abb9d30",
   "metadata": {
    "execution": {
     "iopub.execute_input": "2024-11-22T17:20:21.370955Z",
     "iopub.status.busy": "2024-11-22T17:20:21.370582Z",
     "iopub.status.idle": "2024-11-22T17:20:21.382395Z",
     "shell.execute_reply": "2024-11-22T17:20:21.381365Z"
    },
    "papermill": {
     "duration": 0.019551,
     "end_time": "2024-11-22T17:20:21.384552",
     "exception": false,
     "start_time": "2024-11-22T17:20:21.365001",
     "status": "completed"
    },
    "tags": []
   },
   "outputs": [
    {
     "data": {
      "application/javascript": [
       "parent.postMessage({\"jupyterEvent\": \"custom.exercise_interaction\", \"data\": {\"outcomeType\": 1, \"valueTowardsCompletion\": 0.25, \"interactionType\": 1, \"questionType\": 2, \"questionId\": \"3_ValPreds\", \"learnToolsVersion\": \"0.3.4\", \"failureMessage\": \"\", \"exceptionClass\": \"\", \"trace\": \"\"}}, \"*\")"
      ],
      "text/plain": [
       "<IPython.core.display.Javascript object>"
      ]
     },
     "metadata": {},
     "output_type": "display_data"
    },
    {
     "data": {
      "text/markdown": [
       "<span style=\"color:#33cc33\">Correct</span>"
      ],
      "text/plain": [
       "Correct"
      ]
     },
     "metadata": {},
     "output_type": "display_data"
    }
   ],
   "source": [
    "# Predict with all validation observations\n",
    "val_predictions = iowa_model.predict(val_X)\n",
    "\n",
    "# Check your answer\n",
    "step_3.check()"
   ]
  },
  {
   "cell_type": "code",
   "execution_count": 7,
   "id": "4437d022",
   "metadata": {
    "execution": {
     "iopub.execute_input": "2024-11-22T17:20:21.396101Z",
     "iopub.status.busy": "2024-11-22T17:20:21.395725Z",
     "iopub.status.idle": "2024-11-22T17:20:21.400170Z",
     "shell.execute_reply": "2024-11-22T17:20:21.399035Z"
    },
    "papermill": {
     "duration": 0.013071,
     "end_time": "2024-11-22T17:20:21.402344",
     "exception": false,
     "start_time": "2024-11-22T17:20:21.389273",
     "status": "completed"
    },
    "tags": []
   },
   "outputs": [],
   "source": [
    "# step_3.hint()\n",
    "# step_3.solution()"
   ]
  },
  {
   "cell_type": "markdown",
   "id": "61809121",
   "metadata": {
    "papermill": {
     "duration": 0.004259,
     "end_time": "2024-11-22T17:20:21.411322",
     "exception": false,
     "start_time": "2024-11-22T17:20:21.407063",
     "status": "completed"
    },
    "tags": []
   },
   "source": [
    "Inspect your predictions and actual values from validation data."
   ]
  },
  {
   "cell_type": "code",
   "execution_count": 8,
   "id": "2612f8b7",
   "metadata": {
    "execution": {
     "iopub.execute_input": "2024-11-22T17:20:21.422435Z",
     "iopub.status.busy": "2024-11-22T17:20:21.421479Z",
     "iopub.status.idle": "2024-11-22T17:20:21.428885Z",
     "shell.execute_reply": "2024-11-22T17:20:21.427833Z"
    },
    "papermill": {
     "duration": 0.01515,
     "end_time": "2024-11-22T17:20:21.430981",
     "exception": false,
     "start_time": "2024-11-22T17:20:21.415831",
     "status": "completed"
    },
    "tags": []
   },
   "outputs": [
    {
     "name": "stdout",
     "output_type": "stream",
     "text": [
      "[186500. 184000. 130000.  92000. 164500.]\n",
      "---------\n",
      "258     231500\n",
      "267     179500\n",
      "288     122000\n",
      "649      84500\n",
      "1233    142000\n",
      "         ...  \n",
      "1017    187500\n",
      "534     178000\n",
      "1334    125000\n",
      "1369    232000\n",
      "628     135000\n",
      "Name: SalePrice, Length: 365, dtype: int64\n"
     ]
    }
   ],
   "source": [
    "# print the top few validation predictions\n",
    "print(val_predictions[:5])\n",
    "print('---------')\n",
    "# print the top few actual prices from validation data\n",
    "print(val_y)"
   ]
  },
  {
   "cell_type": "markdown",
   "id": "5561e24d",
   "metadata": {
    "papermill": {
     "duration": 0.004319,
     "end_time": "2024-11-22T17:20:21.440006",
     "exception": false,
     "start_time": "2024-11-22T17:20:21.435687",
     "status": "completed"
    },
    "tags": []
   },
   "source": [
    "What do you notice that is different from what you saw with in-sample predictions (which are printed after the top code cell in this page).\n",
    "\n",
    "Do you remember why validation predictions differ from in-sample (or training) predictions? This is an important idea from the last lesson.\n",
    "\n",
    "## Step 4: Calculate the Mean Absolute Error in Validation Data\n"
   ]
  },
  {
   "cell_type": "code",
   "execution_count": 9,
   "id": "b08a02d3",
   "metadata": {
    "execution": {
     "iopub.execute_input": "2024-11-22T17:20:21.450658Z",
     "iopub.status.busy": "2024-11-22T17:20:21.450220Z",
     "iopub.status.idle": "2024-11-22T17:20:21.461161Z",
     "shell.execute_reply": "2024-11-22T17:20:21.460010Z"
    },
    "papermill": {
     "duration": 0.018777,
     "end_time": "2024-11-22T17:20:21.463324",
     "exception": false,
     "start_time": "2024-11-22T17:20:21.444547",
     "status": "completed"
    },
    "tags": []
   },
   "outputs": [
    {
     "name": "stdout",
     "output_type": "stream",
     "text": [
      "29652.931506849316\n"
     ]
    },
    {
     "data": {
      "application/javascript": [
       "parent.postMessage({\"jupyterEvent\": \"custom.exercise_interaction\", \"data\": {\"outcomeType\": 1, \"valueTowardsCompletion\": 0.25, \"interactionType\": 1, \"questionType\": 1, \"questionId\": \"4_MAE\", \"learnToolsVersion\": \"0.3.4\", \"failureMessage\": \"\", \"exceptionClass\": \"\", \"trace\": \"\"}}, \"*\")"
      ],
      "text/plain": [
       "<IPython.core.display.Javascript object>"
      ]
     },
     "metadata": {},
     "output_type": "display_data"
    },
    {
     "data": {
      "text/markdown": [
       "<span style=\"color:#33cc33\">Correct</span>"
      ],
      "text/plain": [
       "Correct"
      ]
     },
     "metadata": {},
     "output_type": "display_data"
    }
   ],
   "source": [
    "from sklearn.metrics import mean_absolute_error\n",
    "val_mae = mean_absolute_error(val_y, val_predictions)\n",
    "\n",
    "# uncomment following line to see the validation_mae\n",
    "print(val_mae)\n",
    "\n",
    "# Check your answer\n",
    "step_4.check()"
   ]
  },
  {
   "cell_type": "code",
   "execution_count": 10,
   "id": "5d3d8325",
   "metadata": {
    "execution": {
     "iopub.execute_input": "2024-11-22T17:20:21.475682Z",
     "iopub.status.busy": "2024-11-22T17:20:21.474200Z",
     "iopub.status.idle": "2024-11-22T17:20:21.479160Z",
     "shell.execute_reply": "2024-11-22T17:20:21.478397Z"
    },
    "papermill": {
     "duration": 0.012867,
     "end_time": "2024-11-22T17:20:21.481205",
     "exception": false,
     "start_time": "2024-11-22T17:20:21.468338",
     "status": "completed"
    },
    "tags": []
   },
   "outputs": [],
   "source": [
    "# step_4.hint()\n",
    "# step_4.solution()"
   ]
  },
  {
   "cell_type": "markdown",
   "id": "f1fe524b",
   "metadata": {
    "papermill": {
     "duration": 0.004863,
     "end_time": "2024-11-22T17:20:21.491250",
     "exception": false,
     "start_time": "2024-11-22T17:20:21.486387",
     "status": "completed"
    },
    "tags": []
   },
   "source": [
    "Is that MAE good?  There isn't a general rule for what values are good that applies across applications. But you'll see how to use (and improve) this number in the next step.\n",
    "\n",
    "# Keep Going\n",
    "\n",
    "You are ready for **[Underfitting and Overfitting](https://www.kaggle.com/dansbecker/underfitting-and-overfitting).**\n"
   ]
  },
  {
   "cell_type": "markdown",
   "id": "fefb8e4e",
   "metadata": {
    "papermill": {
     "duration": 0.00462,
     "end_time": "2024-11-22T17:20:21.501198",
     "exception": false,
     "start_time": "2024-11-22T17:20:21.496578",
     "status": "completed"
    },
    "tags": []
   },
   "source": [
    "---\n",
    "\n",
    "\n",
    "\n",
    "\n",
    "*Have questions or comments? Visit the [course discussion forum](https://www.kaggle.com/learn/intro-to-machine-learning/discussion) to chat with other learners.*"
   ]
  }
 ],
 "metadata": {
  "kaggle": {
   "accelerator": "none",
   "dataSources": [
    {
     "databundleVersionId": 111096,
     "sourceId": 10211,
     "sourceType": "competition"
    },
    {
     "datasetId": 11167,
     "sourceId": 15520,
     "sourceType": "datasetVersion"
    },
    {
     "datasetId": 2709,
     "sourceId": 38454,
     "sourceType": "datasetVersion"
    }
   ],
   "isGpuEnabled": false,
   "isInternetEnabled": false,
   "language": "python",
   "sourceType": "notebook"
  },
  "kernelspec": {
   "display_name": "Python 3",
   "language": "python",
   "name": "python3"
  },
  "language_info": {
   "codemirror_mode": {
    "name": "ipython",
    "version": 3
   },
   "file_extension": ".py",
   "mimetype": "text/x-python",
   "name": "python",
   "nbconvert_exporter": "python",
   "pygments_lexer": "ipython3",
   "version": "3.10.14"
  },
  "papermill": {
   "default_parameters": {},
   "duration": 6.958827,
   "end_time": "2024-11-22T17:20:22.128737",
   "environment_variables": {},
   "exception": null,
   "input_path": "__notebook__.ipynb",
   "output_path": "__notebook__.ipynb",
   "parameters": {},
   "start_time": "2024-11-22T17:20:15.169910",
   "version": "2.6.0"
  }
 },
 "nbformat": 4,
 "nbformat_minor": 5
}
