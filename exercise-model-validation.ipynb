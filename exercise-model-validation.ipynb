{
 "cells": [
  {
   "cell_type": "markdown",
   "id": "2e2a37e4",
   "metadata": {
    "papermill": {
     "duration": 0.004152,
     "end_time": "2024-11-22T17:10:11.033176",
     "exception": false,
     "start_time": "2024-11-22T17:10:11.029024",
     "status": "completed"
    },
    "tags": []
   },
   "source": [
    "**This notebook is an exercise in the [Introduction to Machine Learning](https://www.kaggle.com/learn/intro-to-machine-learning) course.  You can reference the tutorial at [this link](https://www.kaggle.com/dansbecker/model-validation).**\n",
    "\n",
    "---\n"
   ]
  },
  {
   "cell_type": "markdown",
   "id": "02f40a3e",
   "metadata": {
    "papermill": {
     "duration": 0.003151,
     "end_time": "2024-11-22T17:10:11.039911",
     "exception": false,
     "start_time": "2024-11-22T17:10:11.036760",
     "status": "completed"
    },
    "tags": []
   },
   "source": [
    "## Recap\n",
    "You've built a model. In this exercise you will test how good your model is.\n",
    "\n",
    "Run the cell below to set up your coding environment where the previous exercise left off."
   ]
  },
  {
   "cell_type": "code",
   "execution_count": 1,
   "id": "f55b9172",
   "metadata": {
    "execution": {
     "iopub.execute_input": "2024-11-22T17:10:11.048269Z",
     "iopub.status.busy": "2024-11-22T17:10:11.047861Z",
     "iopub.status.idle": "2024-11-22T17:10:13.790884Z",
     "shell.execute_reply": "2024-11-22T17:10:13.789513Z"
    },
    "papermill": {
     "duration": 2.751222,
     "end_time": "2024-11-22T17:10:13.794510",
     "exception": false,
     "start_time": "2024-11-22T17:10:11.043288",
     "status": "completed"
    },
    "tags": []
   },
   "outputs": [
    {
     "name": "stdout",
     "output_type": "stream",
     "text": [
      "First in-sample predictions: [208500. 181500. 223500. 140000. 250000.]\n",
      "Actual target values for those homes: [208500, 181500, 223500, 140000, 250000]\n",
      "Setup Complete\n"
     ]
    }
   ],
   "source": [
    "# Code you have previously used to load data\n",
    "import pandas as pd\n",
    "from sklearn.tree import DecisionTreeRegressor\n",
    "\n",
    "# Path of the file to read\n",
    "iowa_file_path = '../input/home-data-for-ml-course/train.csv'\n",
    "\n",
    "home_data = pd.read_csv(iowa_file_path)\n",
    "y = home_data.SalePrice\n",
    "feature_columns = ['LotArea', 'YearBuilt', '1stFlrSF', '2ndFlrSF', 'FullBath', 'BedroomAbvGr', 'TotRmsAbvGrd']\n",
    "X = home_data[feature_columns]\n",
    "\n",
    "# Specify Model\n",
    "iowa_model = DecisionTreeRegressor()\n",
    "# Fit Model\n",
    "iowa_model.fit(X, y)\n",
    "\n",
    "print(\"First in-sample predictions:\", iowa_model.predict(X.head()))\n",
    "print(\"Actual target values for those homes:\", y.head().tolist())\n",
    "\n",
    "# Set up code checking\n",
    "from learntools.core import binder\n",
    "binder.bind(globals())\n",
    "from learntools.machine_learning.ex4 import *\n",
    "print(\"Setup Complete\")"
   ]
  },
  {
   "cell_type": "markdown",
   "id": "52fc3518",
   "metadata": {
    "papermill": {
     "duration": 0.003604,
     "end_time": "2024-11-22T17:10:13.802178",
     "exception": false,
     "start_time": "2024-11-22T17:10:13.798574",
     "status": "completed"
    },
    "tags": []
   },
   "source": [
    "# Exercises\n",
    "\n",
    "## Step 1: Split Your Data\n",
    "Use the `train_test_split` function to split up your data.\n",
    "\n",
    "Give it the argument `random_state=1` so the `check` functions know what to expect when verifying your code.\n",
    "\n",
    "Recall, your features are loaded in the DataFrame **X** and your target is loaded in **y**.\n"
   ]
  },
  {
   "cell_type": "code",
   "execution_count": 2,
   "id": "6a7ac17a",
   "metadata": {
    "execution": {
     "iopub.execute_input": "2024-11-22T17:10:13.811055Z",
     "iopub.status.busy": "2024-11-22T17:10:13.810640Z",
     "iopub.status.idle": "2024-11-22T17:10:13.820420Z",
     "shell.execute_reply": "2024-11-22T17:10:13.819329Z"
    },
    "papermill": {
     "duration": 0.016595,
     "end_time": "2024-11-22T17:10:13.822414",
     "exception": false,
     "start_time": "2024-11-22T17:10:13.805819",
     "status": "completed"
    },
    "tags": []
   },
   "outputs": [
    {
     "data": {
      "application/javascript": [
       "parent.postMessage({\"jupyterEvent\": \"custom.exercise_interaction\", \"data\": {\"outcomeType\": 2, \"failureMessage\": \"You still need to define the following variables: `val_y`, `val_X`, `train_X`, `train_y`\", \"interactionType\": 1, \"questionType\": 2, \"questionId\": \"1_SplitData\", \"learnToolsVersion\": \"0.3.4\", \"valueTowardsCompletion\": 0.0, \"exceptionClass\": \"\", \"trace\": \"\"}}, \"*\")"
      ],
      "text/plain": [
       "<IPython.core.display.Javascript object>"
      ]
     },
     "metadata": {},
     "output_type": "display_data"
    },
    {
     "data": {
      "text/markdown": [
       "<span style=\"color:#cc3333\">Incorrect:</span> You still need to define the following variables: `val_y`, `val_X`, `train_X`, `train_y`"
      ],
      "text/plain": [
       "Incorrect: You still need to define the following variables: `val_y`, `val_X`, `train_X`, `train_y`"
      ]
     },
     "metadata": {},
     "output_type": "display_data"
    }
   ],
   "source": [
    "# Import the train_test_split function and uncomment\n",
    "# from _ import _\n",
    "\n",
    "# fill in and uncomment\n",
    "# train_X, val_X, train_y, val_y = ____\n",
    "\n",
    "# Check your answer\n",
    "step_1.check()"
   ]
  },
  {
   "cell_type": "code",
   "execution_count": 3,
   "id": "4068b1d6",
   "metadata": {
    "execution": {
     "iopub.execute_input": "2024-11-22T17:10:13.832009Z",
     "iopub.status.busy": "2024-11-22T17:10:13.831530Z",
     "iopub.status.idle": "2024-11-22T17:10:13.836099Z",
     "shell.execute_reply": "2024-11-22T17:10:13.835233Z"
    },
    "papermill": {
     "duration": 0.011787,
     "end_time": "2024-11-22T17:10:13.838213",
     "exception": false,
     "start_time": "2024-11-22T17:10:13.826426",
     "status": "completed"
    },
    "tags": []
   },
   "outputs": [],
   "source": [
    "# The lines below will show you a hint or the solution.\n",
    "# step_1.hint() \n",
    "# step_1.solution()\n"
   ]
  },
  {
   "cell_type": "markdown",
   "id": "cc5565f7",
   "metadata": {
    "papermill": {
     "duration": 0.003724,
     "end_time": "2024-11-22T17:10:13.845936",
     "exception": false,
     "start_time": "2024-11-22T17:10:13.842212",
     "status": "completed"
    },
    "tags": []
   },
   "source": [
    "## Step 2: Specify and Fit the Model\n",
    "\n",
    "Create a `DecisionTreeRegressor` model and fit it to the relevant data.\n",
    "Set `random_state` to 1 again when creating the model."
   ]
  },
  {
   "cell_type": "code",
   "execution_count": 4,
   "id": "d817a6a3",
   "metadata": {
    "execution": {
     "iopub.execute_input": "2024-11-22T17:10:13.856202Z",
     "iopub.status.busy": "2024-11-22T17:10:13.855807Z",
     "iopub.status.idle": "2024-11-22T17:10:13.864277Z",
     "shell.execute_reply": "2024-11-22T17:10:13.863246Z"
    },
    "papermill": {
     "duration": 0.016688,
     "end_time": "2024-11-22T17:10:13.866442",
     "exception": false,
     "start_time": "2024-11-22T17:10:13.849754",
     "status": "completed"
    },
    "tags": []
   },
   "outputs": [
    {
     "data": {
      "application/javascript": [
       "parent.postMessage({\"jupyterEvent\": \"custom.exercise_interaction\", \"data\": {\"outcomeType\": 2, \"failureMessage\": \"You still need to define the following variables: `train_X`, `train_y`, `val_X`\", \"interactionType\": 1, \"questionType\": 2, \"questionId\": \"2_FitModelWithTrain\", \"learnToolsVersion\": \"0.3.4\", \"valueTowardsCompletion\": 0.0, \"exceptionClass\": \"\", \"trace\": \"\"}}, \"*\")"
      ],
      "text/plain": [
       "<IPython.core.display.Javascript object>"
      ]
     },
     "metadata": {},
     "output_type": "display_data"
    },
    {
     "data": {
      "text/markdown": [
       "<span style=\"color:#cc3333\">Incorrect:</span> You still need to define the following variables: `train_X`, `train_y`, `val_X`"
      ],
      "text/plain": [
       "Incorrect: You still need to define the following variables: `train_X`, `train_y`, `val_X`"
      ]
     },
     "metadata": {},
     "output_type": "display_data"
    }
   ],
   "source": [
    "# You imported DecisionTreeRegressor in your last exercise\n",
    "# and that code has been copied to the setup code above. So, no need to\n",
    "# import it again\n",
    "\n",
    "# Specify the model\n",
    "iowa_model = ____\n",
    "\n",
    "# Fit iowa_model with the training data.\n",
    "____\n",
    "\n",
    "# Check your answer\n",
    "step_2.check()"
   ]
  },
  {
   "cell_type": "code",
   "execution_count": 5,
   "id": "513adda4",
   "metadata": {
    "execution": {
     "iopub.execute_input": "2024-11-22T17:10:13.876317Z",
     "iopub.status.busy": "2024-11-22T17:10:13.875917Z",
     "iopub.status.idle": "2024-11-22T17:10:13.880268Z",
     "shell.execute_reply": "2024-11-22T17:10:13.879305Z"
    },
    "papermill": {
     "duration": 0.011741,
     "end_time": "2024-11-22T17:10:13.882369",
     "exception": false,
     "start_time": "2024-11-22T17:10:13.870628",
     "status": "completed"
    },
    "tags": []
   },
   "outputs": [],
   "source": [
    "# step_2.hint()\n",
    "# step_2.solution()"
   ]
  },
  {
   "cell_type": "markdown",
   "id": "5ba59a0b",
   "metadata": {
    "papermill": {
     "duration": 0.003834,
     "end_time": "2024-11-22T17:10:13.890301",
     "exception": false,
     "start_time": "2024-11-22T17:10:13.886467",
     "status": "completed"
    },
    "tags": []
   },
   "source": [
    "## Step 3: Make Predictions with Validation data\n"
   ]
  },
  {
   "cell_type": "code",
   "execution_count": 6,
   "id": "416b6c75",
   "metadata": {
    "execution": {
     "iopub.execute_input": "2024-11-22T17:10:13.899786Z",
     "iopub.status.busy": "2024-11-22T17:10:13.899406Z",
     "iopub.status.idle": "2024-11-22T17:10:13.907608Z",
     "shell.execute_reply": "2024-11-22T17:10:13.906555Z"
    },
    "papermill": {
     "duration": 0.015533,
     "end_time": "2024-11-22T17:10:13.909753",
     "exception": false,
     "start_time": "2024-11-22T17:10:13.894220",
     "status": "completed"
    },
    "tags": []
   },
   "outputs": [
    {
     "data": {
      "application/javascript": [
       "parent.postMessage({\"jupyterEvent\": \"custom.exercise_interaction\", \"data\": {\"outcomeType\": 2, \"failureMessage\": \"You still need to define the following variables: `val_X`\", \"interactionType\": 1, \"questionType\": 2, \"questionId\": \"3_ValPreds\", \"learnToolsVersion\": \"0.3.4\", \"valueTowardsCompletion\": 0.0, \"exceptionClass\": \"\", \"trace\": \"\"}}, \"*\")"
      ],
      "text/plain": [
       "<IPython.core.display.Javascript object>"
      ]
     },
     "metadata": {},
     "output_type": "display_data"
    },
    {
     "data": {
      "text/markdown": [
       "<span style=\"color:#cc3333\">Incorrect:</span> You still need to define the following variables: `val_X`"
      ],
      "text/plain": [
       "Incorrect: You still need to define the following variables: `val_X`"
      ]
     },
     "metadata": {},
     "output_type": "display_data"
    }
   ],
   "source": [
    "# Predict with all validation observations\n",
    "val_predictions = ____\n",
    "\n",
    "# Check your answer\n",
    "step_3.check()"
   ]
  },
  {
   "cell_type": "code",
   "execution_count": 7,
   "id": "f4a7de12",
   "metadata": {
    "execution": {
     "iopub.execute_input": "2024-11-22T17:10:13.920123Z",
     "iopub.status.busy": "2024-11-22T17:10:13.919728Z",
     "iopub.status.idle": "2024-11-22T17:10:13.924010Z",
     "shell.execute_reply": "2024-11-22T17:10:13.923026Z"
    },
    "papermill": {
     "duration": 0.011733,
     "end_time": "2024-11-22T17:10:13.925954",
     "exception": false,
     "start_time": "2024-11-22T17:10:13.914221",
     "status": "completed"
    },
    "tags": []
   },
   "outputs": [],
   "source": [
    "# step_3.hint()\n",
    "# step_3.solution()"
   ]
  },
  {
   "cell_type": "markdown",
   "id": "9c0a31a5",
   "metadata": {
    "papermill": {
     "duration": 0.00423,
     "end_time": "2024-11-22T17:10:13.934763",
     "exception": false,
     "start_time": "2024-11-22T17:10:13.930533",
     "status": "completed"
    },
    "tags": []
   },
   "source": [
    "Inspect your predictions and actual values from validation data."
   ]
  },
  {
   "cell_type": "code",
   "execution_count": 8,
   "id": "d36a05cb",
   "metadata": {
    "execution": {
     "iopub.execute_input": "2024-11-22T17:10:13.944938Z",
     "iopub.status.busy": "2024-11-22T17:10:13.944568Z",
     "iopub.status.idle": "2024-11-22T17:10:13.949724Z",
     "shell.execute_reply": "2024-11-22T17:10:13.948628Z"
    },
    "papermill": {
     "duration": 0.013009,
     "end_time": "2024-11-22T17:10:13.952081",
     "exception": false,
     "start_time": "2024-11-22T17:10:13.939072",
     "status": "completed"
    },
    "tags": []
   },
   "outputs": [
    {
     "name": "stdout",
     "output_type": "stream",
     "text": [
      "<learntools.core.constants.PlaceholderValue object at 0x7af9b3158d60>\n",
      "<learntools.core.constants.PlaceholderValue object at 0x7af9b3158d60>\n"
     ]
    }
   ],
   "source": [
    "# print the top few validation predictions\n",
    "print(____)\n",
    "# print the top few actual prices from validation data\n",
    "print(____)"
   ]
  },
  {
   "cell_type": "markdown",
   "id": "a24bf67b",
   "metadata": {
    "papermill": {
     "duration": 0.004112,
     "end_time": "2024-11-22T17:10:13.961008",
     "exception": false,
     "start_time": "2024-11-22T17:10:13.956896",
     "status": "completed"
    },
    "tags": []
   },
   "source": [
    "What do you notice that is different from what you saw with in-sample predictions (which are printed after the top code cell in this page).\n",
    "\n",
    "Do you remember why validation predictions differ from in-sample (or training) predictions? This is an important idea from the last lesson.\n",
    "\n",
    "## Step 4: Calculate the Mean Absolute Error in Validation Data\n"
   ]
  },
  {
   "cell_type": "code",
   "execution_count": 9,
   "id": "2283c06e",
   "metadata": {
    "execution": {
     "iopub.execute_input": "2024-11-22T17:10:13.971392Z",
     "iopub.status.busy": "2024-11-22T17:10:13.971035Z",
     "iopub.status.idle": "2024-11-22T17:10:13.979860Z",
     "shell.execute_reply": "2024-11-22T17:10:13.978775Z"
    },
    "papermill": {
     "duration": 0.016545,
     "end_time": "2024-11-22T17:10:13.981862",
     "exception": false,
     "start_time": "2024-11-22T17:10:13.965317",
     "status": "completed"
    },
    "tags": []
   },
   "outputs": [
    {
     "data": {
      "application/javascript": [
       "parent.postMessage({\"jupyterEvent\": \"custom.exercise_interaction\", \"data\": {\"outcomeType\": 4, \"interactionType\": 1, \"questionType\": 1, \"questionId\": \"4_MAE\", \"learnToolsVersion\": \"0.3.4\", \"valueTowardsCompletion\": 0.0, \"failureMessage\": \"\", \"exceptionClass\": \"\", \"trace\": \"\"}}, \"*\")"
      ],
      "text/plain": [
       "<IPython.core.display.Javascript object>"
      ]
     },
     "metadata": {},
     "output_type": "display_data"
    },
    {
     "data": {
      "text/markdown": [
       "<span style=\"color:#ccaa33\">Check:</span> When you've updated the starter code, `check()` will tell you whether your code is correct. You need to update the code that creates variable `val_mae`"
      ],
      "text/plain": [
       "Check: When you've updated the starter code, `check()` will tell you whether your code is correct. You need to update the code that creates variable `val_mae`"
      ]
     },
     "metadata": {},
     "output_type": "display_data"
    }
   ],
   "source": [
    "from sklearn.metrics import mean_absolute_error\n",
    "val_mae = ____\n",
    "\n",
    "# uncomment following line to see the validation_mae\n",
    "#print(val_mae)\n",
    "\n",
    "# Check your answer\n",
    "step_4.check()"
   ]
  },
  {
   "cell_type": "code",
   "execution_count": 10,
   "id": "afdb956d",
   "metadata": {
    "execution": {
     "iopub.execute_input": "2024-11-22T17:10:13.993341Z",
     "iopub.status.busy": "2024-11-22T17:10:13.992622Z",
     "iopub.status.idle": "2024-11-22T17:10:13.997031Z",
     "shell.execute_reply": "2024-11-22T17:10:13.996032Z"
    },
    "papermill": {
     "duration": 0.012595,
     "end_time": "2024-11-22T17:10:13.999196",
     "exception": false,
     "start_time": "2024-11-22T17:10:13.986601",
     "status": "completed"
    },
    "tags": []
   },
   "outputs": [],
   "source": [
    "# step_4.hint()\n",
    "# step_4.solution()"
   ]
  },
  {
   "cell_type": "markdown",
   "id": "8e87f814",
   "metadata": {
    "papermill": {
     "duration": 0.004442,
     "end_time": "2024-11-22T17:10:14.008609",
     "exception": false,
     "start_time": "2024-11-22T17:10:14.004167",
     "status": "completed"
    },
    "tags": []
   },
   "source": [
    "Is that MAE good?  There isn't a general rule for what values are good that applies across applications. But you'll see how to use (and improve) this number in the next step.\n",
    "\n",
    "# Keep Going\n",
    "\n",
    "You are ready for **[Underfitting and Overfitting](https://www.kaggle.com/dansbecker/underfitting-and-overfitting).**\n"
   ]
  },
  {
   "cell_type": "markdown",
   "id": "24f585ce",
   "metadata": {
    "papermill": {
     "duration": 0.004373,
     "end_time": "2024-11-22T17:10:14.017848",
     "exception": false,
     "start_time": "2024-11-22T17:10:14.013475",
     "status": "completed"
    },
    "tags": []
   },
   "source": [
    "---\n",
    "\n",
    "\n",
    "\n",
    "\n",
    "*Have questions or comments? Visit the [course discussion forum](https://www.kaggle.com/learn/intro-to-machine-learning/discussion) to chat with other learners.*"
   ]
  }
 ],
 "metadata": {
  "kaggle": {
   "accelerator": "none",
   "dataSources": [
    {
     "databundleVersionId": 111096,
     "sourceId": 10211,
     "sourceType": "competition"
    },
    {
     "datasetId": 11167,
     "sourceId": 15520,
     "sourceType": "datasetVersion"
    },
    {
     "datasetId": 2709,
     "sourceId": 38454,
     "sourceType": "datasetVersion"
    }
   ],
   "isGpuEnabled": false,
   "isInternetEnabled": false,
   "language": "python",
   "sourceType": "notebook"
  },
  "kernelspec": {
   "display_name": "Python 3",
   "language": "python",
   "name": "python3"
  },
  "language_info": {
   "codemirror_mode": {
    "name": "ipython",
    "version": 3
   },
   "file_extension": ".py",
   "mimetype": "text/x-python",
   "name": "python",
   "nbconvert_exporter": "python",
   "pygments_lexer": "ipython3",
   "version": "3.10.14"
  },
  "papermill": {
   "default_parameters": {},
   "duration": 6.362239,
   "end_time": "2024-11-22T17:10:14.645672",
   "environment_variables": {},
   "exception": null,
   "input_path": "__notebook__.ipynb",
   "output_path": "__notebook__.ipynb",
   "parameters": {},
   "start_time": "2024-11-22T17:10:08.283433",
   "version": "2.6.0"
  }
 },
 "nbformat": 4,
 "nbformat_minor": 5
}
