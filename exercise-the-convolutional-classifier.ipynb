{
 "cells": [
  {
   "cell_type": "markdown",
   "id": "f8bb73ec",
   "metadata": {
    "papermill": {
     "duration": 0.003838,
     "end_time": "2024-12-10T19:28:45.415531",
     "exception": false,
     "start_time": "2024-12-10T19:28:45.411693",
     "status": "completed"
    },
    "tags": []
   },
   "source": [
    "**This notebook is an exercise in the [Computer Vision](https://www.kaggle.com/learn/computer-vision) course.  You can reference the tutorial at [this link](https://www.kaggle.com/ryanholbrook/the-convolutional-classifier).**\n",
    "\n",
    "---\n"
   ]
  },
  {
   "cell_type": "markdown",
   "id": "935f2b2d",
   "metadata": {
    "papermill": {
     "duration": 0.00299,
     "end_time": "2024-12-10T19:28:45.421852",
     "exception": false,
     "start_time": "2024-12-10T19:28:45.418862",
     "status": "completed"
    },
    "tags": []
   },
   "source": [
    "<blockquote style=\"margin-right:auto; margin-left:auto; padding: 1em; margin:24px;\">\n",
    "    <strong>Accelerate Training with a Kaggle GPU!</strong><br>\n",
    "Did you know Kaggle offers free time with a GPU accelerator? You can speed up training neural networks in this course by switching to <strong>GPU</strong> in the <em>Accelerator</em> option on the right. (It may already be turned on.) Two things to be aware of:\n",
    "<ul>\n",
    "<li>Changing the <em>Accelerator</em> option will cause the notebook session to restart. You'll need to rerun any setup code.\n",
    "<li>You can have only one GPU session at a time, so be sure to shut the notebook down after you've finished the exercise.\n",
    "</ul>\n",
    "</blockquote>"
   ]
  },
  {
   "cell_type": "markdown",
   "id": "669abe12",
   "metadata": {
    "papermill": {
     "duration": 0.002991,
     "end_time": "2024-12-10T19:28:45.428129",
     "exception": false,
     "start_time": "2024-12-10T19:28:45.425138",
     "status": "completed"
    },
    "tags": []
   },
   "source": [
    "# Introduction #\n",
    "\n",
    "In the tutorial, we saw how to build an image classifier by attaching a head of dense layers to a pretrained base. The base we used was from a model called **VGG16**. We saw that the VGG16 architecture was prone to overfitting this dataset. Over this course, you'll learn a number of ways you can improve upon this initial attempt.\n",
    "\n",
    "The first way you'll see is to use a base more appropriate to the dataset. The base this model comes from is called **InceptionV1** (also known as GoogLeNet). InceptionV1 was one of the early winners of the ImageNet competition. One of its successors, InceptionV4, is among the state of the art today.\n",
    "\n",
    "To get started, run the code cell below to set everything up."
   ]
  },
  {
   "cell_type": "code",
   "execution_count": 1,
   "id": "744e16c3",
   "metadata": {
    "execution": {
     "iopub.execute_input": "2024-12-10T19:28:45.435925Z",
     "iopub.status.busy": "2024-12-10T19:28:45.435584Z",
     "iopub.status.idle": "2024-12-10T19:29:05.157432Z",
     "shell.execute_reply": "2024-12-10T19:29:05.156490Z"
    },
    "lines_to_next_cell": 2,
    "papermill": {
     "duration": 19.728001,
     "end_time": "2024-12-10T19:29:05.159264",
     "exception": false,
     "start_time": "2024-12-10T19:28:45.431263",
     "status": "completed"
    },
    "tags": []
   },
   "outputs": [
    {
     "name": "stderr",
     "output_type": "stream",
     "text": [
      "2024-12-10 19:28:48.024138: E external/local_xla/xla/stream_executor/cuda/cuda_dnn.cc:9261] Unable to register cuDNN factory: Attempting to register factory for plugin cuDNN when one has already been registered\n",
      "2024-12-10 19:28:48.024265: E external/local_xla/xla/stream_executor/cuda/cuda_fft.cc:607] Unable to register cuFFT factory: Attempting to register factory for plugin cuFFT when one has already been registered\n",
      "2024-12-10 19:28:48.194811: E external/local_xla/xla/stream_executor/cuda/cuda_blas.cc:1515] Unable to register cuBLAS factory: Attempting to register factory for plugin cuBLAS when one has already been registered\n"
     ]
    },
    {
     "name": "stdout",
     "output_type": "stream",
     "text": [
      "Found 5117 files belonging to 2 classes.\n",
      "Found 5051 files belonging to 2 classes.\n"
     ]
    }
   ],
   "source": [
    "# Setup feedback system\n",
    "from learntools.core import binder\n",
    "binder.bind(globals())\n",
    "from learntools.computer_vision.ex1 import *\n",
    "\n",
    "# Imports\n",
    "import os, warnings\n",
    "import matplotlib.pyplot as plt\n",
    "from matplotlib import gridspec\n",
    "\n",
    "import numpy as np\n",
    "import tensorflow as tf\n",
    "from tensorflow.keras.preprocessing import image_dataset_from_directory\n",
    "\n",
    "# Reproducability\n",
    "def set_seed(seed=31415):\n",
    "    np.random.seed(seed)\n",
    "    tf.random.set_seed(seed)\n",
    "    os.environ['PYTHONHASHSEED'] = str(seed)\n",
    "    os.environ['TF_DETERMINISTIC_OPS'] = '1'\n",
    "set_seed()\n",
    "\n",
    "# Set Matplotlib defaults\n",
    "plt.rc('figure', autolayout=True)\n",
    "plt.rc('axes', labelweight='bold', labelsize='large',\n",
    "       titleweight='bold', titlesize=18, titlepad=10)\n",
    "plt.rc('image', cmap='magma')\n",
    "warnings.filterwarnings(\"ignore\") # to clean up output cells\n",
    "\n",
    "\n",
    "# Load training and validation sets\n",
    "ds_train_ = image_dataset_from_directory(\n",
    "    '../input/car-or-truck/train',\n",
    "    labels='inferred',\n",
    "    label_mode='binary',\n",
    "    image_size=[128, 128],\n",
    "    interpolation='nearest',\n",
    "    batch_size=64,\n",
    "    shuffle=True,\n",
    ")\n",
    "ds_valid_ = image_dataset_from_directory(\n",
    "    '../input/car-or-truck/valid',\n",
    "    labels='inferred',\n",
    "    label_mode='binary',\n",
    "    image_size=[128, 128],\n",
    "    interpolation='nearest',\n",
    "    batch_size=64,\n",
    "    shuffle=False,\n",
    ")\n",
    "\n",
    "# Data Pipeline\n",
    "def convert_to_float(image, label):\n",
    "    image = tf.image.convert_image_dtype(image, dtype=tf.float32)\n",
    "    return image, label\n",
    "\n",
    "AUTOTUNE = tf.data.experimental.AUTOTUNE\n",
    "ds_train = (\n",
    "    ds_train_\n",
    "    .map(convert_to_float)\n",
    "    .cache()\n",
    "    .prefetch(buffer_size=AUTOTUNE)\n",
    ")\n",
    "ds_valid = (\n",
    "    ds_valid_\n",
    "    .map(convert_to_float)\n",
    "    .cache()\n",
    "    .prefetch(buffer_size=AUTOTUNE)\n",
    ")\n"
   ]
  },
  {
   "cell_type": "markdown",
   "id": "a23276b4",
   "metadata": {
    "papermill": {
     "duration": 0.003236,
     "end_time": "2024-12-10T19:29:05.166104",
     "exception": false,
     "start_time": "2024-12-10T19:29:05.162868",
     "status": "completed"
    },
    "tags": []
   },
   "source": [
    "The **InceptionV1** model pretrained on ImageNet is available in the [TensorFlow Hub](https://www.tensorflow.org/hub/) repository, but we'll load it from a local copy. Run this cell to load InceptionV1 for your base."
   ]
  },
  {
   "cell_type": "code",
   "execution_count": 2,
   "id": "dfd70349",
   "metadata": {
    "execution": {
     "iopub.execute_input": "2024-12-10T19:29:05.173789Z",
     "iopub.status.busy": "2024-12-10T19:29:05.173515Z",
     "iopub.status.idle": "2024-12-10T19:29:08.555915Z",
     "shell.execute_reply": "2024-12-10T19:29:08.555221Z"
    },
    "lines_to_next_cell": 0,
    "papermill": {
     "duration": 3.393535,
     "end_time": "2024-12-10T19:29:08.562998",
     "exception": false,
     "start_time": "2024-12-10T19:29:05.169463",
     "status": "completed"
    },
    "tags": []
   },
   "outputs": [],
   "source": [
    "import tensorflow_hub as hub\n",
    "\n",
    "pretrained_base = tf.keras.models.load_model(\n",
    "    '../input/cv-course-models/cv-course-models/inceptionv1'\n",
    ")"
   ]
  },
  {
   "cell_type": "markdown",
   "id": "264526b8",
   "metadata": {
    "papermill": {
     "duration": 0.003584,
     "end_time": "2024-12-10T19:29:08.570883",
     "exception": false,
     "start_time": "2024-12-10T19:29:08.567299",
     "status": "completed"
    },
    "tags": []
   },
   "source": [
    "# 1) Define Pretrained Base #\n",
    "\n",
    "Now that you have a pretrained base to do our feature extraction, decide whether this base should be trainable or not."
   ]
  },
  {
   "cell_type": "code",
   "execution_count": 3,
   "id": "f746efaa",
   "metadata": {
    "execution": {
     "iopub.execute_input": "2024-12-10T19:29:08.579529Z",
     "iopub.status.busy": "2024-12-10T19:29:08.578798Z",
     "iopub.status.idle": "2024-12-10T19:29:08.586721Z",
     "shell.execute_reply": "2024-12-10T19:29:08.585966Z"
    },
    "lines_to_next_cell": 0,
    "papermill": {
     "duration": 0.013764,
     "end_time": "2024-12-10T19:29:08.588160",
     "exception": false,
     "start_time": "2024-12-10T19:29:08.574396",
     "status": "completed"
    },
    "tags": []
   },
   "outputs": [
    {
     "data": {
      "application/javascript": [
       "parent.postMessage({\"jupyterEvent\": \"custom.exercise_interaction\", \"data\": {\"outcomeType\": 1, \"valueTowardsCompletion\": 0.25, \"interactionType\": 1, \"questionType\": 2, \"questionId\": \"1_Q1\", \"learnToolsVersion\": \"0.3.4\", \"failureMessage\": \"\", \"exceptionClass\": \"\", \"trace\": \"\"}}, \"*\")"
      ],
      "text/plain": [
       "<IPython.core.display.Javascript object>"
      ]
     },
     "metadata": {},
     "output_type": "display_data"
    },
    {
     "data": {
      "text/markdown": [
       "<span style=\"color:#33cc33\">Correct:</span> When doing transfer learning, it's generally not a good idea to retrain the entire base -- at least not without some care. The reason is that the random weights in the head will initially create large gradient updates, which propogate back into the base layers and destroy much of the pretraining. Using techniques known as **fine tuning** it's possible to further train the base on new data, but this requires some care to do well."
      ],
      "text/plain": [
       "Correct: When doing transfer learning, it's generally not a good idea to retrain the entire base -- at least not without some care. The reason is that the random weights in the head will initially create large gradient updates, which propogate back into the base layers and destroy much of the pretraining. Using techniques known as **fine tuning** it's possible to further train the base on new data, but this requires some care to do well."
      ]
     },
     "metadata": {},
     "output_type": "display_data"
    }
   ],
   "source": [
    "# YOUR_CODE_HERE\n",
    "pretrained_base.trainable = False\n",
    "\n",
    "# Check your answer\n",
    "q_1.check()"
   ]
  },
  {
   "cell_type": "code",
   "execution_count": 4,
   "id": "3c96dbae",
   "metadata": {
    "execution": {
     "iopub.execute_input": "2024-12-10T19:29:08.596713Z",
     "iopub.status.busy": "2024-12-10T19:29:08.596483Z",
     "iopub.status.idle": "2024-12-10T19:29:08.599763Z",
     "shell.execute_reply": "2024-12-10T19:29:08.599123Z"
    },
    "papermill": {
     "duration": 0.009133,
     "end_time": "2024-12-10T19:29:08.601284",
     "exception": false,
     "start_time": "2024-12-10T19:29:08.592151",
     "status": "completed"
    },
    "tags": []
   },
   "outputs": [],
   "source": [
    "# Lines below will give you a hint or solution code\n",
    "#q_1.hint()\n",
    "#q_1.solution()"
   ]
  },
  {
   "cell_type": "markdown",
   "id": "c84488a9",
   "metadata": {
    "papermill": {
     "duration": 0.00424,
     "end_time": "2024-12-10T19:29:08.609032",
     "exception": false,
     "start_time": "2024-12-10T19:29:08.604792",
     "status": "completed"
    },
    "tags": []
   },
   "source": [
    "# 2) Attach Head #\n",
    "\n",
    "Now that the base is defined to do the feature extraction, create a head of `Dense` layers to perform the classification, following this diagram:\n",
    "\n",
    "<figure>\n",
    "<img src=\"https://storage.googleapis.com/kaggle-media/learn/images/i5VU7Ry.png\" alt=\"Diagram of the dense head.\">\n",
    "</figure>\n"
   ]
  },
  {
   "cell_type": "code",
   "execution_count": 5,
   "id": "a30c9bb7",
   "metadata": {
    "execution": {
     "iopub.execute_input": "2024-12-10T19:29:08.616922Z",
     "iopub.status.busy": "2024-12-10T19:29:08.616697Z",
     "iopub.status.idle": "2024-12-10T19:29:08.632850Z",
     "shell.execute_reply": "2024-12-10T19:29:08.632051Z"
    },
    "lines_to_next_cell": 0,
    "papermill": {
     "duration": 0.022064,
     "end_time": "2024-12-10T19:29:08.634600",
     "exception": false,
     "start_time": "2024-12-10T19:29:08.612536",
     "status": "completed"
    },
    "tags": []
   },
   "outputs": [
    {
     "data": {
      "application/javascript": [
       "parent.postMessage({\"jupyterEvent\": \"custom.exercise_interaction\", \"data\": {\"outcomeType\": 1, \"valueTowardsCompletion\": 0.25, \"interactionType\": 1, \"questionType\": 2, \"questionId\": \"2_Q2\", \"learnToolsVersion\": \"0.3.4\", \"failureMessage\": \"\", \"exceptionClass\": \"\", \"trace\": \"\"}}, \"*\")"
      ],
      "text/plain": [
       "<IPython.core.display.Javascript object>"
      ]
     },
     "metadata": {},
     "output_type": "display_data"
    },
    {
     "data": {
      "text/markdown": [
       "<span style=\"color:#33cc33\">Correct</span>"
      ],
      "text/plain": [
       "Correct"
      ]
     },
     "metadata": {},
     "output_type": "display_data"
    }
   ],
   "source": [
    "from tensorflow import keras\n",
    "from tensorflow.keras import layers\n",
    "\n",
    "model = keras.Sequential([\n",
    "    pretrained_base,\n",
    "    layers.Flatten(),\n",
    "    layers.Dense(6, activation='relu'),\n",
    "    layers.Dense(1, activation='sigmoid')\n",
    "    # YOUR CODE HERE. Attach a head of dense layers.\n",
    "    # ____\n",
    "])\n",
    "\n",
    "# Check your answer\n",
    "q_2.check()"
   ]
  },
  {
   "cell_type": "code",
   "execution_count": 6,
   "id": "c4cbde75",
   "metadata": {
    "execution": {
     "iopub.execute_input": "2024-12-10T19:29:08.643283Z",
     "iopub.status.busy": "2024-12-10T19:29:08.643017Z",
     "iopub.status.idle": "2024-12-10T19:29:08.646173Z",
     "shell.execute_reply": "2024-12-10T19:29:08.645531Z"
    },
    "papermill": {
     "duration": 0.009296,
     "end_time": "2024-12-10T19:29:08.647792",
     "exception": false,
     "start_time": "2024-12-10T19:29:08.638496",
     "status": "completed"
    },
    "tags": []
   },
   "outputs": [],
   "source": [
    "# Lines below will give you a hint or solution code\n",
    "#q_2.hint()\n",
    "#q_2.solution()"
   ]
  },
  {
   "cell_type": "markdown",
   "id": "7948fd92",
   "metadata": {
    "papermill": {
     "duration": 0.003647,
     "end_time": "2024-12-10T19:29:08.655240",
     "exception": false,
     "start_time": "2024-12-10T19:29:08.651593",
     "status": "completed"
    },
    "tags": []
   },
   "source": [
    "# 3) Train #\n",
    "\n",
    "Before training a model in Keras, you need to specify an *optimizer* to perform the gradient descent, a *loss function* to be minimized, and (optionally) any *performance metrics*. The optimization algorithm we'll use for this course is called [\"Adam\"](https://keras.io/api/optimizers/adam/), which generally performs well regardless of what kind of problem you're trying to solve.\n",
    "\n",
    "The loss and the metrics, however, need to match the kind of problem you're trying to solve. Our problem is a **binary classification** problem: `Car` coded as 0, and `Truck` coded as 1. Choose an appropriate loss and an appropriate accuracy metric for binary classification."
   ]
  },
  {
   "cell_type": "code",
   "execution_count": 7,
   "id": "0e5d6cc7",
   "metadata": {
    "execution": {
     "iopub.execute_input": "2024-12-10T19:29:08.663697Z",
     "iopub.status.busy": "2024-12-10T19:29:08.663471Z",
     "iopub.status.idle": "2024-12-10T19:29:08.687394Z",
     "shell.execute_reply": "2024-12-10T19:29:08.686610Z"
    },
    "lines_to_next_cell": 0,
    "papermill": {
     "duration": 0.029934,
     "end_time": "2024-12-10T19:29:08.688897",
     "exception": false,
     "start_time": "2024-12-10T19:29:08.658963",
     "status": "completed"
    },
    "tags": []
   },
   "outputs": [
    {
     "data": {
      "application/javascript": [
       "parent.postMessage({\"jupyterEvent\": \"custom.exercise_interaction\", \"data\": {\"outcomeType\": 1, \"valueTowardsCompletion\": 0.25, \"interactionType\": 1, \"questionType\": 2, \"questionId\": \"3_Q3\", \"learnToolsVersion\": \"0.3.4\", \"failureMessage\": \"\", \"exceptionClass\": \"\", \"trace\": \"\"}}, \"*\")"
      ],
      "text/plain": [
       "<IPython.core.display.Javascript object>"
      ]
     },
     "metadata": {},
     "output_type": "display_data"
    },
    {
     "data": {
      "text/markdown": [
       "<span style=\"color:#33cc33\">Correct</span>"
      ],
      "text/plain": [
       "Correct"
      ]
     },
     "metadata": {},
     "output_type": "display_data"
    }
   ],
   "source": [
    "# YOUR CODE HERE: what loss function should you use for a binary\n",
    "# classification problem? (Your answer for each should be a string.)\n",
    "optimizer = tf.keras.optimizers.Adam(epsilon=0.01)\n",
    "model.compile(\n",
    "    optimizer=optimizer,\n",
    "    loss = 'binary_crossentropy',\n",
    "    metrics=['binary_accuracy'],\n",
    ")\n",
    "\n",
    "# Check your answer\n",
    "q_3.check()"
   ]
  },
  {
   "cell_type": "code",
   "execution_count": 8,
   "id": "60620890",
   "metadata": {
    "execution": {
     "iopub.execute_input": "2024-12-10T19:29:08.697557Z",
     "iopub.status.busy": "2024-12-10T19:29:08.697328Z",
     "iopub.status.idle": "2024-12-10T19:29:08.700519Z",
     "shell.execute_reply": "2024-12-10T19:29:08.699856Z"
    },
    "lines_to_next_cell": 0,
    "papermill": {
     "duration": 0.009221,
     "end_time": "2024-12-10T19:29:08.701991",
     "exception": false,
     "start_time": "2024-12-10T19:29:08.692770",
     "status": "completed"
    },
    "tags": []
   },
   "outputs": [],
   "source": [
    "# Lines below will give you a hint or solution code\n",
    "#q_3.hint()\n",
    "#q_3.solution()"
   ]
  },
  {
   "cell_type": "code",
   "execution_count": 9,
   "id": "84ddbe67",
   "metadata": {
    "execution": {
     "iopub.execute_input": "2024-12-10T19:29:08.710597Z",
     "iopub.status.busy": "2024-12-10T19:29:08.710375Z",
     "iopub.status.idle": "2024-12-10T19:31:02.649603Z",
     "shell.execute_reply": "2024-12-10T19:31:02.648611Z"
    },
    "papermill": {
     "duration": 113.945507,
     "end_time": "2024-12-10T19:31:02.651384",
     "exception": false,
     "start_time": "2024-12-10T19:29:08.705877",
     "status": "completed"
    },
    "tags": []
   },
   "outputs": [
    {
     "name": "stdout",
     "output_type": "stream",
     "text": [
      "Epoch 1/30\n"
     ]
    },
    {
     "name": "stderr",
     "output_type": "stream",
     "text": [
      "WARNING: All log messages before absl::InitializeLog() is called are written to STDERR\n",
      "I0000 00:00:1733858955.633336      75 device_compiler.h:186] Compiled cluster using XLA!  This line is logged at most once for the lifetime of the process.\n"
     ]
    },
    {
     "name": "stdout",
     "output_type": "stream",
     "text": [
      "80/80 [==============================] - 18s 140ms/step - loss: 0.5905 - binary_accuracy: 0.6883 - val_loss: 0.4410 - val_binary_accuracy: 0.8040\n",
      "Epoch 2/30\n",
      "80/80 [==============================] - 3s 41ms/step - loss: 0.4208 - binary_accuracy: 0.8122 - val_loss: 0.4000 - val_binary_accuracy: 0.8262\n",
      "Epoch 3/30\n",
      "80/80 [==============================] - 3s 42ms/step - loss: 0.3895 - binary_accuracy: 0.8306 - val_loss: 0.3853 - val_binary_accuracy: 0.8329\n",
      "Epoch 4/30\n",
      "80/80 [==============================] - 3s 41ms/step - loss: 0.3707 - binary_accuracy: 0.8411 - val_loss: 0.3764 - val_binary_accuracy: 0.8347\n",
      "Epoch 5/30\n",
      "80/80 [==============================] - 3s 41ms/step - loss: 0.3572 - binary_accuracy: 0.8478 - val_loss: 0.3709 - val_binary_accuracy: 0.8386\n",
      "Epoch 6/30\n",
      "80/80 [==============================] - 3s 41ms/step - loss: 0.3465 - binary_accuracy: 0.8542 - val_loss: 0.3660 - val_binary_accuracy: 0.8400\n",
      "Epoch 7/30\n",
      "80/80 [==============================] - 3s 42ms/step - loss: 0.3373 - binary_accuracy: 0.8589 - val_loss: 0.3624 - val_binary_accuracy: 0.8422\n",
      "Epoch 8/30\n",
      "80/80 [==============================] - 3s 41ms/step - loss: 0.3295 - binary_accuracy: 0.8605 - val_loss: 0.3592 - val_binary_accuracy: 0.8446\n",
      "Epoch 9/30\n",
      "80/80 [==============================] - 3s 41ms/step - loss: 0.3224 - binary_accuracy: 0.8646 - val_loss: 0.3561 - val_binary_accuracy: 0.8462\n",
      "Epoch 10/30\n",
      "80/80 [==============================] - 3s 41ms/step - loss: 0.3162 - binary_accuracy: 0.8683 - val_loss: 0.3530 - val_binary_accuracy: 0.8476\n",
      "Epoch 11/30\n",
      "80/80 [==============================] - 3s 41ms/step - loss: 0.3107 - binary_accuracy: 0.8702 - val_loss: 0.3506 - val_binary_accuracy: 0.8487\n",
      "Epoch 12/30\n",
      "80/80 [==============================] - 3s 41ms/step - loss: 0.3056 - binary_accuracy: 0.8728 - val_loss: 0.3487 - val_binary_accuracy: 0.8503\n",
      "Epoch 13/30\n",
      "80/80 [==============================] - 3s 42ms/step - loss: 0.3009 - binary_accuracy: 0.8755 - val_loss: 0.3467 - val_binary_accuracy: 0.8513\n",
      "Epoch 14/30\n",
      "80/80 [==============================] - 3s 41ms/step - loss: 0.2965 - binary_accuracy: 0.8773 - val_loss: 0.3450 - val_binary_accuracy: 0.8519\n",
      "Epoch 15/30\n",
      "80/80 [==============================] - 3s 42ms/step - loss: 0.2924 - binary_accuracy: 0.8794 - val_loss: 0.3441 - val_binary_accuracy: 0.8519\n",
      "Epoch 16/30\n",
      "80/80 [==============================] - 3s 42ms/step - loss: 0.2885 - binary_accuracy: 0.8822 - val_loss: 0.3423 - val_binary_accuracy: 0.8535\n",
      "Epoch 17/30\n",
      "80/80 [==============================] - 3s 41ms/step - loss: 0.2848 - binary_accuracy: 0.8839 - val_loss: 0.3407 - val_binary_accuracy: 0.8547\n",
      "Epoch 18/30\n",
      "80/80 [==============================] - 3s 41ms/step - loss: 0.2812 - binary_accuracy: 0.8863 - val_loss: 0.3395 - val_binary_accuracy: 0.8557\n",
      "Epoch 19/30\n",
      "80/80 [==============================] - 3s 41ms/step - loss: 0.2779 - binary_accuracy: 0.8872 - val_loss: 0.3382 - val_binary_accuracy: 0.8575\n",
      "Epoch 20/30\n",
      "80/80 [==============================] - 3s 41ms/step - loss: 0.2748 - binary_accuracy: 0.8902 - val_loss: 0.3373 - val_binary_accuracy: 0.8580\n",
      "Epoch 21/30\n",
      "80/80 [==============================] - 3s 41ms/step - loss: 0.2719 - binary_accuracy: 0.8915 - val_loss: 0.3363 - val_binary_accuracy: 0.8588\n",
      "Epoch 22/30\n",
      "80/80 [==============================] - 3s 42ms/step - loss: 0.2691 - binary_accuracy: 0.8927 - val_loss: 0.3356 - val_binary_accuracy: 0.8588\n",
      "Epoch 23/30\n",
      "80/80 [==============================] - 3s 41ms/step - loss: 0.2664 - binary_accuracy: 0.8933 - val_loss: 0.3347 - val_binary_accuracy: 0.8594\n",
      "Epoch 24/30\n",
      "80/80 [==============================] - 3s 41ms/step - loss: 0.2640 - binary_accuracy: 0.8939 - val_loss: 0.3343 - val_binary_accuracy: 0.8600\n",
      "Epoch 25/30\n",
      "80/80 [==============================] - 3s 41ms/step - loss: 0.2615 - binary_accuracy: 0.8949 - val_loss: 0.3335 - val_binary_accuracy: 0.8614\n",
      "Epoch 26/30\n",
      "80/80 [==============================] - 3s 41ms/step - loss: 0.2593 - binary_accuracy: 0.8954 - val_loss: 0.3333 - val_binary_accuracy: 0.8614\n",
      "Epoch 27/30\n",
      "80/80 [==============================] - 3s 41ms/step - loss: 0.2570 - binary_accuracy: 0.8953 - val_loss: 0.3330 - val_binary_accuracy: 0.8614\n",
      "Epoch 28/30\n",
      "80/80 [==============================] - 3s 41ms/step - loss: 0.2549 - binary_accuracy: 0.8956 - val_loss: 0.3330 - val_binary_accuracy: 0.8618\n",
      "Epoch 29/30\n",
      "80/80 [==============================] - 3s 41ms/step - loss: 0.2529 - binary_accuracy: 0.8968 - val_loss: 0.3328 - val_binary_accuracy: 0.8622\n",
      "Epoch 30/30\n",
      "80/80 [==============================] - 3s 41ms/step - loss: 0.2509 - binary_accuracy: 0.8976 - val_loss: 0.3325 - val_binary_accuracy: 0.8622\n"
     ]
    }
   ],
   "source": [
    "history = model.fit(\n",
    "    ds_train,\n",
    "    validation_data=ds_valid,\n",
    "    epochs=30,\n",
    ")"
   ]
  },
  {
   "cell_type": "markdown",
   "id": "c8676bac",
   "metadata": {
    "papermill": {
     "duration": 0.041775,
     "end_time": "2024-12-10T19:31:02.736788",
     "exception": false,
     "start_time": "2024-12-10T19:31:02.695013",
     "status": "completed"
    },
    "tags": []
   },
   "source": [
    "Run the cell below to plot the loss and metric curves for this training run."
   ]
  },
  {
   "cell_type": "code",
   "execution_count": 10,
   "id": "aeff52c0",
   "metadata": {
    "execution": {
     "iopub.execute_input": "2024-12-10T19:31:02.822055Z",
     "iopub.status.busy": "2024-12-10T19:31:02.821286Z",
     "iopub.status.idle": "2024-12-10T19:31:03.331463Z",
     "shell.execute_reply": "2024-12-10T19:31:03.330414Z"
    },
    "papermill": {
     "duration": 0.555161,
     "end_time": "2024-12-10T19:31:03.333566",
     "exception": false,
     "start_time": "2024-12-10T19:31:02.778405",
     "status": "completed"
    },
    "tags": []
   },
   "outputs": [
    {
     "data": {
      "image/png": "[encoded data removed]",
      "text/plain": [
       "<Figure size 640x480 with 1 Axes>"
      ]
     },
     "metadata": {},
     "output_type": "display_data"
    },
    {
     "data": {
      "image/png": "[encoded data removed]",
      "text/plain": [
       "<Figure size 640x480 with 1 Axes>"
      ]
     },
     "metadata": {},
     "output_type": "display_data"
    }
   ],
   "source": [
    "import pandas as pd\n",
    "history_frame = pd.DataFrame(history.history)\n",
    "history_frame.loc[:, ['loss', 'val_loss']].plot()\n",
    "history_frame.loc[:, ['binary_accuracy', 'val_binary_accuracy']].plot();"
   ]
  },
  {
   "cell_type": "markdown",
   "id": "42255a3d",
   "metadata": {
    "papermill": {
     "duration": 0.044161,
     "end_time": "2024-12-10T19:31:03.465115",
     "exception": false,
     "start_time": "2024-12-10T19:31:03.420954",
     "status": "completed"
    },
    "tags": []
   },
   "source": [
    "# 4) Examine Loss and Accuracy #\n",
    "\n",
    "Do you notice a difference between these learning curves and the curves for VGG16 from the tutorial? What does this difference tell you about what this model (InceptionV2) learned compared to VGG16? Are there ways in which one is better than the other? Worse?\n",
    "\n",
    "After you've thought about it, run the cell below to see the answer."
   ]
  },
  {
   "cell_type": "code",
   "execution_count": 11,
   "id": "35c0e713",
   "metadata": {
    "execution": {
     "iopub.execute_input": "2024-12-10T19:31:03.552442Z",
     "iopub.status.busy": "2024-12-10T19:31:03.552116Z",
     "iopub.status.idle": "2024-12-10T19:31:03.558845Z",
     "shell.execute_reply": "2024-12-10T19:31:03.558039Z"
    },
    "papermill": {
     "duration": 0.052211,
     "end_time": "2024-12-10T19:31:03.560503",
     "exception": false,
     "start_time": "2024-12-10T19:31:03.508292",
     "status": "completed"
    },
    "tags": []
   },
   "outputs": [
    {
     "data": {
      "application/javascript": [
       "parent.postMessage({\"jupyterEvent\": \"custom.exercise_interaction\", \"data\": {\"outcomeType\": 1, \"valueTowardsCompletion\": 0.25, \"interactionType\": 1, \"questionType\": 4, \"questionId\": \"4_Q4\", \"learnToolsVersion\": \"0.3.4\", \"failureMessage\": \"\", \"exceptionClass\": \"\", \"trace\": \"\"}}, \"*\")"
      ],
      "text/plain": [
       "<IPython.core.display.Javascript object>"
      ]
     },
     "metadata": {},
     "output_type": "display_data"
    },
    {
     "data": {
      "text/markdown": [
       "<span style=\"color:#33cc33\">Correct:</span> \n",
       "\n",
       "That the training loss and validation loss stay fairly close is evidence that the model isn't just memorizing the training data, but rather learning general properties of the two classes. But, because this model converges at a loss greater than the VGG16 model, it's likely that it is underfitting some, and could benefit from some extra capacity.\n"
      ],
      "text/plain": [
       "Correct: \n",
       "\n",
       "That the training loss and validation loss stay fairly close is evidence that the model isn't just memorizing the training data, but rather learning general properties of the two classes. But, because this model converges at a loss greater than the VGG16 model, it's likely that it is underfitting some, and could benefit from some extra capacity."
      ]
     },
     "metadata": {},
     "output_type": "display_data"
    }
   ],
   "source": [
    "# View the solution (Run this code cell to receive credit!)\n",
    "q_4.check()"
   ]
  },
  {
   "cell_type": "markdown",
   "id": "344f8db3",
   "metadata": {
    "papermill": {
     "duration": 0.043759,
     "end_time": "2024-12-10T19:31:03.647584",
     "exception": false,
     "start_time": "2024-12-10T19:31:03.603825",
     "status": "completed"
    },
    "tags": []
   },
   "source": [
    "# Conclusion #\n",
    "\n",
    "In this first lesson, you learned the basics of **convolutional image classifiers**, that they consist of a **base** for extracting features from images, and a **head** which uses the features to decide the image's class. You also saw how to build a classifier with **transfer learning** on pretrained base. "
   ]
  },
  {
   "cell_type": "markdown",
   "id": "ec2098e8",
   "metadata": {
    "papermill": {
     "duration": 0.042673,
     "end_time": "2024-12-10T19:31:03.733434",
     "exception": false,
     "start_time": "2024-12-10T19:31:03.690761",
     "status": "completed"
    },
    "tags": []
   },
   "source": [
    "# Keep Going #\n",
    "\n",
    "Move on to [**Lesson 2**](https://www.kaggle.com/ryanholbrook/convolution-and-relu) for a detailed look at how the base does this feature extraction. (It's really cool!)"
   ]
  },
  {
   "cell_type": "markdown",
   "id": "58897904",
   "metadata": {
    "papermill": {
     "duration": 0.042762,
     "end_time": "2024-12-10T19:31:03.819203",
     "exception": false,
     "start_time": "2024-12-10T19:31:03.776441",
     "status": "completed"
    },
    "tags": []
   },
   "source": [
    "---\n",
    "\n",
    "\n",
    "\n",
    "\n",
    "*Have questions or comments? Visit the [course discussion forum](https://www.kaggle.com/learn/computer-vision/discussion) to chat with other learners.*"
   ]
  }
 ],
 "metadata": {
  "jupytext": {
   "formats": "ipynb,md",
   "split_at_heading": true
  },
  "kaggle": {
   "accelerator": "gpu",
   "dataSources": [
    {
     "datasetId": 708136,
     "sourceId": 1338830,
     "sourceType": "datasetVersion"
    },
    {
     "datasetId": 701538,
     "sourceId": 1363948,
     "sourceType": "datasetVersion"
    },
    {
     "datasetId": 878523,
     "sourceId": 1495782,
     "sourceType": "datasetVersion"
    }
   ],
   "dockerImageVersionId": 30648,
   "isGpuEnabled": true,
   "isInternetEnabled": false,
   "language": "python",
   "sourceType": "notebook"
  },
  "kernelspec": {
   "display_name": "Python 3",
   "language": "python",
   "name": "python3"
  },
  "language_info": {
   "codemirror_mode": {
    "name": "ipython",
    "version": 3
   },
   "file_extension": ".py",
   "mimetype": "text/x-python",
   "name": "python",
   "nbconvert_exporter": "python",
   "pygments_lexer": "ipython3",
   "version": "3.10.13"
  },
  "papermill": {
   "default_parameters": {},
   "duration": 144.185938,
   "end_time": "2024-12-10T19:31:07.103320",
   "environment_variables": {},
   "exception": null,
   "input_path": "__notebook__.ipynb",
   "output_path": "__notebook__.ipynb",
   "parameters": {},
   "start_time": "2024-12-10T19:28:42.917382",
   "version": "2.5.0"
  }
 },
 "nbformat": 4,
 "nbformat_minor": 5
}
