{
 "cells": [
  {
   "cell_type": "markdown",
   "id": "5dd4ac04",
   "metadata": {
    "papermill": {
     "duration": 0.004426,
     "end_time": "2024-12-11T17:10:22.611564",
     "exception": false,
     "start_time": "2024-12-11T17:10:22.607138",
     "status": "completed"
    },
    "tags": []
   },
   "source": [
    "**This notebook is an exercise in the [Computer Vision](https://www.kaggle.com/learn/computer-vision) course.  You can reference the tutorial at [this link](https://www.kaggle.com/ryanholbrook/the-convolutional-classifier).**\n",
    "\n",
    "---\n"
   ]
  },
  {
   "cell_type": "markdown",
   "id": "1e81d8b2",
   "metadata": {
    "papermill": {
     "duration": 0.003373,
     "end_time": "2024-12-11T17:10:22.618841",
     "exception": false,
     "start_time": "2024-12-11T17:10:22.615468",
     "status": "completed"
    },
    "tags": []
   },
   "source": [
    "<blockquote style=\"margin-right:auto; margin-left:auto; padding: 1em; margin:24px;\">\n",
    "    <strong>Accelerate Training with a Kaggle GPU!</strong><br>\n",
    "Did you know Kaggle offers free time with a GPU accelerator? You can speed up training neural networks in this course by switching to <strong>GPU</strong> in the <em>Accelerator</em> option on the right. (It may already be turned on.) Two things to be aware of:\n",
    "<ul>\n",
    "<li>Changing the <em>Accelerator</em> option will cause the notebook session to restart. You'll need to rerun any setup code.\n",
    "<li>You can have only one GPU session at a time, so be sure to shut the notebook down after you've finished the exercise.\n",
    "</ul>\n",
    "</blockquote>"
   ]
  },
  {
   "cell_type": "markdown",
   "id": "6d64b274",
   "metadata": {
    "papermill": {
     "duration": 0.003346,
     "end_time": "2024-12-11T17:10:22.625843",
     "exception": false,
     "start_time": "2024-12-11T17:10:22.622497",
     "status": "completed"
    },
    "tags": []
   },
   "source": [
    "# Introduction #\n",
    "\n",
    "In the tutorial, we saw how to build an image classifier by attaching a head of dense layers to a pretrained base. The base we used was from a model called **VGG16**. We saw that the VGG16 architecture was prone to overfitting this dataset. Over this course, you'll learn a number of ways you can improve upon this initial attempt.\n",
    "\n",
    "The first way you'll see is to use a base more appropriate to the dataset. The base this model comes from is called **InceptionV1** (also known as GoogLeNet). InceptionV1 was one of the early winners of the ImageNet competition. One of its successors, InceptionV4, is among the state of the art today.\n",
    "\n",
    "To get started, run the code cell below to set everything up."
   ]
  },
  {
   "cell_type": "code",
   "execution_count": 1,
   "id": "d316750b",
   "metadata": {
    "execution": {
     "iopub.execute_input": "2024-12-11T17:10:22.634485Z",
     "iopub.status.busy": "2024-12-11T17:10:22.634112Z",
     "iopub.status.idle": "2024-12-11T17:10:52.277848Z",
     "shell.execute_reply": "2024-12-11T17:10:52.277118Z"
    },
    "lines_to_next_cell": 2,
    "papermill": {
     "duration": 29.650508,
     "end_time": "2024-12-11T17:10:52.279882",
     "exception": false,
     "start_time": "2024-12-11T17:10:22.629374",
     "status": "completed"
    },
    "tags": []
   },
   "outputs": [
    {
     "name": "stderr",
     "output_type": "stream",
     "text": [
      "2024-12-11 17:10:25.347009: E external/local_xla/xla/stream_executor/cuda/cuda_dnn.cc:9261] Unable to register cuDNN factory: Attempting to register factory for plugin cuDNN when one has already been registered\n",
      "2024-12-11 17:10:25.347136: E external/local_xla/xla/stream_executor/cuda/cuda_fft.cc:607] Unable to register cuFFT factory: Attempting to register factory for plugin cuFFT when one has already been registered\n",
      "2024-12-11 17:10:25.485429: E external/local_xla/xla/stream_executor/cuda/cuda_blas.cc:1515] Unable to register cuBLAS factory: Attempting to register factory for plugin cuBLAS when one has already been registered\n"
     ]
    },
    {
     "name": "stdout",
     "output_type": "stream",
     "text": [
      "Found 5117 files belonging to 2 classes.\n",
      "Found 5051 files belonging to 2 classes.\n"
     ]
    }
   ],
   "source": [
    "# Setup feedback system\n",
    "from learntools.core import binder\n",
    "binder.bind(globals())\n",
    "from learntools.computer_vision.ex1 import *\n",
    "\n",
    "# Imports\n",
    "import os, warnings\n",
    "import matplotlib.pyplot as plt\n",
    "from matplotlib import gridspec\n",
    "\n",
    "import numpy as np\n",
    "import tensorflow as tf\n",
    "from tensorflow.keras.preprocessing import image_dataset_from_directory\n",
    "\n",
    "# Reproducability\n",
    "def set_seed(seed=31415):\n",
    "    np.random.seed(seed)\n",
    "    tf.random.set_seed(seed)\n",
    "    os.environ['PYTHONHASHSEED'] = str(seed)\n",
    "    os.environ['TF_DETERMINISTIC_OPS'] = '1'\n",
    "set_seed()\n",
    "\n",
    "# Set Matplotlib defaults\n",
    "plt.rc('figure', autolayout=True)\n",
    "plt.rc('axes', labelweight='bold', labelsize='large',\n",
    "       titleweight='bold', titlesize=18, titlepad=10)\n",
    "plt.rc('image', cmap='magma')\n",
    "warnings.filterwarnings(\"ignore\") # to clean up output cells\n",
    "\n",
    "\n",
    "# Load training and validation sets\n",
    "ds_train_ = image_dataset_from_directory(\n",
    "    '../input/car-or-truck/train',\n",
    "    labels='inferred',\n",
    "    label_mode='binary',\n",
    "    image_size=[128, 128],\n",
    "    interpolation='nearest',\n",
    "    batch_size=64,\n",
    "    shuffle=True,\n",
    ")\n",
    "ds_valid_ = image_dataset_from_directory(\n",
    "    '../input/car-or-truck/valid',\n",
    "    labels='inferred',\n",
    "    label_mode='binary',\n",
    "    image_size=[128, 128],\n",
    "    interpolation='nearest',\n",
    "    batch_size=64,\n",
    "    shuffle=False,\n",
    ")\n",
    "\n",
    "# Data Pipeline\n",
    "def convert_to_float(image, label):\n",
    "    image = tf.image.convert_image_dtype(image, dtype=tf.float32)\n",
    "    return image, label\n",
    "\n",
    "AUTOTUNE = tf.data.experimental.AUTOTUNE\n",
    "ds_train = (\n",
    "    ds_train_\n",
    "    .map(convert_to_float)\n",
    "    .cache()\n",
    "    .prefetch(buffer_size=AUTOTUNE)\n",
    ")\n",
    "ds_valid = (\n",
    "    ds_valid_\n",
    "    .map(convert_to_float)\n",
    "    .cache()\n",
    "    .prefetch(buffer_size=AUTOTUNE)\n",
    ")\n"
   ]
  },
  {
   "cell_type": "markdown",
   "id": "524c6aad",
   "metadata": {
    "papermill": {
     "duration": 0.00385,
     "end_time": "2024-12-11T17:10:52.287792",
     "exception": false,
     "start_time": "2024-12-11T17:10:52.283942",
     "status": "completed"
    },
    "tags": []
   },
   "source": [
    "The **InceptionV1** model pretrained on ImageNet is available in the [TensorFlow Hub](https://www.tensorflow.org/hub/) repository, but we'll load it from a local copy. Run this cell to load InceptionV1 for your base."
   ]
  },
  {
   "cell_type": "code",
   "execution_count": 2,
   "id": "4752da74",
   "metadata": {
    "execution": {
     "iopub.execute_input": "2024-12-11T17:10:52.297143Z",
     "iopub.status.busy": "2024-12-11T17:10:52.296432Z",
     "iopub.status.idle": "2024-12-11T17:10:55.588878Z",
     "shell.execute_reply": "2024-12-11T17:10:55.588180Z"
    },
    "lines_to_next_cell": 0,
    "papermill": {
     "duration": 3.299905,
     "end_time": "2024-12-11T17:10:55.591601",
     "exception": false,
     "start_time": "2024-12-11T17:10:52.291696",
     "status": "completed"
    },
    "tags": []
   },
   "outputs": [],
   "source": [
    "import tensorflow_hub as hub\n",
    "\n",
    "pretrained_base = tf.keras.models.load_model(\n",
    "    '../input/cv-course-models/cv-course-models/inceptionv1'\n",
    ")"
   ]
  },
  {
   "cell_type": "markdown",
   "id": "9427cee1",
   "metadata": {
    "papermill": {
     "duration": 0.003546,
     "end_time": "2024-12-11T17:10:55.601373",
     "exception": false,
     "start_time": "2024-12-11T17:10:55.597827",
     "status": "completed"
    },
    "tags": []
   },
   "source": [
    "# 1) Define Pretrained Base #\n",
    "\n",
    "Now that you have a pretrained base to do our feature extraction, decide whether this base should be trainable or not."
   ]
  },
  {
   "cell_type": "code",
   "execution_count": 3,
   "id": "327d1849",
   "metadata": {
    "execution": {
     "iopub.execute_input": "2024-12-11T17:10:55.610551Z",
     "iopub.status.busy": "2024-12-11T17:10:55.609775Z",
     "iopub.status.idle": "2024-12-11T17:10:55.617813Z",
     "shell.execute_reply": "2024-12-11T17:10:55.617069Z"
    },
    "lines_to_next_cell": 0,
    "papermill": {
     "duration": 0.014403,
     "end_time": "2024-12-11T17:10:55.619538",
     "exception": false,
     "start_time": "2024-12-11T17:10:55.605135",
     "status": "completed"
    },
    "tags": []
   },
   "outputs": [
    {
     "data": {
      "application/javascript": [
       "parent.postMessage({\"jupyterEvent\": \"custom.exercise_interaction\", \"data\": {\"outcomeType\": 1, \"valueTowardsCompletion\": 0.25, \"interactionType\": 1, \"questionType\": 2, \"questionId\": \"1_Q1\", \"learnToolsVersion\": \"0.3.4\", \"failureMessage\": \"\", \"exceptionClass\": \"\", \"trace\": \"\"}}, \"*\")"
      ],
      "text/plain": [
       "<IPython.core.display.Javascript object>"
      ]
     },
     "metadata": {},
     "output_type": "display_data"
    },
    {
     "data": {
      "text/markdown": [
       "<span style=\"color:#33cc33\">Correct:</span> When doing transfer learning, it's generally not a good idea to retrain the entire base -- at least not without some care. The reason is that the random weights in the head will initially create large gradient updates, which propogate back into the base layers and destroy much of the pretraining. Using techniques known as **fine tuning** it's possible to further train the base on new data, but this requires some care to do well."
      ],
      "text/plain": [
       "Correct: When doing transfer learning, it's generally not a good idea to retrain the entire base -- at least not without some care. The reason is that the random weights in the head will initially create large gradient updates, which propogate back into the base layers and destroy much of the pretraining. Using techniques known as **fine tuning** it's possible to further train the base on new data, but this requires some care to do well."
      ]
     },
     "metadata": {},
     "output_type": "display_data"
    }
   ],
   "source": [
    "# YOUR_CODE_HERE\n",
    "pretrained_base.trainable = False\n",
    "\n",
    "# Check your answer\n",
    "q_1.check()"
   ]
  },
  {
   "cell_type": "code",
   "execution_count": 4,
   "id": "15b3755d",
   "metadata": {
    "execution": {
     "iopub.execute_input": "2024-12-11T17:10:55.628149Z",
     "iopub.status.busy": "2024-12-11T17:10:55.627918Z",
     "iopub.status.idle": "2024-12-11T17:10:55.631188Z",
     "shell.execute_reply": "2024-12-11T17:10:55.630574Z"
    },
    "papermill": {
     "duration": 0.00947,
     "end_time": "2024-12-11T17:10:55.632817",
     "exception": false,
     "start_time": "2024-12-11T17:10:55.623347",
     "status": "completed"
    },
    "tags": []
   },
   "outputs": [],
   "source": [
    "# Lines below will give you a hint or solution code\n",
    "#q_1.hint()\n",
    "#q_1.solution()"
   ]
  },
  {
   "cell_type": "markdown",
   "id": "b421ccf0",
   "metadata": {
    "papermill": {
     "duration": 0.003578,
     "end_time": "2024-12-11T17:10:55.641173",
     "exception": false,
     "start_time": "2024-12-11T17:10:55.637595",
     "status": "completed"
    },
    "tags": []
   },
   "source": [
    "# 2) Attach Head #\n",
    "\n",
    "Now that the base is defined to do the feature extraction, create a head of `Dense` layers to perform the classification, following this diagram:\n",
    "\n",
    "<figure>\n",
    "<img src=\"https://storage.googleapis.com/kaggle-media/learn/images/i5VU7Ry.png\" alt=\"Diagram of the dense head.\">\n",
    "</figure>\n"
   ]
  },
  {
   "cell_type": "code",
   "execution_count": 5,
   "id": "11e0bb28",
   "metadata": {
    "execution": {
     "iopub.execute_input": "2024-12-11T17:10:55.649780Z",
     "iopub.status.busy": "2024-12-11T17:10:55.649540Z",
     "iopub.status.idle": "2024-12-11T17:10:55.666285Z",
     "shell.execute_reply": "2024-12-11T17:10:55.665440Z"
    },
    "lines_to_next_cell": 0,
    "papermill": {
     "duration": 0.022971,
     "end_time": "2024-12-11T17:10:55.667964",
     "exception": false,
     "start_time": "2024-12-11T17:10:55.644993",
     "status": "completed"
    },
    "tags": []
   },
   "outputs": [
    {
     "data": {
      "application/javascript": [
       "parent.postMessage({\"jupyterEvent\": \"custom.exercise_interaction\", \"data\": {\"outcomeType\": 1, \"valueTowardsCompletion\": 0.25, \"interactionType\": 1, \"questionType\": 2, \"questionId\": \"2_Q2\", \"learnToolsVersion\": \"0.3.4\", \"failureMessage\": \"\", \"exceptionClass\": \"\", \"trace\": \"\"}}, \"*\")"
      ],
      "text/plain": [
       "<IPython.core.display.Javascript object>"
      ]
     },
     "metadata": {},
     "output_type": "display_data"
    },
    {
     "data": {
      "text/markdown": [
       "<span style=\"color:#33cc33\">Correct</span>"
      ],
      "text/plain": [
       "Correct"
      ]
     },
     "metadata": {},
     "output_type": "display_data"
    }
   ],
   "source": [
    "from tensorflow import keras\n",
    "from tensorflow.keras import layers\n",
    "\n",
    "model = keras.Sequential([\n",
    "    pretrained_base,\n",
    "    layers.Flatten(),\n",
    "    layers.Dense(6, activation='relu'),\n",
    "    layers.Dense(1, activation='sigmoid')\n",
    "    # YOUR CODE HERE. Attach a head of dense layers.\n",
    "    # ____\n",
    "])\n",
    "\n",
    "# Check your answer\n",
    "q_2.check()"
   ]
  },
  {
   "cell_type": "code",
   "execution_count": 6,
   "id": "842fa469",
   "metadata": {
    "execution": {
     "iopub.execute_input": "2024-12-11T17:10:55.677241Z",
     "iopub.status.busy": "2024-12-11T17:10:55.677011Z",
     "iopub.status.idle": "2024-12-11T17:10:55.680758Z",
     "shell.execute_reply": "2024-12-11T17:10:55.680122Z"
    },
    "papermill": {
     "duration": 0.010026,
     "end_time": "2024-12-11T17:10:55.682195",
     "exception": false,
     "start_time": "2024-12-11T17:10:55.672169",
     "status": "completed"
    },
    "tags": []
   },
   "outputs": [],
   "source": [
    "# Lines below will give you a hint or solution code\n",
    "#q_2.hint()\n",
    "#q_2.solution()"
   ]
  },
  {
   "cell_type": "markdown",
   "id": "3ead38dc",
   "metadata": {
    "papermill": {
     "duration": 0.003819,
     "end_time": "2024-12-11T17:10:55.690032",
     "exception": false,
     "start_time": "2024-12-11T17:10:55.686213",
     "status": "completed"
    },
    "tags": []
   },
   "source": [
    "# 3) Train #\n",
    "\n",
    "Before training a model in Keras, you need to specify an *optimizer* to perform the gradient descent, a *loss function* to be minimized, and (optionally) any *performance metrics*. The optimization algorithm we'll use for this course is called [\"Adam\"](https://keras.io/api/optimizers/adam/), which generally performs well regardless of what kind of problem you're trying to solve.\n",
    "\n",
    "The loss and the metrics, however, need to match the kind of problem you're trying to solve. Our problem is a **binary classification** problem: `Car` coded as 0, and `Truck` coded as 1. Choose an appropriate loss and an appropriate accuracy metric for binary classification."
   ]
  },
  {
   "cell_type": "code",
   "execution_count": 7,
   "id": "059fe218",
   "metadata": {
    "execution": {
     "iopub.execute_input": "2024-12-11T17:10:55.698922Z",
     "iopub.status.busy": "2024-12-11T17:10:55.698693Z",
     "iopub.status.idle": "2024-12-11T17:10:55.724737Z",
     "shell.execute_reply": "2024-12-11T17:10:55.723880Z"
    },
    "lines_to_next_cell": 0,
    "papermill": {
     "duration": 0.032409,
     "end_time": "2024-12-11T17:10:55.726415",
     "exception": false,
     "start_time": "2024-12-11T17:10:55.694006",
     "status": "completed"
    },
    "tags": []
   },
   "outputs": [
    {
     "data": {
      "application/javascript": [
       "parent.postMessage({\"jupyterEvent\": \"custom.exercise_interaction\", \"data\": {\"outcomeType\": 1, \"valueTowardsCompletion\": 0.25, \"interactionType\": 1, \"questionType\": 2, \"questionId\": \"3_Q3\", \"learnToolsVersion\": \"0.3.4\", \"failureMessage\": \"\", \"exceptionClass\": \"\", \"trace\": \"\"}}, \"*\")"
      ],
      "text/plain": [
       "<IPython.core.display.Javascript object>"
      ]
     },
     "metadata": {},
     "output_type": "display_data"
    },
    {
     "data": {
      "text/markdown": [
       "<span style=\"color:#33cc33\">Correct</span>"
      ],
      "text/plain": [
       "Correct"
      ]
     },
     "metadata": {},
     "output_type": "display_data"
    }
   ],
   "source": [
    "# YOUR CODE HERE: what loss function should you use for a binary\n",
    "# classification problem? (Your answer for each should be a string.)\n",
    "optimizer = tf.keras.optimizers.Adam(epsilon=0.01)\n",
    "model.compile(\n",
    "    optimizer=optimizer,\n",
    "    loss = 'binary_crossentropy',\n",
    "    metrics=['binary_accuracy'],\n",
    ")\n",
    "\n",
    "# Check your answer\n",
    "q_3.check()"
   ]
  },
  {
   "cell_type": "code",
   "execution_count": 8,
   "id": "01fe8751",
   "metadata": {
    "execution": {
     "iopub.execute_input": "2024-12-11T17:10:55.736171Z",
     "iopub.status.busy": "2024-12-11T17:10:55.735925Z",
     "iopub.status.idle": "2024-12-11T17:10:55.739147Z",
     "shell.execute_reply": "2024-12-11T17:10:55.738456Z"
    },
    "lines_to_next_cell": 0,
    "papermill": {
     "duration": 0.009755,
     "end_time": "2024-12-11T17:10:55.740666",
     "exception": false,
     "start_time": "2024-12-11T17:10:55.730911",
     "status": "completed"
    },
    "tags": []
   },
   "outputs": [],
   "source": [
    "# Lines below will give you a hint or solution code\n",
    "#q_3.hint()\n",
    "#q_3.solution()"
   ]
  },
  {
   "cell_type": "code",
   "execution_count": 9,
   "id": "69f242ae",
   "metadata": {
    "execution": {
     "iopub.execute_input": "2024-12-11T17:10:55.750042Z",
     "iopub.status.busy": "2024-12-11T17:10:55.749793Z",
     "iopub.status.idle": "2024-12-11T17:12:54.271622Z",
     "shell.execute_reply": "2024-12-11T17:12:54.270714Z"
    },
    "papermill": {
     "duration": 118.528484,
     "end_time": "2024-12-11T17:12:54.273473",
     "exception": false,
     "start_time": "2024-12-11T17:10:55.744989",
     "status": "completed"
    },
    "tags": []
   },
   "outputs": [
    {
     "name": "stdout",
     "output_type": "stream",
     "text": [
      "Epoch 1/30\n"
     ]
    },
    {
     "name": "stderr",
     "output_type": "stream",
     "text": [
      "WARNING: All log messages before absl::InitializeLog() is called are written to STDERR\n",
      "I0000 00:00:1733937063.550930      75 device_compiler.h:186] Compiled cluster using XLA!  This line is logged at most once for the lifetime of the process.\n"
     ]
    },
    {
     "name": "stdout",
     "output_type": "stream",
     "text": [
      "80/80 [==============================] - 20s 145ms/step - loss: 0.6555 - binary_accuracy: 0.5918 - val_loss: 0.5552 - val_binary_accuracy: 0.7414\n",
      "Epoch 2/30\n",
      "80/80 [==============================] - 3s 43ms/step - loss: 0.4685 - binary_accuracy: 0.7874 - val_loss: 0.4234 - val_binary_accuracy: 0.8107\n",
      "Epoch 3/30\n",
      "80/80 [==============================] - 3s 43ms/step - loss: 0.4050 - binary_accuracy: 0.8229 - val_loss: 0.3937 - val_binary_accuracy: 0.8315\n",
      "Epoch 4/30\n",
      "80/80 [==============================] - 3s 43ms/step - loss: 0.3820 - binary_accuracy: 0.8343 - val_loss: 0.3809 - val_binary_accuracy: 0.8361\n",
      "Epoch 5/30\n",
      "80/80 [==============================] - 3s 43ms/step - loss: 0.3670 - binary_accuracy: 0.8423 - val_loss: 0.3729 - val_binary_accuracy: 0.8398\n",
      "Epoch 6/30\n",
      "80/80 [==============================] - 3s 43ms/step - loss: 0.3556 - binary_accuracy: 0.8474 - val_loss: 0.3671 - val_binary_accuracy: 0.8430\n",
      "Epoch 7/30\n",
      "80/80 [==============================] - 3s 43ms/step - loss: 0.3461 - binary_accuracy: 0.8523 - val_loss: 0.3627 - val_binary_accuracy: 0.8460\n",
      "Epoch 8/30\n",
      "80/80 [==============================] - 3s 43ms/step - loss: 0.3381 - binary_accuracy: 0.8569 - val_loss: 0.3593 - val_binary_accuracy: 0.8470\n",
      "Epoch 9/30\n",
      "80/80 [==============================] - 3s 43ms/step - loss: 0.3310 - binary_accuracy: 0.8614 - val_loss: 0.3563 - val_binary_accuracy: 0.8470\n",
      "Epoch 10/30\n",
      "80/80 [==============================] - 3s 43ms/step - loss: 0.3247 - binary_accuracy: 0.8661 - val_loss: 0.3540 - val_binary_accuracy: 0.8478\n",
      "Epoch 11/30\n",
      "80/80 [==============================] - 3s 42ms/step - loss: 0.3190 - binary_accuracy: 0.8693 - val_loss: 0.3518 - val_binary_accuracy: 0.8483\n",
      "Epoch 12/30\n",
      "80/80 [==============================] - 3s 42ms/step - loss: 0.3138 - binary_accuracy: 0.8716 - val_loss: 0.3502 - val_binary_accuracy: 0.8501\n",
      "Epoch 13/30\n",
      "80/80 [==============================] - 3s 42ms/step - loss: 0.3090 - binary_accuracy: 0.8736 - val_loss: 0.3483 - val_binary_accuracy: 0.8507\n",
      "Epoch 14/30\n",
      "80/80 [==============================] - 3s 43ms/step - loss: 0.3043 - binary_accuracy: 0.8775 - val_loss: 0.3470 - val_binary_accuracy: 0.8521\n",
      "Epoch 15/30\n",
      "80/80 [==============================] - 3s 43ms/step - loss: 0.3002 - binary_accuracy: 0.8796 - val_loss: 0.3462 - val_binary_accuracy: 0.8527\n",
      "Epoch 16/30\n",
      "80/80 [==============================] - 3s 43ms/step - loss: 0.2964 - binary_accuracy: 0.8816 - val_loss: 0.3449 - val_binary_accuracy: 0.8523\n",
      "Epoch 17/30\n",
      "80/80 [==============================] - 3s 43ms/step - loss: 0.2925 - binary_accuracy: 0.8812 - val_loss: 0.3429 - val_binary_accuracy: 0.8535\n",
      "Epoch 18/30\n",
      "80/80 [==============================] - 3s 43ms/step - loss: 0.2886 - binary_accuracy: 0.8845 - val_loss: 0.3430 - val_binary_accuracy: 0.8541\n",
      "Epoch 19/30\n",
      "80/80 [==============================] - 3s 43ms/step - loss: 0.2854 - binary_accuracy: 0.8851 - val_loss: 0.3408 - val_binary_accuracy: 0.8539\n",
      "Epoch 20/30\n",
      "80/80 [==============================] - 3s 43ms/step - loss: 0.2821 - binary_accuracy: 0.8868 - val_loss: 0.3409 - val_binary_accuracy: 0.8549\n",
      "Epoch 21/30\n",
      "80/80 [==============================] - 3s 43ms/step - loss: 0.2791 - binary_accuracy: 0.8888 - val_loss: 0.3395 - val_binary_accuracy: 0.8580\n",
      "Epoch 22/30\n",
      "80/80 [==============================] - 3s 43ms/step - loss: 0.2757 - binary_accuracy: 0.8908 - val_loss: 0.3386 - val_binary_accuracy: 0.8580\n",
      "Epoch 23/30\n",
      "80/80 [==============================] - 3s 42ms/step - loss: 0.2725 - binary_accuracy: 0.8921 - val_loss: 0.3381 - val_binary_accuracy: 0.8592\n",
      "Epoch 24/30\n",
      "80/80 [==============================] - 3s 43ms/step - loss: 0.2698 - binary_accuracy: 0.8927 - val_loss: 0.3372 - val_binary_accuracy: 0.8602\n",
      "Epoch 25/30\n",
      "80/80 [==============================] - 3s 42ms/step - loss: 0.2667 - binary_accuracy: 0.8949 - val_loss: 0.3374 - val_binary_accuracy: 0.8608\n",
      "Epoch 26/30\n",
      "80/80 [==============================] - 3s 42ms/step - loss: 0.2642 - binary_accuracy: 0.8960 - val_loss: 0.3359 - val_binary_accuracy: 0.8622\n",
      "Epoch 27/30\n",
      "80/80 [==============================] - 3s 43ms/step - loss: 0.2613 - binary_accuracy: 0.8960 - val_loss: 0.3363 - val_binary_accuracy: 0.8626\n",
      "Epoch 28/30\n",
      "80/80 [==============================] - 3s 43ms/step - loss: 0.2586 - binary_accuracy: 0.8978 - val_loss: 0.3367 - val_binary_accuracy: 0.8616\n",
      "Epoch 29/30\n",
      "80/80 [==============================] - 3s 43ms/step - loss: 0.2559 - binary_accuracy: 0.8986 - val_loss: 0.3364 - val_binary_accuracy: 0.8618\n",
      "Epoch 30/30\n",
      "80/80 [==============================] - 3s 43ms/step - loss: 0.2535 - binary_accuracy: 0.9005 - val_loss: 0.3371 - val_binary_accuracy: 0.8622\n"
     ]
    }
   ],
   "source": [
    "history = model.fit(\n",
    "    ds_train,\n",
    "    validation_data=ds_valid,\n",
    "    epochs=30,\n",
    ")"
   ]
  },
  {
   "cell_type": "markdown",
   "id": "2bde08e1",
   "metadata": {
    "papermill": {
     "duration": 0.049082,
     "end_time": "2024-12-11T17:12:54.369415",
     "exception": false,
     "start_time": "2024-12-11T17:12:54.320333",
     "status": "completed"
    },
    "tags": []
   },
   "source": [
    "Run the cell below to plot the loss and metric curves for this training run."
   ]
  },
  {
   "cell_type": "code",
   "execution_count": 10,
   "id": "12e41e2b",
   "metadata": {
    "execution": {
     "iopub.execute_input": "2024-12-11T17:12:54.458764Z",
     "iopub.status.busy": "2024-12-11T17:12:54.457926Z",
     "iopub.status.idle": "2024-12-11T17:12:55.038571Z",
     "shell.execute_reply": "2024-12-11T17:12:55.037732Z"
    },
    "papermill": {
     "duration": 0.627781,
     "end_time": "2024-12-11T17:12:55.040570",
     "exception": false,
     "start_time": "2024-12-11T17:12:54.412789",
     "status": "completed"
    },
    "tags": []
   },
   "outputs": [
    {
     "data": {
      "image/png": "[encoded data removed]",
      "text/plain": [
       "<Figure size 640x480 with 1 Axes>"
      ]
     },
     "metadata": {},
     "output_type": "display_data"
    },
    {
     "data": {
      "image/png": "[encoded data removed]",
      "text/plain": [
       "<Figure size 640x480 with 1 Axes>"
      ]
     },
     "metadata": {},
     "output_type": "display_data"
    }
   ],
   "source": [
    "import pandas as pd\n",
    "history_frame = pd.DataFrame(history.history)\n",
    "history_frame.loc[:, ['loss', 'val_loss']].plot()\n",
    "history_frame.loc[:, ['binary_accuracy', 'val_binary_accuracy']].plot();"
   ]
  },
  {
   "cell_type": "markdown",
   "id": "a1521495",
   "metadata": {
    "papermill": {
     "duration": 0.047557,
     "end_time": "2024-12-11T17:12:55.190847",
     "exception": false,
     "start_time": "2024-12-11T17:12:55.143290",
     "status": "completed"
    },
    "tags": []
   },
   "source": [
    "# 4) Examine Loss and Accuracy #\n",
    "\n",
    "Do you notice a difference between these learning curves and the curves for VGG16 from the tutorial? What does this difference tell you about what this model (InceptionV2) learned compared to VGG16? Are there ways in which one is better than the other? Worse?\n",
    "\n",
    "After you've thought about it, run the cell below to see the answer."
   ]
  },
  {
   "cell_type": "code",
   "execution_count": 11,
   "id": "2e08bc3e",
   "metadata": {
    "execution": {
     "iopub.execute_input": "2024-12-11T17:12:55.285871Z",
     "iopub.status.busy": "2024-12-11T17:12:55.285166Z",
     "iopub.status.idle": "2024-12-11T17:12:55.292245Z",
     "shell.execute_reply": "2024-12-11T17:12:55.291447Z"
    },
    "papermill": {
     "duration": 0.056093,
     "end_time": "2024-12-11T17:12:55.293851",
     "exception": false,
     "start_time": "2024-12-11T17:12:55.237758",
     "status": "completed"
    },
    "tags": []
   },
   "outputs": [
    {
     "data": {
      "application/javascript": [
       "parent.postMessage({\"jupyterEvent\": \"custom.exercise_interaction\", \"data\": {\"outcomeType\": 1, \"valueTowardsCompletion\": 0.25, \"interactionType\": 1, \"questionType\": 4, \"questionId\": \"4_Q4\", \"learnToolsVersion\": \"0.3.4\", \"failureMessage\": \"\", \"exceptionClass\": \"\", \"trace\": \"\"}}, \"*\")"
      ],
      "text/plain": [
       "<IPython.core.display.Javascript object>"
      ]
     },
     "metadata": {},
     "output_type": "display_data"
    },
    {
     "data": {
      "text/markdown": [
       "<span style=\"color:#33cc33\">Correct:</span> \n",
       "\n",
       "That the training loss and validation loss stay fairly close is evidence that the model isn't just memorizing the training data, but rather learning general properties of the two classes. But, because this model converges at a loss greater than the VGG16 model, it's likely that it is underfitting some, and could benefit from some extra capacity.\n"
      ],
      "text/plain": [
       "Correct: \n",
       "\n",
       "That the training loss and validation loss stay fairly close is evidence that the model isn't just memorizing the training data, but rather learning general properties of the two classes. But, because this model converges at a loss greater than the VGG16 model, it's likely that it is underfitting some, and could benefit from some extra capacity."
      ]
     },
     "metadata": {},
     "output_type": "display_data"
    }
   ],
   "source": [
    "# View the solution (Run this code cell to receive credit!)\n",
    "q_4.check()"
   ]
  },
  {
   "cell_type": "markdown",
   "id": "4895d6cd",
   "metadata": {
    "papermill": {
     "duration": 0.047127,
     "end_time": "2024-12-11T17:12:55.389357",
     "exception": false,
     "start_time": "2024-12-11T17:12:55.342230",
     "status": "completed"
    },
    "tags": []
   },
   "source": [
    "# Conclusion #\n",
    "\n",
    "In this first lesson, you learned the basics of **convolutional image classifiers**, that they consist of a **base** for extracting features from images, and a **head** which uses the features to decide the image's class. You also saw how to build a classifier with **transfer learning** on pretrained base. "
   ]
  },
  {
   "cell_type": "markdown",
   "id": "4ee89ecf",
   "metadata": {
    "papermill": {
     "duration": 0.044706,
     "end_time": "2024-12-11T17:12:55.479561",
     "exception": false,
     "start_time": "2024-12-11T17:12:55.434855",
     "status": "completed"
    },
    "tags": []
   },
   "source": [
    "# Keep Going #\n",
    "\n",
    "Move on to [**Lesson 2**](https://www.kaggle.com/ryanholbrook/convolution-and-relu) for a detailed look at how the base does this feature extraction. (It's really cool!)"
   ]
  },
  {
   "cell_type": "markdown",
   "id": "decce5ac",
   "metadata": {
    "papermill": {
     "duration": 0.045264,
     "end_time": "2024-12-11T17:12:55.569891",
     "exception": false,
     "start_time": "2024-12-11T17:12:55.524627",
     "status": "completed"
    },
    "tags": []
   },
   "source": [
    "---\n",
    "\n",
    "\n",
    "\n",
    "\n",
    "*Have questions or comments? Visit the [course discussion forum](https://www.kaggle.com/learn/computer-vision/discussion) to chat with other learners.*"
   ]
  }
 ],
 "metadata": {
  "jupytext": {
   "formats": "ipynb,md",
   "split_at_heading": true
  },
  "kaggle": {
   "accelerator": "gpu",
   "dataSources": [
    {
     "datasetId": 708136,
     "sourceId": 1338830,
     "sourceType": "datasetVersion"
    },
    {
     "datasetId": 701538,
     "sourceId": 1363948,
     "sourceType": "datasetVersion"
    },
    {
     "datasetId": 878523,
     "sourceId": 1495782,
     "sourceType": "datasetVersion"
    }
   ],
   "dockerImageVersionId": 30648,
   "isGpuEnabled": true,
   "isInternetEnabled": false,
   "language": "python",
   "sourceType": "notebook"
  },
  "kernelspec": {
   "display_name": "Python 3",
   "language": "python",
   "name": "python3"
  },
  "language_info": {
   "codemirror_mode": {
    "name": "ipython",
    "version": 3
   },
   "file_extension": ".py",
   "mimetype": "text/x-python",
   "name": "python",
   "nbconvert_exporter": "python",
   "pygments_lexer": "ipython3",
   "version": "3.10.13"
  },
  "papermill": {
   "default_parameters": {},
   "duration": 159.270121,
   "end_time": "2024-12-11T17:12:59.222555",
   "environment_variables": {},
   "exception": null,
   "input_path": "__notebook__.ipynb",
   "output_path": "__notebook__.ipynb",
   "parameters": {},
   "start_time": "2024-12-11T17:10:19.952434",
   "version": "2.5.0"
  }
 },
 "nbformat": 4,
 "nbformat_minor": 5
}
