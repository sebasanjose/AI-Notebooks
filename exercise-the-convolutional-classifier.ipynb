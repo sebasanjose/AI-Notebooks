{
 "cells": [
  {
   "cell_type": "markdown",
   "id": "fcd8aa81",
   "metadata": {
    "papermill": {
     "duration": 0.003883,
     "end_time": "2024-12-10T19:43:44.614539",
     "exception": false,
     "start_time": "2024-12-10T19:43:44.610656",
     "status": "completed"
    },
    "tags": []
   },
   "source": [
    "**This notebook is an exercise in the [Computer Vision](https://www.kaggle.com/learn/computer-vision) course.  You can reference the tutorial at [this link](https://www.kaggle.com/ryanholbrook/the-convolutional-classifier).**\n",
    "\n",
    "---\n"
   ]
  },
  {
   "cell_type": "markdown",
   "id": "580c683b",
   "metadata": {
    "papermill": {
     "duration": 0.003216,
     "end_time": "2024-12-10T19:43:44.621227",
     "exception": false,
     "start_time": "2024-12-10T19:43:44.618011",
     "status": "completed"
    },
    "tags": []
   },
   "source": [
    "<blockquote style=\"margin-right:auto; margin-left:auto; padding: 1em; margin:24px;\">\n",
    "    <strong>Accelerate Training with a Kaggle GPU!</strong><br>\n",
    "Did you know Kaggle offers free time with a GPU accelerator? You can speed up training neural networks in this course by switching to <strong>GPU</strong> in the <em>Accelerator</em> option on the right. (It may already be turned on.) Two things to be aware of:\n",
    "<ul>\n",
    "<li>Changing the <em>Accelerator</em> option will cause the notebook session to restart. You'll need to rerun any setup code.\n",
    "<li>You can have only one GPU session at a time, so be sure to shut the notebook down after you've finished the exercise.\n",
    "</ul>\n",
    "</blockquote>"
   ]
  },
  {
   "cell_type": "markdown",
   "id": "b5f32869",
   "metadata": {
    "papermill": {
     "duration": 0.003034,
     "end_time": "2024-12-10T19:43:44.627559",
     "exception": false,
     "start_time": "2024-12-10T19:43:44.624525",
     "status": "completed"
    },
    "tags": []
   },
   "source": [
    "# Introduction #\n",
    "\n",
    "In the tutorial, we saw how to build an image classifier by attaching a head of dense layers to a pretrained base. The base we used was from a model called **VGG16**. We saw that the VGG16 architecture was prone to overfitting this dataset. Over this course, you'll learn a number of ways you can improve upon this initial attempt.\n",
    "\n",
    "The first way you'll see is to use a base more appropriate to the dataset. The base this model comes from is called **InceptionV1** (also known as GoogLeNet). InceptionV1 was one of the early winners of the ImageNet competition. One of its successors, InceptionV4, is among the state of the art today.\n",
    "\n",
    "To get started, run the code cell below to set everything up."
   ]
  },
  {
   "cell_type": "code",
   "execution_count": 1,
   "id": "e3ba9eb4",
   "metadata": {
    "execution": {
     "iopub.execute_input": "2024-12-10T19:43:44.636108Z",
     "iopub.status.busy": "2024-12-10T19:43:44.635462Z",
     "iopub.status.idle": "2024-12-10T19:44:05.910156Z",
     "shell.execute_reply": "2024-12-10T19:44:05.909256Z"
    },
    "lines_to_next_cell": 2,
    "papermill": {
     "duration": 21.281529,
     "end_time": "2024-12-10T19:44:05.912393",
     "exception": false,
     "start_time": "2024-12-10T19:43:44.630864",
     "status": "completed"
    },
    "tags": []
   },
   "outputs": [
    {
     "name": "stderr",
     "output_type": "stream",
     "text": [
      "2024-12-10 19:43:47.289451: E external/local_xla/xla/stream_executor/cuda/cuda_dnn.cc:9261] Unable to register cuDNN factory: Attempting to register factory for plugin cuDNN when one has already been registered\n",
      "2024-12-10 19:43:47.289580: E external/local_xla/xla/stream_executor/cuda/cuda_fft.cc:607] Unable to register cuFFT factory: Attempting to register factory for plugin cuFFT when one has already been registered\n",
      "2024-12-10 19:43:47.437542: E external/local_xla/xla/stream_executor/cuda/cuda_blas.cc:1515] Unable to register cuBLAS factory: Attempting to register factory for plugin cuBLAS when one has already been registered\n"
     ]
    },
    {
     "name": "stdout",
     "output_type": "stream",
     "text": [
      "Found 5117 files belonging to 2 classes.\n",
      "Found 5051 files belonging to 2 classes.\n"
     ]
    }
   ],
   "source": [
    "# Setup feedback system\n",
    "from learntools.core import binder\n",
    "binder.bind(globals())\n",
    "from learntools.computer_vision.ex1 import *\n",
    "\n",
    "# Imports\n",
    "import os, warnings\n",
    "import matplotlib.pyplot as plt\n",
    "from matplotlib import gridspec\n",
    "\n",
    "import numpy as np\n",
    "import tensorflow as tf\n",
    "from tensorflow.keras.preprocessing import image_dataset_from_directory\n",
    "\n",
    "# Reproducability\n",
    "def set_seed(seed=31415):\n",
    "    np.random.seed(seed)\n",
    "    tf.random.set_seed(seed)\n",
    "    os.environ['PYTHONHASHSEED'] = str(seed)\n",
    "    os.environ['TF_DETERMINISTIC_OPS'] = '1'\n",
    "set_seed()\n",
    "\n",
    "# Set Matplotlib defaults\n",
    "plt.rc('figure', autolayout=True)\n",
    "plt.rc('axes', labelweight='bold', labelsize='large',\n",
    "       titleweight='bold', titlesize=18, titlepad=10)\n",
    "plt.rc('image', cmap='magma')\n",
    "warnings.filterwarnings(\"ignore\") # to clean up output cells\n",
    "\n",
    "\n",
    "# Load training and validation sets\n",
    "ds_train_ = image_dataset_from_directory(\n",
    "    '../input/car-or-truck/train',\n",
    "    labels='inferred',\n",
    "    label_mode='binary',\n",
    "    image_size=[128, 128],\n",
    "    interpolation='nearest',\n",
    "    batch_size=64,\n",
    "    shuffle=True,\n",
    ")\n",
    "ds_valid_ = image_dataset_from_directory(\n",
    "    '../input/car-or-truck/valid',\n",
    "    labels='inferred',\n",
    "    label_mode='binary',\n",
    "    image_size=[128, 128],\n",
    "    interpolation='nearest',\n",
    "    batch_size=64,\n",
    "    shuffle=False,\n",
    ")\n",
    "\n",
    "# Data Pipeline\n",
    "def convert_to_float(image, label):\n",
    "    image = tf.image.convert_image_dtype(image, dtype=tf.float32)\n",
    "    return image, label\n",
    "\n",
    "AUTOTUNE = tf.data.experimental.AUTOTUNE\n",
    "ds_train = (\n",
    "    ds_train_\n",
    "    .map(convert_to_float)\n",
    "    .cache()\n",
    "    .prefetch(buffer_size=AUTOTUNE)\n",
    ")\n",
    "ds_valid = (\n",
    "    ds_valid_\n",
    "    .map(convert_to_float)\n",
    "    .cache()\n",
    "    .prefetch(buffer_size=AUTOTUNE)\n",
    ")\n"
   ]
  },
  {
   "cell_type": "markdown",
   "id": "4b75595f",
   "metadata": {
    "papermill": {
     "duration": 0.003619,
     "end_time": "2024-12-10T19:44:05.919972",
     "exception": false,
     "start_time": "2024-12-10T19:44:05.916353",
     "status": "completed"
    },
    "tags": []
   },
   "source": [
    "The **InceptionV1** model pretrained on ImageNet is available in the [TensorFlow Hub](https://www.tensorflow.org/hub/) repository, but we'll load it from a local copy. Run this cell to load InceptionV1 for your base."
   ]
  },
  {
   "cell_type": "code",
   "execution_count": 2,
   "id": "0cd81edb",
   "metadata": {
    "execution": {
     "iopub.execute_input": "2024-12-10T19:44:05.927944Z",
     "iopub.status.busy": "2024-12-10T19:44:05.927686Z",
     "iopub.status.idle": "2024-12-10T19:44:09.256106Z",
     "shell.execute_reply": "2024-12-10T19:44:09.255169Z"
    },
    "lines_to_next_cell": 0,
    "papermill": {
     "duration": 3.334661,
     "end_time": "2024-12-10T19:44:09.258093",
     "exception": false,
     "start_time": "2024-12-10T19:44:05.923432",
     "status": "completed"
    },
    "tags": []
   },
   "outputs": [],
   "source": [
    "import tensorflow_hub as hub\n",
    "\n",
    "pretrained_base = tf.keras.models.load_model(\n",
    "    '../input/cv-course-models/cv-course-models/inceptionv1'\n",
    ")"
   ]
  },
  {
   "cell_type": "markdown",
   "id": "5306d3e9",
   "metadata": {
    "papermill": {
     "duration": 0.003365,
     "end_time": "2024-12-10T19:44:09.265320",
     "exception": false,
     "start_time": "2024-12-10T19:44:09.261955",
     "status": "completed"
    },
    "tags": []
   },
   "source": [
    "# 1) Define Pretrained Base #\n",
    "\n",
    "Now that you have a pretrained base to do our feature extraction, decide whether this base should be trainable or not."
   ]
  },
  {
   "cell_type": "code",
   "execution_count": 3,
   "id": "1c4bb709",
   "metadata": {
    "execution": {
     "iopub.execute_input": "2024-12-10T19:44:09.273632Z",
     "iopub.status.busy": "2024-12-10T19:44:09.273133Z",
     "iopub.status.idle": "2024-12-10T19:44:09.280866Z",
     "shell.execute_reply": "2024-12-10T19:44:09.280050Z"
    },
    "lines_to_next_cell": 0,
    "papermill": {
     "duration": 0.01357,
     "end_time": "2024-12-10T19:44:09.282376",
     "exception": false,
     "start_time": "2024-12-10T19:44:09.268806",
     "status": "completed"
    },
    "tags": []
   },
   "outputs": [
    {
     "data": {
      "application/javascript": [
       "parent.postMessage({\"jupyterEvent\": \"custom.exercise_interaction\", \"data\": {\"outcomeType\": 1, \"valueTowardsCompletion\": 0.25, \"interactionType\": 1, \"questionType\": 2, \"questionId\": \"1_Q1\", \"learnToolsVersion\": \"0.3.4\", \"failureMessage\": \"\", \"exceptionClass\": \"\", \"trace\": \"\"}}, \"*\")"
      ],
      "text/plain": [
       "<IPython.core.display.Javascript object>"
      ]
     },
     "metadata": {},
     "output_type": "display_data"
    },
    {
     "data": {
      "text/markdown": [
       "<span style=\"color:#33cc33\">Correct:</span> When doing transfer learning, it's generally not a good idea to retrain the entire base -- at least not without some care. The reason is that the random weights in the head will initially create large gradient updates, which propogate back into the base layers and destroy much of the pretraining. Using techniques known as **fine tuning** it's possible to further train the base on new data, but this requires some care to do well."
      ],
      "text/plain": [
       "Correct: When doing transfer learning, it's generally not a good idea to retrain the entire base -- at least not without some care. The reason is that the random weights in the head will initially create large gradient updates, which propogate back into the base layers and destroy much of the pretraining. Using techniques known as **fine tuning** it's possible to further train the base on new data, but this requires some care to do well."
      ]
     },
     "metadata": {},
     "output_type": "display_data"
    }
   ],
   "source": [
    "# YOUR_CODE_HERE\n",
    "pretrained_base.trainable = False\n",
    "\n",
    "# Check your answer\n",
    "q_1.check()"
   ]
  },
  {
   "cell_type": "code",
   "execution_count": 4,
   "id": "3ec46a1b",
   "metadata": {
    "execution": {
     "iopub.execute_input": "2024-12-10T19:44:09.290847Z",
     "iopub.status.busy": "2024-12-10T19:44:09.290343Z",
     "iopub.status.idle": "2024-12-10T19:44:09.293665Z",
     "shell.execute_reply": "2024-12-10T19:44:09.292866Z"
    },
    "papermill": {
     "duration": 0.009148,
     "end_time": "2024-12-10T19:44:09.295210",
     "exception": false,
     "start_time": "2024-12-10T19:44:09.286062",
     "status": "completed"
    },
    "tags": []
   },
   "outputs": [],
   "source": [
    "# Lines below will give you a hint or solution code\n",
    "#q_1.hint()\n",
    "#q_1.solution()"
   ]
  },
  {
   "cell_type": "markdown",
   "id": "bc5fb2d9",
   "metadata": {
    "papermill": {
     "duration": 0.003414,
     "end_time": "2024-12-10T19:44:09.303125",
     "exception": false,
     "start_time": "2024-12-10T19:44:09.299711",
     "status": "completed"
    },
    "tags": []
   },
   "source": [
    "# 2) Attach Head #\n",
    "\n",
    "Now that the base is defined to do the feature extraction, create a head of `Dense` layers to perform the classification, following this diagram:\n",
    "\n",
    "<figure>\n",
    "<img src=\"https://storage.googleapis.com/kaggle-media/learn/images/i5VU7Ry.png\" alt=\"Diagram of the dense head.\">\n",
    "</figure>\n"
   ]
  },
  {
   "cell_type": "code",
   "execution_count": 5,
   "id": "8fdaf452",
   "metadata": {
    "execution": {
     "iopub.execute_input": "2024-12-10T19:44:09.311469Z",
     "iopub.status.busy": "2024-12-10T19:44:09.311241Z",
     "iopub.status.idle": "2024-12-10T19:44:09.328099Z",
     "shell.execute_reply": "2024-12-10T19:44:09.327426Z"
    },
    "lines_to_next_cell": 0,
    "papermill": {
     "duration": 0.022852,
     "end_time": "2024-12-10T19:44:09.329579",
     "exception": false,
     "start_time": "2024-12-10T19:44:09.306727",
     "status": "completed"
    },
    "tags": []
   },
   "outputs": [
    {
     "data": {
      "application/javascript": [
       "parent.postMessage({\"jupyterEvent\": \"custom.exercise_interaction\", \"data\": {\"outcomeType\": 1, \"valueTowardsCompletion\": 0.25, \"interactionType\": 1, \"questionType\": 2, \"questionId\": \"2_Q2\", \"learnToolsVersion\": \"0.3.4\", \"failureMessage\": \"\", \"exceptionClass\": \"\", \"trace\": \"\"}}, \"*\")"
      ],
      "text/plain": [
       "<IPython.core.display.Javascript object>"
      ]
     },
     "metadata": {},
     "output_type": "display_data"
    },
    {
     "data": {
      "text/markdown": [
       "<span style=\"color:#33cc33\">Correct</span>"
      ],
      "text/plain": [
       "Correct"
      ]
     },
     "metadata": {},
     "output_type": "display_data"
    }
   ],
   "source": [
    "from tensorflow import keras\n",
    "from tensorflow.keras import layers\n",
    "\n",
    "model = keras.Sequential([\n",
    "    pretrained_base,\n",
    "    layers.Flatten(),\n",
    "    layers.Dense(6, activation='relu'),\n",
    "    layers.Dense(1, activation='sigmoid')\n",
    "    # YOUR CODE HERE. Attach a head of dense layers.\n",
    "    # ____\n",
    "])\n",
    "\n",
    "# Check your answer\n",
    "q_2.check()"
   ]
  },
  {
   "cell_type": "code",
   "execution_count": 6,
   "id": "a2624809",
   "metadata": {
    "execution": {
     "iopub.execute_input": "2024-12-10T19:44:09.338020Z",
     "iopub.status.busy": "2024-12-10T19:44:09.337792Z",
     "iopub.status.idle": "2024-12-10T19:44:09.341013Z",
     "shell.execute_reply": "2024-12-10T19:44:09.340365Z"
    },
    "papermill": {
     "duration": 0.009099,
     "end_time": "2024-12-10T19:44:09.342475",
     "exception": false,
     "start_time": "2024-12-10T19:44:09.333376",
     "status": "completed"
    },
    "tags": []
   },
   "outputs": [],
   "source": [
    "# Lines below will give you a hint or solution code\n",
    "#q_2.hint()\n",
    "#q_2.solution()"
   ]
  },
  {
   "cell_type": "markdown",
   "id": "6cf17cf4",
   "metadata": {
    "papermill": {
     "duration": 0.003659,
     "end_time": "2024-12-10T19:44:09.349932",
     "exception": false,
     "start_time": "2024-12-10T19:44:09.346273",
     "status": "completed"
    },
    "tags": []
   },
   "source": [
    "# 3) Train #\n",
    "\n",
    "Before training a model in Keras, you need to specify an *optimizer* to perform the gradient descent, a *loss function* to be minimized, and (optionally) any *performance metrics*. The optimization algorithm we'll use for this course is called [\"Adam\"](https://keras.io/api/optimizers/adam/), which generally performs well regardless of what kind of problem you're trying to solve.\n",
    "\n",
    "The loss and the metrics, however, need to match the kind of problem you're trying to solve. Our problem is a **binary classification** problem: `Car` coded as 0, and `Truck` coded as 1. Choose an appropriate loss and an appropriate accuracy metric for binary classification."
   ]
  },
  {
   "cell_type": "code",
   "execution_count": 7,
   "id": "ca9b9fa2",
   "metadata": {
    "execution": {
     "iopub.execute_input": "2024-12-10T19:44:09.358248Z",
     "iopub.status.busy": "2024-12-10T19:44:09.358022Z",
     "iopub.status.idle": "2024-12-10T19:44:09.383280Z",
     "shell.execute_reply": "2024-12-10T19:44:09.382509Z"
    },
    "lines_to_next_cell": 0,
    "papermill": {
     "duration": 0.0312,
     "end_time": "2024-12-10T19:44:09.384857",
     "exception": false,
     "start_time": "2024-12-10T19:44:09.353657",
     "status": "completed"
    },
    "tags": []
   },
   "outputs": [
    {
     "data": {
      "application/javascript": [
       "parent.postMessage({\"jupyterEvent\": \"custom.exercise_interaction\", \"data\": {\"outcomeType\": 1, \"valueTowardsCompletion\": 0.25, \"interactionType\": 1, \"questionType\": 2, \"questionId\": \"3_Q3\", \"learnToolsVersion\": \"0.3.4\", \"failureMessage\": \"\", \"exceptionClass\": \"\", \"trace\": \"\"}}, \"*\")"
      ],
      "text/plain": [
       "<IPython.core.display.Javascript object>"
      ]
     },
     "metadata": {},
     "output_type": "display_data"
    },
    {
     "data": {
      "text/markdown": [
       "<span style=\"color:#33cc33\">Correct</span>"
      ],
      "text/plain": [
       "Correct"
      ]
     },
     "metadata": {},
     "output_type": "display_data"
    }
   ],
   "source": [
    "# YOUR CODE HERE: what loss function should you use for a binary\n",
    "# classification problem? (Your answer for each should be a string.)\n",
    "optimizer = tf.keras.optimizers.Adam(epsilon=0.01)\n",
    "model.compile(\n",
    "    optimizer=optimizer,\n",
    "    loss = 'binary_crossentropy',\n",
    "    metrics=['binary_accuracy'],\n",
    ")\n",
    "\n",
    "# Check your answer\n",
    "q_3.check()"
   ]
  },
  {
   "cell_type": "code",
   "execution_count": 8,
   "id": "390610d8",
   "metadata": {
    "execution": {
     "iopub.execute_input": "2024-12-10T19:44:09.394282Z",
     "iopub.status.busy": "2024-12-10T19:44:09.393702Z",
     "iopub.status.idle": "2024-12-10T19:44:09.396803Z",
     "shell.execute_reply": "2024-12-10T19:44:09.396142Z"
    },
    "lines_to_next_cell": 0,
    "papermill": {
     "duration": 0.009152,
     "end_time": "2024-12-10T19:44:09.398273",
     "exception": false,
     "start_time": "2024-12-10T19:44:09.389121",
     "status": "completed"
    },
    "tags": []
   },
   "outputs": [],
   "source": [
    "# Lines below will give you a hint or solution code\n",
    "#q_3.hint()\n",
    "#q_3.solution()"
   ]
  },
  {
   "cell_type": "code",
   "execution_count": 9,
   "id": "3beed01e",
   "metadata": {
    "execution": {
     "iopub.execute_input": "2024-12-10T19:44:09.407080Z",
     "iopub.status.busy": "2024-12-10T19:44:09.406874Z",
     "iopub.status.idle": "2024-12-10T19:46:04.714549Z",
     "shell.execute_reply": "2024-12-10T19:46:04.713783Z"
    },
    "papermill": {
     "duration": 115.314068,
     "end_time": "2024-12-10T19:46:04.716378",
     "exception": false,
     "start_time": "2024-12-10T19:44:09.402310",
     "status": "completed"
    },
    "tags": []
   },
   "outputs": [
    {
     "name": "stdout",
     "output_type": "stream",
     "text": [
      "Epoch 1/30\n"
     ]
    },
    {
     "name": "stderr",
     "output_type": "stream",
     "text": [
      "WARNING: All log messages before absl::InitializeLog() is called are written to STDERR\n",
      "I0000 00:00:1733859856.577360      72 device_compiler.h:186] Compiled cluster using XLA!  This line is logged at most once for the lifetime of the process.\n"
     ]
    },
    {
     "name": "stdout",
     "output_type": "stream",
     "text": [
      "80/80 [==============================] - 18s 137ms/step - loss: 0.6011 - binary_accuracy: 0.6951 - val_loss: 0.5074 - val_binary_accuracy: 0.7824\n",
      "Epoch 2/30\n",
      "80/80 [==============================] - 3s 42ms/step - loss: 0.4717 - binary_accuracy: 0.8007 - val_loss: 0.4286 - val_binary_accuracy: 0.8133\n",
      "Epoch 3/30\n",
      "80/80 [==============================] - 3s 42ms/step - loss: 0.4157 - binary_accuracy: 0.8194 - val_loss: 0.4001 - val_binary_accuracy: 0.8262\n",
      "Epoch 4/30\n",
      "80/80 [==============================] - 3s 42ms/step - loss: 0.3914 - binary_accuracy: 0.8300 - val_loss: 0.3855 - val_binary_accuracy: 0.8305\n",
      "Epoch 5/30\n",
      "80/80 [==============================] - 3s 42ms/step - loss: 0.3757 - binary_accuracy: 0.8388 - val_loss: 0.3759 - val_binary_accuracy: 0.8337\n",
      "Epoch 6/30\n",
      "80/80 [==============================] - 3s 42ms/step - loss: 0.3637 - binary_accuracy: 0.8456 - val_loss: 0.3689 - val_binary_accuracy: 0.8400\n",
      "Epoch 7/30\n",
      "80/80 [==============================] - 3s 42ms/step - loss: 0.3539 - binary_accuracy: 0.8503 - val_loss: 0.3632 - val_binary_accuracy: 0.8424\n",
      "Epoch 8/30\n",
      "80/80 [==============================] - 3s 42ms/step - loss: 0.3453 - binary_accuracy: 0.8560 - val_loss: 0.3589 - val_binary_accuracy: 0.8440\n",
      "Epoch 9/30\n",
      "80/80 [==============================] - 3s 42ms/step - loss: 0.3378 - binary_accuracy: 0.8597 - val_loss: 0.3554 - val_binary_accuracy: 0.8458\n",
      "Epoch 10/30\n",
      "80/80 [==============================] - 3s 42ms/step - loss: 0.3311 - binary_accuracy: 0.8622 - val_loss: 0.3524 - val_binary_accuracy: 0.8476\n",
      "Epoch 11/30\n",
      "80/80 [==============================] - 3s 42ms/step - loss: 0.3252 - binary_accuracy: 0.8654 - val_loss: 0.3498 - val_binary_accuracy: 0.8497\n",
      "Epoch 12/30\n",
      "80/80 [==============================] - 3s 42ms/step - loss: 0.3198 - binary_accuracy: 0.8687 - val_loss: 0.3478 - val_binary_accuracy: 0.8503\n",
      "Epoch 13/30\n",
      "80/80 [==============================] - 3s 42ms/step - loss: 0.3146 - binary_accuracy: 0.8712 - val_loss: 0.3453 - val_binary_accuracy: 0.8523\n",
      "Epoch 14/30\n",
      "80/80 [==============================] - 3s 42ms/step - loss: 0.3098 - binary_accuracy: 0.8738 - val_loss: 0.3439 - val_binary_accuracy: 0.8523\n",
      "Epoch 15/30\n",
      "80/80 [==============================] - 3s 42ms/step - loss: 0.3056 - binary_accuracy: 0.8763 - val_loss: 0.3426 - val_binary_accuracy: 0.8529\n",
      "Epoch 16/30\n",
      "80/80 [==============================] - 3s 42ms/step - loss: 0.3016 - binary_accuracy: 0.8779 - val_loss: 0.3413 - val_binary_accuracy: 0.8529\n",
      "Epoch 17/30\n",
      "80/80 [==============================] - 3s 42ms/step - loss: 0.2974 - binary_accuracy: 0.8806 - val_loss: 0.3396 - val_binary_accuracy: 0.8543\n",
      "Epoch 18/30\n",
      "80/80 [==============================] - 3s 42ms/step - loss: 0.2938 - binary_accuracy: 0.8814 - val_loss: 0.3388 - val_binary_accuracy: 0.8551\n",
      "Epoch 19/30\n",
      "80/80 [==============================] - 3s 42ms/step - loss: 0.2898 - binary_accuracy: 0.8825 - val_loss: 0.3381 - val_binary_accuracy: 0.8553\n",
      "Epoch 20/30\n",
      "80/80 [==============================] - 3s 42ms/step - loss: 0.2861 - binary_accuracy: 0.8835 - val_loss: 0.3372 - val_binary_accuracy: 0.8571\n",
      "Epoch 21/30\n",
      "80/80 [==============================] - 3s 42ms/step - loss: 0.2825 - binary_accuracy: 0.8843 - val_loss: 0.3364 - val_binary_accuracy: 0.8584\n",
      "Epoch 22/30\n",
      "80/80 [==============================] - 3s 42ms/step - loss: 0.2790 - binary_accuracy: 0.8861 - val_loss: 0.3358 - val_binary_accuracy: 0.8584\n",
      "Epoch 23/30\n",
      "80/80 [==============================] - 3s 42ms/step - loss: 0.2760 - binary_accuracy: 0.8874 - val_loss: 0.3355 - val_binary_accuracy: 0.8580\n",
      "Epoch 24/30\n",
      "80/80 [==============================] - 3s 42ms/step - loss: 0.2726 - binary_accuracy: 0.8902 - val_loss: 0.3342 - val_binary_accuracy: 0.8575\n",
      "Epoch 25/30\n",
      "80/80 [==============================] - 3s 42ms/step - loss: 0.2698 - binary_accuracy: 0.8900 - val_loss: 0.3342 - val_binary_accuracy: 0.8578\n",
      "Epoch 26/30\n",
      "80/80 [==============================] - 3s 42ms/step - loss: 0.2667 - binary_accuracy: 0.8931 - val_loss: 0.3331 - val_binary_accuracy: 0.8592\n",
      "Epoch 27/30\n",
      "80/80 [==============================] - 3s 42ms/step - loss: 0.2637 - binary_accuracy: 0.8949 - val_loss: 0.3333 - val_binary_accuracy: 0.8596\n",
      "Epoch 28/30\n",
      "80/80 [==============================] - 3s 42ms/step - loss: 0.2610 - binary_accuracy: 0.8956 - val_loss: 0.3342 - val_binary_accuracy: 0.8598\n",
      "Epoch 29/30\n",
      "80/80 [==============================] - 3s 42ms/step - loss: 0.2581 - binary_accuracy: 0.8976 - val_loss: 0.3337 - val_binary_accuracy: 0.8608\n",
      "Epoch 30/30\n",
      "80/80 [==============================] - 3s 42ms/step - loss: 0.2554 - binary_accuracy: 0.8988 - val_loss: 0.3351 - val_binary_accuracy: 0.8612\n"
     ]
    }
   ],
   "source": [
    "history = model.fit(\n",
    "    ds_train,\n",
    "    validation_data=ds_valid,\n",
    "    epochs=30,\n",
    ")"
   ]
  },
  {
   "cell_type": "markdown",
   "id": "5cf5a0e3",
   "metadata": {
    "papermill": {
     "duration": 0.042243,
     "end_time": "2024-12-10T19:46:04.802044",
     "exception": false,
     "start_time": "2024-12-10T19:46:04.759801",
     "status": "completed"
    },
    "tags": []
   },
   "source": [
    "Run the cell below to plot the loss and metric curves for this training run."
   ]
  },
  {
   "cell_type": "code",
   "execution_count": 10,
   "id": "954d970f",
   "metadata": {
    "execution": {
     "iopub.execute_input": "2024-12-10T19:46:04.889162Z",
     "iopub.status.busy": "2024-12-10T19:46:04.888300Z",
     "iopub.status.idle": "2024-12-10T19:46:05.459968Z",
     "shell.execute_reply": "2024-12-10T19:46:05.459148Z"
    },
    "papermill": {
     "duration": 0.617611,
     "end_time": "2024-12-10T19:46:05.461952",
     "exception": false,
     "start_time": "2024-12-10T19:46:04.844341",
     "status": "completed"
    },
    "tags": []
   },
   "outputs": [
    {
     "data": {
      "image/png": "[encoded data removed]",
      "text/plain": [
       "<Figure size 640x480 with 1 Axes>"
      ]
     },
     "metadata": {},
     "output_type": "display_data"
    },
    {
     "data": {
      "image/png": "[encoded data removed]",
      "text/plain": [
       "<Figure size 640x480 with 1 Axes>"
      ]
     },
     "metadata": {},
     "output_type": "display_data"
    }
   ],
   "source": [
    "import pandas as pd\n",
    "history_frame = pd.DataFrame(history.history)\n",
    "history_frame.loc[:, ['loss', 'val_loss']].plot()\n",
    "history_frame.loc[:, ['binary_accuracy', 'val_binary_accuracy']].plot();"
   ]
  },
  {
   "cell_type": "markdown",
   "id": "f95975b8",
   "metadata": {
    "papermill": {
     "duration": 0.043811,
     "end_time": "2024-12-10T19:46:05.592926",
     "exception": false,
     "start_time": "2024-12-10T19:46:05.549115",
     "status": "completed"
    },
    "tags": []
   },
   "source": [
    "# 4) Examine Loss and Accuracy #\n",
    "\n",
    "Do you notice a difference between these learning curves and the curves for VGG16 from the tutorial? What does this difference tell you about what this model (InceptionV2) learned compared to VGG16? Are there ways in which one is better than the other? Worse?\n",
    "\n",
    "After you've thought about it, run the cell below to see the answer."
   ]
  },
  {
   "cell_type": "code",
   "execution_count": 11,
   "id": "3af64b4b",
   "metadata": {
    "execution": {
     "iopub.execute_input": "2024-12-10T19:46:05.682383Z",
     "iopub.status.busy": "2024-12-10T19:46:05.681465Z",
     "iopub.status.idle": "2024-12-10T19:46:05.688570Z",
     "shell.execute_reply": "2024-12-10T19:46:05.687796Z"
    },
    "papermill": {
     "duration": 0.053402,
     "end_time": "2024-12-10T19:46:05.690183",
     "exception": false,
     "start_time": "2024-12-10T19:46:05.636781",
     "status": "completed"
    },
    "tags": []
   },
   "outputs": [
    {
     "data": {
      "application/javascript": [
       "parent.postMessage({\"jupyterEvent\": \"custom.exercise_interaction\", \"data\": {\"outcomeType\": 1, \"valueTowardsCompletion\": 0.25, \"interactionType\": 1, \"questionType\": 4, \"questionId\": \"4_Q4\", \"learnToolsVersion\": \"0.3.4\", \"failureMessage\": \"\", \"exceptionClass\": \"\", \"trace\": \"\"}}, \"*\")"
      ],
      "text/plain": [
       "<IPython.core.display.Javascript object>"
      ]
     },
     "metadata": {},
     "output_type": "display_data"
    },
    {
     "data": {
      "text/markdown": [
       "<span style=\"color:#33cc33\">Correct:</span> \n",
       "\n",
       "That the training loss and validation loss stay fairly close is evidence that the model isn't just memorizing the training data, but rather learning general properties of the two classes. But, because this model converges at a loss greater than the VGG16 model, it's likely that it is underfitting some, and could benefit from some extra capacity.\n"
      ],
      "text/plain": [
       "Correct: \n",
       "\n",
       "That the training loss and validation loss stay fairly close is evidence that the model isn't just memorizing the training data, but rather learning general properties of the two classes. But, because this model converges at a loss greater than the VGG16 model, it's likely that it is underfitting some, and could benefit from some extra capacity."
      ]
     },
     "metadata": {},
     "output_type": "display_data"
    }
   ],
   "source": [
    "# View the solution (Run this code cell to receive credit!)\n",
    "q_4.check()"
   ]
  },
  {
   "cell_type": "markdown",
   "id": "2aae6a84",
   "metadata": {
    "papermill": {
     "duration": 0.043394,
     "end_time": "2024-12-10T19:46:05.777613",
     "exception": false,
     "start_time": "2024-12-10T19:46:05.734219",
     "status": "completed"
    },
    "tags": []
   },
   "source": [
    "# Conclusion #\n",
    "\n",
    "In this first lesson, you learned the basics of **convolutional image classifiers**, that they consist of a **base** for extracting features from images, and a **head** which uses the features to decide the image's class. You also saw how to build a classifier with **transfer learning** on pretrained base. "
   ]
  },
  {
   "cell_type": "markdown",
   "id": "60188f0a",
   "metadata": {
    "papermill": {
     "duration": 0.043399,
     "end_time": "2024-12-10T19:46:05.864807",
     "exception": false,
     "start_time": "2024-12-10T19:46:05.821408",
     "status": "completed"
    },
    "tags": []
   },
   "source": [
    "# Keep Going #\n",
    "\n",
    "Move on to [**Lesson 2**](https://www.kaggle.com/ryanholbrook/convolution-and-relu) for a detailed look at how the base does this feature extraction. (It's really cool!)"
   ]
  },
  {
   "cell_type": "markdown",
   "id": "b0636368",
   "metadata": {
    "papermill": {
     "duration": 0.043678,
     "end_time": "2024-12-10T19:46:05.952065",
     "exception": false,
     "start_time": "2024-12-10T19:46:05.908387",
     "status": "completed"
    },
    "tags": []
   },
   "source": [
    "---\n",
    "\n",
    "\n",
    "\n",
    "\n",
    "*Have questions or comments? Visit the [course discussion forum](https://www.kaggle.com/learn/computer-vision/discussion) to chat with other learners.*"
   ]
  }
 ],
 "metadata": {
  "jupytext": {
   "formats": "ipynb,md",
   "split_at_heading": true
  },
  "kaggle": {
   "accelerator": "gpu",
   "dataSources": [
    {
     "datasetId": 708136,
     "sourceId": 1338830,
     "sourceType": "datasetVersion"
    },
    {
     "datasetId": 701538,
     "sourceId": 1363948,
     "sourceType": "datasetVersion"
    },
    {
     "datasetId": 878523,
     "sourceId": 1495782,
     "sourceType": "datasetVersion"
    }
   ],
   "dockerImageVersionId": 30648,
   "isGpuEnabled": true,
   "isInternetEnabled": false,
   "language": "python",
   "sourceType": "notebook"
  },
  "kernelspec": {
   "display_name": "Python 3",
   "language": "python",
   "name": "python3"
  },
  "language_info": {
   "codemirror_mode": {
    "name": "ipython",
    "version": 3
   },
   "file_extension": ".py",
   "mimetype": "text/x-python",
   "name": "python",
   "nbconvert_exporter": "python",
   "pygments_lexer": "ipython3",
   "version": "3.10.13"
  },
  "papermill": {
   "default_parameters": {},
   "duration": 147.200153,
   "end_time": "2024-12-10T19:46:09.278237",
   "environment_variables": {},
   "exception": null,
   "input_path": "__notebook__.ipynb",
   "output_path": "__notebook__.ipynb",
   "parameters": {},
   "start_time": "2024-12-10T19:43:42.078084",
   "version": "2.5.0"
  }
 },
 "nbformat": 4,
 "nbformat_minor": 5
}
