{
  "nbformat": 4,
  "nbformat_minor": 0,
  "metadata": {
    "colab": {
      "provenance": [],
      "gpuType": "T4",
      "authorship_tag": "ABX9TyNDCiy9GTnJ8VS7K/Ri7wr9",
      "include_colab_link": true
    },
    "kernelspec": {
      "name": "python3",
      "display_name": "Python 3"
    },
    "language_info": {
      "name": "python"
    },
    "accelerator": "GPU"
  },
  "cells": [
    {
      "cell_type": "markdown",
      "metadata": {
        "id": "view-in-github",
        "colab_type": "text"
      },
      "source": [
        "<a href=\"https://colab.research.google.com/github/sebasanjose/AI-Notebooks/blob/main/add_demo.ipynb\" target=\"_parent\"><img src=\"https://colab.research.google.com/assets/colab-badge.svg\" alt=\"Open In Colab\"/></a>"
      ]
    },
    {
      "cell_type": "markdown",
      "source": [],
      "metadata": {
        "id": "w9-4P4kxMcgN"
      }
    },
    {
      "cell_type": "code",
      "execution_count": null,
      "metadata": {
        "colab": {
          "base_uri": "https://localhost:8080/"
        },
        "id": "sy3sxAjJMW0P",
        "outputId": "457335bb-a6e5-4853-ed7a-1de2384d38dc"
      },
      "outputs": [
        {
          "output_type": "stream",
          "name": "stdout",
          "text": [
            "/usr/local/cuda/bin/nvcc\n"
          ]
        }
      ],
      "source": [
        "!which nvcc"
      ]
    },
    {
      "cell_type": "code",
      "source": [
        "!nvidia-smi"
      ],
      "metadata": {
        "colab": {
          "base_uri": "https://localhost:8080/"
        },
        "id": "jZ26C21lMm6x",
        "outputId": "342bbca5-e866-4a0a-f51f-faaf7bc4d89b"
      },
      "execution_count": null,
      "outputs": [
        {
          "output_type": "stream",
          "name": "stdout",
          "text": [
            "Mon Jun 24 12:22:19 2024       \n",
            "+---------------------------------------------------------------------------------------+\n",
            "| NVIDIA-SMI 535.104.05             Driver Version: 535.104.05   CUDA Version: 12.2     |\n",
            "|-----------------------------------------+----------------------+----------------------+\n",
            "| GPU  Name                 Persistence-M | Bus-Id        Disp.A | Volatile Uncorr. ECC |\n",
            "| Fan  Temp   Perf          Pwr:Usage/Cap |         Memory-Usage | GPU-Util  Compute M. |\n",
            "|                                         |                      |               MIG M. |\n",
            "|=========================================+======================+======================|\n",
            "|   0  Tesla T4                       Off | 00000000:00:04.0 Off |                    0 |\n",
            "| N/A   46C    P8               9W /  70W |      0MiB / 15360MiB |      0%      Default |\n",
            "|                                         |                      |                  N/A |\n",
            "+-----------------------------------------+----------------------+----------------------+\n",
            "                                                                                         \n",
            "+---------------------------------------------------------------------------------------+\n",
            "| Processes:                                                                            |\n",
            "|  GPU   GI   CI        PID   Type   Process name                            GPU Memory |\n",
            "|        ID   ID                                                             Usage      |\n",
            "|=======================================================================================|\n",
            "|  No running processes found                                                           |\n",
            "+---------------------------------------------------------------------------------------+\n"
          ]
        }
      ]
    },
    {
      "cell_type": "code",
      "source": [
        "%%writefile hello.cu\n",
        "\n",
        "#include<stdio.h>\n",
        "__global__ void hello(void)\n",
        "{\n",
        "    printf(\"GPU: Hello!\\n\");\n",
        "}\n",
        "int main(int argc,char **argv)\n",
        "{\n",
        "    printf(\"CPU: Hello!\\n\");\n",
        "    hello<<<1,10>>>();\n",
        "    cudaDeviceReset();\n",
        "    return 0;\n",
        "}"
      ],
      "metadata": {
        "colab": {
          "base_uri": "https://localhost:8080/"
        },
        "id": "PdmmVDawMoVS",
        "outputId": "e12e37cc-3802-46f8-d1fd-8bec5ef13a85"
      },
      "execution_count": null,
      "outputs": [
        {
          "output_type": "stream",
          "name": "stdout",
          "text": [
            "Writing hello.cu\n"
          ]
        }
      ]
    },
    {
      "cell_type": "code",
      "source": [
        "!nvcc hello.cu -o hello"
      ],
      "metadata": {
        "id": "ELNemwQTMxnS"
      },
      "execution_count": null,
      "outputs": []
    },
    {
      "cell_type": "code",
      "source": [
        "!./hello"
      ],
      "metadata": {
        "colab": {
          "base_uri": "https://localhost:8080/"
        },
        "id": "NpfPpC4EM2-6",
        "outputId": "a2bc2cd5-feb8-486e-9560-80f53397f1b9"
      },
      "execution_count": null,
      "outputs": [
        {
          "output_type": "stream",
          "name": "stdout",
          "text": [
            "CPU: Hello!\n",
            "GPU: Hello!\n",
            "GPU: Hello!\n",
            "GPU: Hello!\n",
            "GPU: Hello!\n",
            "GPU: Hello!\n",
            "GPU: Hello!\n",
            "GPU: Hello!\n",
            "GPU: Hello!\n",
            "GPU: Hello!\n",
            "GPU: Hello!\n"
          ]
        }
      ]
    },
    {
      "cell_type": "code",
      "source": [
        "%%writefile add.cu\n",
        "\n",
        "#include <iostream>\n",
        "#include <math.h>\n",
        "// Kernel function to add the elements of two arrays\n",
        "__global__\n",
        "void add(int n, float *x, float *y)\n",
        "{\n",
        "  int index = threadIdx.x;\n",
        "  int stride = blockDim.x;\n",
        "  for (int i = index; i < n; i += stride)\n",
        "      y[i] = x[i] + y[i];\n",
        "}\n",
        "\n",
        "int main(void)\n",
        "{\n",
        "  int N = 1<<20;\n",
        "  float *x, *y;\n",
        "\n",
        "  // Allocate Unified Memory – accessible from CPU or GPU\n",
        "  cudaMallocManaged(&x, N*sizeof(float));\n",
        "  cudaMallocManaged(&y, N*sizeof(float));\n",
        "\n",
        "  // initialize x and y arrays on the host\n",
        "  for (int i = 0; i < N; i++) {\n",
        "    x[i] = 1.0f;\n",
        "    y[i] = 2.0f;\n",
        "  }\n",
        "\n",
        "  // Run kernel on 1M elements on the GPU\n",
        "  add<<<1, 1>>>(N, x, y);\n",
        "\n",
        "  // Wait for GPU to finish before accessing on host\n",
        "  cudaDeviceSynchronize();\n",
        "\n",
        "  // Check for errors (all values should be 3.0f)\n",
        "  float maxError = 0.0f;\n",
        "  for (int i = 0; i < N; i++)\n",
        "    maxError = fmax(maxError, fabs(y[i]-3.0f));\n",
        "  std::cout << \"Max error: \" << maxError << std::endl;\n",
        "\n",
        "  // Free memory\n",
        "  cudaFree(x);\n",
        "  cudaFree(y);\n",
        "\n",
        "  return 0;\n",
        "}"
      ],
      "metadata": {
        "colab": {
          "base_uri": "https://localhost:8080/"
        },
        "id": "VNJY-YC8Ofva",
        "outputId": "1537b7d3-0cb1-4e7b-cc9a-0014aa276ebc"
      },
      "execution_count": 4,
      "outputs": [
        {
          "output_type": "stream",
          "name": "stdout",
          "text": [
            "Writing add.cu\n"
          ]
        }
      ]
    },
    {
      "cell_type": "code",
      "source": [
        "!nvcc add.cu -o add_cuda"
      ],
      "metadata": {
        "id": "MQD5JRMkOuJl"
      },
      "execution_count": 5,
      "outputs": []
    },
    {
      "cell_type": "code",
      "source": [
        "!./add_cuda"
      ],
      "metadata": {
        "colab": {
          "base_uri": "https://localhost:8080/"
        },
        "id": "yeK74cbYO-nd",
        "outputId": "1facfffa-25da-4957-f266-79dd2e18fef9"
      },
      "execution_count": 6,
      "outputs": [
        {
          "output_type": "stream",
          "name": "stdout",
          "text": [
            "Max error: 0\n"
          ]
        }
      ]
    },
    {
      "cell_type": "code",
      "source": [
        "!ls -la /usr/local/cuda-12.2/bin"
      ],
      "metadata": {
        "colab": {
          "base_uri": "https://localhost:8080/"
        },
        "id": "nUC6JR39PEAi",
        "outputId": "7cfb7155-a5b3-4cfa-d96e-001822b7d8b3"
      },
      "execution_count": 2,
      "outputs": [
        {
          "output_type": "stream",
          "name": "stdout",
          "text": [
            "total 150620\n",
            "drwxr-xr-x 3 root root     4096 Nov 10  2023 .\n",
            "drwxr-xr-x 1 root root     4096 Nov 10  2023 ..\n",
            "-rwxr-xr-x 1 root root    84752 Aug 16  2023 bin2c\n",
            "-rwxr-xr-x 1 root root      112 Aug 16  2023 compute-sanitizer\n",
            "drwxr-xr-x 2 root root     4096 Nov 10  2023 crt\n",
            "-rwxr-xr-x 1 root root  6871800 Aug 16  2023 cudafe++\n",
            "-rwxr-xr-x 1 root root 15645016 Aug 16  2023 cuda-gdb\n",
            "-rwxr-xr-x 1 root root   807856 Aug 16  2023 cuda-gdbserver\n",
            "-rwxr-xr-x 1 root root    75928 Aug 16  2023 cu++filt\n",
            "-rwxr-xr-x 1 root root   527840 Aug 16  2023 cuobjdump\n",
            "-rwxr-xr-x 1 root root   285728 Aug 16  2023 fatbinary\n",
            "-rwxr-xr-x 1 root root     3826 Aug 23  2023 ncu\n",
            "-rwxr-xr-x 1 root root     3616 Aug 23  2023 ncu-ui\n",
            "-rwxr-xr-x 1 root root 21281160 Aug 16  2023 nvcc\n",
            "-rwxr-xr-x 1 root root    10456 Aug 16  2023 __nvcc_device_query\n",
            "-rw-r--r-- 1 root root      417 Aug 16  2023 nvcc.profile\n",
            "-rwxr-xr-x 1 root root 50645896 Aug 16  2023 nvdisasm\n",
            "-rwxr-xr-x 1 root root 26072056 Aug 16  2023 nvlink\n",
            "-rwxr-xr-x 1 root root  6014272 Aug 17  2023 nvprof\n",
            "-rwxr-xr-x 1 root root   109552 Aug 16  2023 nvprune\n",
            "-rwxr-xr-x 1 root root 25750800 Aug 16  2023 ptxas\n"
          ]
        }
      ]
    },
    {
      "cell_type": "code",
      "source": [
        "!ls"
      ],
      "metadata": {
        "id": "qFLNj8JJlGvS",
        "colab": {
          "base_uri": "https://localhost:8080/"
        },
        "outputId": "e38d866f-73b3-42a7-8718-2272a217c664"
      },
      "execution_count": 3,
      "outputs": [
        {
          "output_type": "stream",
          "name": "stdout",
          "text": [
            "sample_data\n"
          ]
        }
      ]
    },
    {
      "cell_type": "code",
      "source": [
        "!/usr/local/cuda-12.2/bin/nvprof ./add_cuda"
      ],
      "metadata": {
        "colab": {
          "base_uri": "https://localhost:8080/"
        },
        "id": "CSQaQZSGY26e",
        "outputId": "7e564656-ff14-403d-87a0-57cf56a13e1f"
      },
      "execution_count": 7,
      "outputs": [
        {
          "output_type": "stream",
          "name": "stdout",
          "text": [
            "==1218== NVPROF is profiling process 1218, command: ./add_cuda\n",
            "Max error: 0\n",
            "==1218== Profiling application: ./add_cuda\n",
            "==1218== Profiling result:\n",
            "            Type  Time(%)      Time     Calls       Avg       Min       Max  Name\n",
            " GPU activities:  100.00%  108.52ms         1  108.52ms  108.52ms  108.52ms  add(int, float*, float*)\n",
            "      API calls:   57.35%  147.54ms         2  73.771ms  51.024us  147.49ms  cudaMallocManaged\n",
            "                   42.18%  108.53ms         1  108.53ms  108.53ms  108.53ms  cudaDeviceSynchronize\n",
            "                    0.25%  649.79us         2  324.90us  265.44us  384.35us  cudaFree\n",
            "                    0.13%  329.07us         1  329.07us  329.07us  329.07us  cudaLaunchKernel\n",
            "                    0.08%  198.50us       114  1.7410us     218ns  75.455us  cuDeviceGetAttribute\n",
            "                    0.01%  13.222us         1  13.222us  13.222us  13.222us  cuDeviceGetName\n",
            "                    0.00%  8.1930us         1  8.1930us  8.1930us  8.1930us  cuDeviceGetPCIBusId\n",
            "                    0.00%  5.3320us         1  5.3320us  5.3320us  5.3320us  cuDeviceTotalMem\n",
            "                    0.00%  1.9430us         3     647ns     384ns  1.1410us  cuDeviceGetCount\n",
            "                    0.00%  1.0990us         2     549ns     229ns     870ns  cuDeviceGet\n",
            "                    0.00%     453ns         1     453ns     453ns     453ns  cuModuleGetLoadingMode\n",
            "                    0.00%     436ns         1     436ns     436ns     436ns  cuDeviceGetUuid\n",
            "\n",
            "==1218== Unified Memory profiling result:\n",
            "Device \"Tesla T4 (0)\"\n",
            "   Count  Avg Size  Min Size  Max Size  Total Size  Total Time  Name\n",
            "      48  170.67KB  4.0000KB  0.9961MB  8.000000MB  815.0560us  Host To Device\n",
            "      24  170.67KB  4.0000KB  0.9961MB  4.000000MB  361.3090us  Device To Host\n",
            "      12         -         -         -           -  2.539926ms  Gpu page fault groups\n",
            "Total CPU Page faults: 36\n"
          ]
        }
      ]
    },
    {
      "cell_type": "code",
      "source": [],
      "metadata": {
        "id": "S73fKYfwYgPG"
      },
      "execution_count": null,
      "outputs": []
    }
  ]
}