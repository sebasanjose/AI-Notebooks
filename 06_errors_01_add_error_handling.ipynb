{
  "nbformat": 4,
  "nbformat_minor": 0,
  "metadata": {
    "colab": {
      "provenance": [],
      "gpuType": "T4",
      "authorship_tag": "ABX9TyM0/vXNp+XaUTZGiKuPbz0u",
      "include_colab_link": true
    },
    "kernelspec": {
      "name": "python3",
      "display_name": "Python 3"
    },
    "language_info": {
      "name": "python"
    },
    "accelerator": "GPU"
  },
  "cells": [
    {
      "cell_type": "markdown",
      "metadata": {
        "id": "view-in-github",
        "colab_type": "text"
      },
      "source": [
        "<a href=\"https://colab.research.google.com/github/sebasanjose/AI-Notebooks/blob/main/06_errors_01_add_error_handling.ipynb\" target=\"_parent\"><img src=\"https://colab.research.google.com/assets/colab-badge.svg\" alt=\"Open In Colab\"/></a>"
      ]
    },
    {
      "cell_type": "code",
      "execution_count": 1,
      "metadata": {
        "colab": {
          "base_uri": "https://localhost:8080/"
        },
        "id": "LlR4yRI7_MDB",
        "outputId": "f9333c4e-20c9-4111-ff7d-4d71782aec04"
      },
      "outputs": [
        {
          "output_type": "stream",
          "name": "stdout",
          "text": [
            "Writing 06-errors-01-add-error-handling.cu\n"
          ]
        }
      ],
      "source": [
        "%%writefile 06-errors-01-add-error-handling.cu\n",
        "#include <stdio.h>\n",
        "\n",
        "void init(int *a, int N)\n",
        "{\n",
        "  int i;\n",
        "  for (i = 0; i < N; ++i)\n",
        "  {\n",
        "    a[i] = i;\n",
        "  }\n",
        "}\n",
        "\n",
        "__global__\n",
        "void doubleElements(int *a, int N)\n",
        "{\n",
        "\n",
        "  int idx = blockIdx.x * blockDim.x + threadIdx.x;\n",
        "  int stride = gridDim.x * blockDim.x;\n",
        "\n",
        "  for (int i = idx; i < N + stride; i += stride)\n",
        "  {\n",
        "    a[i] *= 2;\n",
        "  }\n",
        "}\n",
        "\n",
        "bool checkElementsAreDoubled(int *a, int N)\n",
        "{\n",
        "  int i;\n",
        "  for (i = 0; i < N; ++i)\n",
        "  {\n",
        "    if (a[i] != i*2) return false;\n",
        "  }\n",
        "  return true;\n",
        "}\n",
        "\n",
        "int main()\n",
        "{\n",
        "  /*\n",
        "   * Add error handling to this source code to learn what errors\n",
        "   * exist, and then correct them. Googling error messages may be\n",
        "   * of service if actions for resolving them are not clear to you.\n",
        "   */\n",
        "\n",
        "  int N = 10000;\n",
        "  int *a;\n",
        "\n",
        "  size_t size = N * sizeof(int);\n",
        "  cudaMallocManaged(&a, size);\n",
        "\n",
        "  init(a, N);\n",
        "\n",
        "  size_t threads_per_block = 2048;\n",
        "  //size_t threads_per_block = 1024;\n",
        "  size_t number_of_blocks = 32;\n",
        "\n",
        "  doubleElements<<<number_of_blocks, threads_per_block>>>(a, N);\n",
        "  cudaError_t sync_err, async_err;\n",
        "  sync_err = cudaGetLastError(); // `cudaGetLastError` will return the error from above.\n",
        "  if (sync_err != cudaSuccess)\n",
        "  {\n",
        "    printf(\"Sync Error: %s\\n\", cudaGetErrorString(sync_err));\n",
        "  }\n",
        "\n",
        "  async_err = cudaDeviceSynchronize();\n",
        "  if (async_err != cudaSuccess)\n",
        "  {\n",
        "    printf(\"Async Error: %s\\n\", cudaGetErrorString(async_err));\n",
        "  }\n",
        "\n",
        "  bool areDoubled = checkElementsAreDoubled(a, N);\n",
        "  printf(\"All elements were doubled? %s\\n\", areDoubled ? \"TRUE\" : \"FALSE\");\n",
        "\n",
        "  cudaFree(a);\n",
        "}\n"
      ]
    },
    {
      "cell_type": "code",
      "source": [
        "!nvcc 06-errors-01-add-error-handling.cu -o 06-errors-01-add-error-handling -run"
      ],
      "metadata": {
        "colab": {
          "base_uri": "https://localhost:8080/"
        },
        "id": "xNxjqoNQ_aqo",
        "outputId": "041e4f0c-4f36-439c-a902-e99ff75b79cc"
      },
      "execution_count": 2,
      "outputs": [
        {
          "output_type": "stream",
          "name": "stdout",
          "text": [
            "Sync Error: invalid configuration argument\n",
            "All elements were doubled? FALSE\n"
          ]
        }
      ]
    }
  ]
}