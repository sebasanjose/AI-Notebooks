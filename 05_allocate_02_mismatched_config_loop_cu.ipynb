{
  "nbformat": 4,
  "nbformat_minor": 0,
  "metadata": {
    "colab": {
      "provenance": [],
      "gpuType": "T4",
      "authorship_tag": "ABX9TyNbaGcz43InzU87JPybOqi8",
      "include_colab_link": true
    },
    "kernelspec": {
      "name": "python3",
      "display_name": "Python 3"
    },
    "language_info": {
      "name": "python"
    },
    "accelerator": "GPU"
  },
  "cells": [
    {
      "cell_type": "markdown",
      "metadata": {
        "id": "view-in-github",
        "colab_type": "text"
      },
      "source": [
        "<a href=\"https://colab.research.google.com/github/sebasanjose/AI-Notebooks/blob/main/05_allocate_02_mismatched_config_loop_cu.ipynb\" target=\"_parent\"><img src=\"https://colab.research.google.com/assets/colab-badge.svg\" alt=\"Open In Colab\"/></a>"
      ]
    },
    {
      "cell_type": "code",
      "execution_count": 1,
      "metadata": {
        "colab": {
          "base_uri": "https://localhost:8080/"
        },
        "id": "cMae7NwYykph",
        "outputId": "f8000eb9-8bb7-4d32-f8da-308d5f055d9d"
      },
      "outputs": [
        {
          "output_type": "stream",
          "name": "stdout",
          "text": [
            "Writing 02-mismatched-config-loop.cu\n"
          ]
        }
      ],
      "source": [
        "%%writefile 02-mismatched-config-loop.cu\n",
        "#include <stdio.h>\n",
        "\n",
        "/*\n",
        " * Currently, `initializeElementsTo`, if executed in a thread whose\n",
        " * `i` is calculated to be greater than `N`, will try to access a value\n",
        " * outside the range of `a`.\n",
        " *\n",
        " * Refactor the kernel definition to prevent out of range accesses.\n",
        " */\n",
        "\n",
        "__global__ void initializeElementsTo(int initialValue, int *a, int N)\n",
        "{\n",
        "  int i = threadIdx.x + blockIdx.x * blockDim.x;\n",
        "  if(i < N) {\n",
        "      a[i] = initialValue;\n",
        "  }\n",
        "}\n",
        "\n",
        "int main()\n",
        "{\n",
        "  /*\n",
        "   * Do not modify `N`.\n",
        "   */\n",
        "\n",
        "  int N = 1000;\n",
        "\n",
        "  int *a;\n",
        "  size_t size = N * sizeof(int);\n",
        "\n",
        "  cudaMallocManaged(&a, size);\n",
        "\n",
        "  /*\n",
        "   * Assume we have reason to want the number of threads\n",
        "   * fixed at `256`: do not modify `threads_per_block`.\n",
        "   */\n",
        "\n",
        "  size_t threads_per_block = 256;\n",
        "\n",
        "  /*\n",
        "   * Assign a value to `number_of_blocks` that will\n",
        "   * allow for a working execution configuration given\n",
        "   * the fixed values for `N` and `threads_per_block`.\n",
        "   */\n",
        "\n",
        "  size_t number_of_blocks = (N + threads_per_block - 1 )/ threads_per_block;\n",
        "\n",
        "\n",
        "  int initialValue = 6;\n",
        "\n",
        "  initializeElementsTo<<<number_of_blocks, threads_per_block>>>(initialValue, a, N);\n",
        "  cudaDeviceSynchronize();\n",
        "\n",
        "  /*\n",
        "   * Check to make sure all values in `a`, were initialized.\n",
        "   */\n",
        "\n",
        "  for (int i = 0; i < N; ++i)\n",
        "  {\n",
        "    if(a[i] != initialValue)\n",
        "    {\n",
        "      printf(\"FAILURE: target value: %d\\t a[%d]: %d\\n\", initialValue, i, a[i]);\n",
        "      cudaFree(a);\n",
        "      exit(1);\n",
        "    }\n",
        "  }\n",
        "  printf(\"SUCCESS!\\n\");\n",
        "\n",
        "  cudaFree(a);\n",
        "}\n"
      ]
    },
    {
      "cell_type": "code",
      "source": [
        "!nvcc 02-mismatched-config-loop.cu -o 02-mismatched-config-loop -run"
      ],
      "metadata": {
        "colab": {
          "base_uri": "https://localhost:8080/"
        },
        "id": "BPWkjsUyy5BL",
        "outputId": "c9c213ed-e9bd-49fa-d28e-431bbe309d9e"
      },
      "execution_count": 2,
      "outputs": [
        {
          "output_type": "stream",
          "name": "stdout",
          "text": [
            "SUCCESS!\n"
          ]
        }
      ]
    }
  ]
}