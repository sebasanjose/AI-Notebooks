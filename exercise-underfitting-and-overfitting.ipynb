{
 "cells": [
  {
   "cell_type": "markdown",
   "id": "29811079",
   "metadata": {
    "papermill": {
     "duration": 0.003301,
     "end_time": "2024-11-22T17:25:06.677115",
     "exception": false,
     "start_time": "2024-11-22T17:25:06.673814",
     "status": "completed"
    },
    "tags": []
   },
   "source": [
    "**This notebook is an exercise in the [Introduction to Machine Learning](https://www.kaggle.com/learn/intro-to-machine-learning) course.  You can reference the tutorial at [this link](https://www.kaggle.com/dansbecker/underfitting-and-overfitting).**\n",
    "\n",
    "---\n"
   ]
  },
  {
   "cell_type": "markdown",
   "id": "69d2dcc3",
   "metadata": {
    "papermill": {
     "duration": 0.00259,
     "end_time": "2024-11-22T17:25:06.682890",
     "exception": false,
     "start_time": "2024-11-22T17:25:06.680300",
     "status": "completed"
    },
    "tags": []
   },
   "source": [
    "## Recap\n",
    "You've built your first model, and now it's time to optimize the size of the tree to make better predictions. Run this cell to set up your coding environment where the previous step left off."
   ]
  },
  {
   "cell_type": "code",
   "execution_count": 1,
   "id": "71f5c170",
   "metadata": {
    "collapsed": true,
    "execution": {
     "iopub.execute_input": "2024-11-22T17:25:06.689910Z",
     "iopub.status.busy": "2024-11-22T17:25:06.689483Z",
     "iopub.status.idle": "2024-11-22T17:25:09.820605Z",
     "shell.execute_reply": "2024-11-22T17:25:09.819320Z"
    },
    "jupyter": {
     "outputs_hidden": true
    },
    "papermill": {
     "duration": 3.137614,
     "end_time": "2024-11-22T17:25:09.823111",
     "exception": false,
     "start_time": "2024-11-22T17:25:06.685497",
     "status": "completed"
    },
    "tags": []
   },
   "outputs": [
    {
     "name": "stdout",
     "output_type": "stream",
     "text": [
      "Validation MAE: 29,653\n",
      "\n",
      "Setup complete\n"
     ]
    }
   ],
   "source": [
    "# Code you have previously used to load data\n",
    "import pandas as pd\n",
    "from sklearn.metrics import mean_absolute_error\n",
    "from sklearn.model_selection import train_test_split\n",
    "from sklearn.tree import DecisionTreeRegressor\n",
    "\n",
    "\n",
    "# Path of the file to read\n",
    "iowa_file_path = '../input/home-data-for-ml-course/train.csv'\n",
    "\n",
    "home_data = pd.read_csv(iowa_file_path)\n",
    "# Create target object and call it y\n",
    "y = home_data.SalePrice\n",
    "# Create X\n",
    "features = ['LotArea', 'YearBuilt', '1stFlrSF', '2ndFlrSF', 'FullBath', 'BedroomAbvGr', 'TotRmsAbvGrd']\n",
    "X = home_data[features]\n",
    "\n",
    "# Split into validation and training data\n",
    "train_X, val_X, train_y, val_y = train_test_split(X, y, random_state=1)\n",
    "\n",
    "# Specify Model\n",
    "iowa_model = DecisionTreeRegressor(random_state=1)\n",
    "# Fit Model\n",
    "iowa_model.fit(train_X, train_y)\n",
    "\n",
    "# Make validation predictions and calculate mean absolute error\n",
    "val_predictions = iowa_model.predict(val_X)\n",
    "val_mae = mean_absolute_error(val_predictions, val_y)\n",
    "print(\"Validation MAE: {:,.0f}\".format(val_mae))\n",
    "\n",
    "# Set up code checking\n",
    "from learntools.core import binder\n",
    "binder.bind(globals())\n",
    "from learntools.machine_learning.ex5 import *\n",
    "print(\"\\nSetup complete\")"
   ]
  },
  {
   "cell_type": "markdown",
   "id": "fb794fba",
   "metadata": {
    "papermill": {
     "duration": 0.002652,
     "end_time": "2024-11-22T17:25:09.828973",
     "exception": false,
     "start_time": "2024-11-22T17:25:09.826321",
     "status": "completed"
    },
    "tags": []
   },
   "source": [
    "# Exercises\n",
    "You could write the function `get_mae` yourself. For now, we'll supply it. This is the same function you read about in the previous lesson. Just run the cell below."
   ]
  },
  {
   "cell_type": "code",
   "execution_count": 2,
   "id": "db85e76c",
   "metadata": {
    "execution": {
     "iopub.execute_input": "2024-11-22T17:25:09.836748Z",
     "iopub.status.busy": "2024-11-22T17:25:09.836318Z",
     "iopub.status.idle": "2024-11-22T17:25:09.842136Z",
     "shell.execute_reply": "2024-11-22T17:25:09.841058Z"
    },
    "papermill": {
     "duration": 0.012249,
     "end_time": "2024-11-22T17:25:09.844276",
     "exception": false,
     "start_time": "2024-11-22T17:25:09.832027",
     "status": "completed"
    },
    "tags": []
   },
   "outputs": [],
   "source": [
    "def get_mae(max_leaf_nodes, train_X, val_X, train_y, val_y):\n",
    "    model = DecisionTreeRegressor(max_leaf_nodes=max_leaf_nodes, random_state=0)\n",
    "    model.fit(train_X, train_y)\n",
    "    preds_val = model.predict(val_X)\n",
    "    mae = mean_absolute_error(val_y, preds_val)\n",
    "    return(mae)"
   ]
  },
  {
   "cell_type": "markdown",
   "id": "e476613f",
   "metadata": {
    "papermill": {
     "duration": 0.002618,
     "end_time": "2024-11-22T17:25:09.849958",
     "exception": false,
     "start_time": "2024-11-22T17:25:09.847340",
     "status": "completed"
    },
    "tags": []
   },
   "source": [
    "## Step 1: Compare Different Tree Sizes\n",
    "Write a loop that tries the following values for *max_leaf_nodes* from a set of possible values.\n",
    "\n",
    "Call the *get_mae* function on each value of max_leaf_nodes. Store the output in some way that allows you to select the value of `max_leaf_nodes` that gives the most accurate model on your data."
   ]
  },
  {
   "cell_type": "code",
   "execution_count": 3,
   "id": "6c8a3832",
   "metadata": {
    "execution": {
     "iopub.execute_input": "2024-11-22T17:25:09.857248Z",
     "iopub.status.busy": "2024-11-22T17:25:09.856877Z",
     "iopub.status.idle": "2024-11-22T17:25:09.866678Z",
     "shell.execute_reply": "2024-11-22T17:25:09.865560Z"
    },
    "papermill": {
     "duration": 0.015903,
     "end_time": "2024-11-22T17:25:09.868734",
     "exception": false,
     "start_time": "2024-11-22T17:25:09.852831",
     "status": "completed"
    },
    "tags": []
   },
   "outputs": [
    {
     "data": {
      "application/javascript": [
       "parent.postMessage({\"jupyterEvent\": \"custom.exercise_interaction\", \"data\": {\"outcomeType\": 4, \"interactionType\": 1, \"questionType\": 1, \"questionId\": \"1_BestTreeSize\", \"learnToolsVersion\": \"0.3.4\", \"valueTowardsCompletion\": 0.0, \"failureMessage\": \"\", \"exceptionClass\": \"\", \"trace\": \"\"}}, \"*\")"
      ],
      "text/plain": [
       "<IPython.core.display.Javascript object>"
      ]
     },
     "metadata": {},
     "output_type": "display_data"
    },
    {
     "data": {
      "text/markdown": [
       "<span style=\"color:#ccaa33\">Check:</span> When you've updated the starter code, `check()` will tell you whether your code is correct. You need to update the code that creates variable `best_tree_size`"
      ],
      "text/plain": [
       "Check: When you've updated the starter code, `check()` will tell you whether your code is correct. You need to update the code that creates variable `best_tree_size`"
      ]
     },
     "metadata": {},
     "output_type": "display_data"
    }
   ],
   "source": [
    "candidate_max_leaf_nodes = [5, 25, 50, 100, 250, 500]\n",
    "# Write loop to find the ideal tree size from candidate_max_leaf_nodes\n",
    "_\n",
    "\n",
    "# Store the best value of max_leaf_nodes (it will be either 5, 25, 50, 100, 250 or 500)\n",
    "best_tree_size = ____\n",
    "\n",
    "# Check your answer\n",
    "step_1.check()"
   ]
  },
  {
   "cell_type": "code",
   "execution_count": 4,
   "id": "91503ba6",
   "metadata": {
    "execution": {
     "iopub.execute_input": "2024-11-22T17:25:09.876711Z",
     "iopub.status.busy": "2024-11-22T17:25:09.876307Z",
     "iopub.status.idle": "2024-11-22T17:25:09.881025Z",
     "shell.execute_reply": "2024-11-22T17:25:09.879890Z"
    },
    "papermill": {
     "duration": 0.011299,
     "end_time": "2024-11-22T17:25:09.883203",
     "exception": false,
     "start_time": "2024-11-22T17:25:09.871904",
     "status": "completed"
    },
    "tags": []
   },
   "outputs": [],
   "source": [
    "# The lines below will show you a hint or the solution.\n",
    "# step_1.hint() \n",
    "# step_1.solution()"
   ]
  },
  {
   "cell_type": "markdown",
   "id": "d3e2cc60",
   "metadata": {
    "papermill": {
     "duration": 0.003199,
     "end_time": "2024-11-22T17:25:09.889864",
     "exception": false,
     "start_time": "2024-11-22T17:25:09.886665",
     "status": "completed"
    },
    "tags": []
   },
   "source": [
    "## Step 2: Fit Model Using All Data\n",
    "You know the best tree size. If you were going to deploy this model in practice, you would make it even more accurate by using all of the data and keeping that tree size.  That is, you don't need to hold out the validation data now that you've made all your modeling decisions."
   ]
  },
  {
   "cell_type": "code",
   "execution_count": 5,
   "id": "a1a4f855",
   "metadata": {
    "execution": {
     "iopub.execute_input": "2024-11-22T17:25:09.898756Z",
     "iopub.status.busy": "2024-11-22T17:25:09.897763Z",
     "iopub.status.idle": "2024-11-22T17:25:09.906710Z",
     "shell.execute_reply": "2024-11-22T17:25:09.905679Z"
    },
    "papermill": {
     "duration": 0.015527,
     "end_time": "2024-11-22T17:25:09.908661",
     "exception": false,
     "start_time": "2024-11-22T17:25:09.893134",
     "status": "completed"
    },
    "tags": []
   },
   "outputs": [
    {
     "data": {
      "application/javascript": [
       "parent.postMessage({\"jupyterEvent\": \"custom.exercise_interaction\", \"data\": {\"outcomeType\": 2, \"failureMessage\": \"You still need to define the following variables: `final_model`\", \"interactionType\": 1, \"questionType\": 2, \"questionId\": \"2_FitModelWithAllData\", \"learnToolsVersion\": \"0.3.4\", \"valueTowardsCompletion\": 0.0, \"exceptionClass\": \"\", \"trace\": \"\"}}, \"*\")"
      ],
      "text/plain": [
       "<IPython.core.display.Javascript object>"
      ]
     },
     "metadata": {},
     "output_type": "display_data"
    },
    {
     "data": {
      "text/markdown": [
       "<span style=\"color:#cc3333\">Incorrect:</span> You still need to define the following variables: `final_model`"
      ],
      "text/plain": [
       "Incorrect: You still need to define the following variables: `final_model`"
      ]
     },
     "metadata": {},
     "output_type": "display_data"
    }
   ],
   "source": [
    "# Fill in argument to make optimal size and uncomment\n",
    "# final_model = DecisionTreeRegressor(____)\n",
    "\n",
    "# fit the final model and uncomment the next two lines\n",
    "# final_model.fit(____, ____)\n",
    "\n",
    "# Check your answer\n",
    "step_2.check()"
   ]
  },
  {
   "cell_type": "code",
   "execution_count": 6,
   "id": "fa770c29",
   "metadata": {
    "execution": {
     "iopub.execute_input": "2024-11-22T17:25:09.917372Z",
     "iopub.status.busy": "2024-11-22T17:25:09.917015Z",
     "iopub.status.idle": "2024-11-22T17:25:09.921540Z",
     "shell.execute_reply": "2024-11-22T17:25:09.920459Z"
    },
    "papermill": {
     "duration": 0.01153,
     "end_time": "2024-11-22T17:25:09.923755",
     "exception": false,
     "start_time": "2024-11-22T17:25:09.912225",
     "status": "completed"
    },
    "tags": []
   },
   "outputs": [],
   "source": [
    "# step_2.hint()\n",
    "# step_2.solution()"
   ]
  },
  {
   "cell_type": "markdown",
   "id": "6b5e1702",
   "metadata": {
    "papermill": {
     "duration": 0.003425,
     "end_time": "2024-11-22T17:25:09.931769",
     "exception": false,
     "start_time": "2024-11-22T17:25:09.928344",
     "status": "completed"
    },
    "tags": []
   },
   "source": [
    "You've tuned this model and improved your results. But we are still using Decision Tree models, which are not very sophisticated by modern machine learning standards. In the next step you will learn to use Random Forests to improve your models even more.\n",
    "\n",
    "# Keep Going\n",
    "\n",
    "You are ready for **[Random Forests](https://www.kaggle.com/dansbecker/random-forests).**\n"
   ]
  },
  {
   "cell_type": "markdown",
   "id": "42819aba",
   "metadata": {
    "papermill": {
     "duration": 0.003285,
     "end_time": "2024-11-22T17:25:09.938623",
     "exception": false,
     "start_time": "2024-11-22T17:25:09.935338",
     "status": "completed"
    },
    "tags": []
   },
   "source": [
    "---\n",
    "\n",
    "\n",
    "\n",
    "\n",
    "*Have questions or comments? Visit the [course discussion forum](https://www.kaggle.com/learn/intro-to-machine-learning/discussion) to chat with other learners.*"
   ]
  }
 ],
 "metadata": {
  "kaggle": {
   "accelerator": "none",
   "dataSources": [
    {
     "databundleVersionId": 111096,
     "sourceId": 10211,
     "sourceType": "competition"
    },
    {
     "datasetId": 11167,
     "sourceId": 15520,
     "sourceType": "datasetVersion"
    },
    {
     "datasetId": 2709,
     "sourceId": 38454,
     "sourceType": "datasetVersion"
    }
   ],
   "isGpuEnabled": false,
   "isInternetEnabled": false,
   "language": "python",
   "sourceType": "notebook"
  },
  "kernelspec": {
   "display_name": "Python 3",
   "language": "python",
   "name": "python3"
  },
  "language_info": {
   "codemirror_mode": {
    "name": "ipython",
    "version": 3
   },
   "file_extension": ".py",
   "mimetype": "text/x-python",
   "name": "python",
   "nbconvert_exporter": "python",
   "pygments_lexer": "ipython3",
   "version": "3.10.14"
  },
  "papermill": {
   "default_parameters": {},
   "duration": 6.982636,
   "end_time": "2024-11-22T17:25:10.564689",
   "environment_variables": {},
   "exception": null,
   "input_path": "__notebook__.ipynb",
   "output_path": "__notebook__.ipynb",
   "parameters": {},
   "start_time": "2024-11-22T17:25:03.582053",
   "version": "2.6.0"
  }
 },
 "nbformat": 4,
 "nbformat_minor": 5
}
