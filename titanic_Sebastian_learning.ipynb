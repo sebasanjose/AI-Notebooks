{
  "metadata": {
    "kernelspec": {
      "language": "python",
      "display_name": "Python 3",
      "name": "python3"
    },
    "language_info": {
      "name": "python",
      "version": "3.10.14",
      "mimetype": "text/x-python",
      "codemirror_mode": {
        "name": "ipython",
        "version": 3
      },
      "pygments_lexer": "ipython3",
      "nbconvert_exporter": "python",
      "file_extension": ".py"
    },
    "kaggle": {
      "accelerator": "none",
      "dataSources": [
        {
          "sourceId": 3136,
          "databundleVersionId": 26502,
          "sourceType": "competition"
        }
      ],
      "dockerImageVersionId": 30786,
      "isInternetEnabled": true,
      "language": "python",
      "sourceType": "notebook",
      "isGpuEnabled": false
    },
    "colab": {
      "name": "titanic Sebastian - learning",
      "provenance": [],
      "include_colab_link": true
    }
  },
  "nbformat_minor": 0,
  "nbformat": 4,
  "cells": [
    {
      "cell_type": "markdown",
      "metadata": {
        "id": "view-in-github",
        "colab_type": "text"
      },
      "source": [
        "<a href=\"https://colab.research.google.com/github/sebasanjose/AI-Notebooks/blob/main/titanic_Sebastian_learning.ipynb\" target=\"_parent\"><img src=\"https://colab.research.google.com/assets/colab-badge.svg\" alt=\"Open In Colab\"/></a>"
      ]
    },
    {
      "source": [
        "# IMPORTANT: SOME KAGGLE DATA SOURCES ARE PRIVATE\n",
        "# RUN THIS CELL IN ORDER TO IMPORT YOUR KAGGLE DATA SOURCES.\n",
        "import kagglehub\n",
        "kagglehub.login()\n"
      ],
      "metadata": {
        "id": "gctfmlHS_W8i"
      },
      "cell_type": "code",
      "outputs": [],
      "execution_count": null
    },
    {
      "source": [
        "# IMPORTANT: RUN THIS CELL IN ORDER TO IMPORT YOUR KAGGLE DATA SOURCES,\n",
        "# THEN FEEL FREE TO DELETE THIS CELL.\n",
        "# NOTE: THIS NOTEBOOK ENVIRONMENT DIFFERS FROM KAGGLE'S PYTHON\n",
        "# ENVIRONMENT SO THERE MAY BE MISSING LIBRARIES USED BY YOUR\n",
        "# NOTEBOOK.\n",
        "\n",
        "titanic_path = kagglehub.competition_download('titanic')\n",
        "\n",
        "print('Data source import complete.')\n"
      ],
      "metadata": {
        "id": "41NYH8d2_W8l"
      },
      "cell_type": "code",
      "outputs": [],
      "execution_count": null
    },
    {
      "cell_type": "code",
      "source": [
        "# This Python 3 environment comes with many helpful analytics libraries installed\n",
        "# It is defined by the kaggle/python Docker image: https://github.com/kaggle/docker-python\n",
        "# For example, here's several helpful packages to load\n",
        "\n",
        "import numpy as np # linear algebra\n",
        "import pandas as pd # data processing, CSV file I/O (e.g. pd.read_csv)\n",
        "\n",
        "# Input data files are available in the read-only \"../input/\" directory\n",
        "# For example, running this (by clicking run or pressing Shift+Enter) will list all files under the input directory\n",
        "\n",
        "import os\n",
        "for dirname, _, filenames in os.walk('/kaggle/input'):\n",
        "    for filename in filenames:\n",
        "        print(os.path.join(dirname, filename))\n",
        "\n",
        "# You can write up to 20GB to the current directory (/kaggle/working/) that gets preserved as output when you create a version using \"Save & Run All\"\n",
        "# You can also write temporary files to /kaggle/temp/, but they won't be saved outside of the current session"
      ],
      "metadata": {
        "_uuid": "8f2839f25d086af736a60e9eeb907d3b93b6e0e5",
        "_cell_guid": "b1076dfc-b9ad-4769-8c92-a6c4dae69d19",
        "execution": {
          "iopub.status.busy": "2024-11-15T17:52:21.935261Z",
          "iopub.execute_input": "2024-11-15T17:52:21.935815Z",
          "iopub.status.idle": "2024-11-15T17:52:23.322465Z",
          "shell.execute_reply.started": "2024-11-15T17:52:21.935746Z",
          "shell.execute_reply": "2024-11-15T17:52:23.320028Z"
        },
        "trusted": true,
        "id": "NxsJ0BrS_W8l"
      },
      "execution_count": null,
      "outputs": []
    },
    {
      "cell_type": "code",
      "source": [
        "train_data = pd.read_csv(\"/kaggle/input/titanic/train.csv\")\n",
        "train_data.head()"
      ],
      "metadata": {
        "execution": {
          "iopub.status.busy": "2024-11-15T17:52:46.94966Z",
          "iopub.execute_input": "2024-11-15T17:52:46.951184Z",
          "iopub.status.idle": "2024-11-15T17:52:47.003032Z",
          "shell.execute_reply.started": "2024-11-15T17:52:46.951115Z",
          "shell.execute_reply": "2024-11-15T17:52:47.001357Z"
        },
        "trusted": true,
        "id": "r22MHVPB_W8l"
      },
      "execution_count": null,
      "outputs": []
    },
    {
      "cell_type": "code",
      "source": [
        "test_data = pd.read_csv(\"/kaggle/input/titanic/test.csv\")\n",
        "test_data.head()"
      ],
      "metadata": {
        "execution": {
          "iopub.status.busy": "2024-11-15T17:54:43.301603Z",
          "iopub.execute_input": "2024-11-15T17:54:43.303226Z",
          "iopub.status.idle": "2024-11-15T17:54:43.335557Z",
          "shell.execute_reply.started": "2024-11-15T17:54:43.303155Z",
          "shell.execute_reply": "2024-11-15T17:54:43.333735Z"
        },
        "trusted": true,
        "id": "WTGMuVWd_W8m"
      },
      "execution_count": null,
      "outputs": []
    },
    {
      "cell_type": "code",
      "source": [
        "women = train_data.loc[train_data.Sex == 'female'][\"Survived\"]\n",
        "rate_women = sum(women)/len(women)\n",
        "\n",
        "print(\"% of women who survived:\", rate_women)"
      ],
      "metadata": {
        "execution": {
          "iopub.status.busy": "2024-11-15T17:56:43.446651Z",
          "iopub.execute_input": "2024-11-15T17:56:43.447117Z",
          "iopub.status.idle": "2024-11-15T17:56:43.462589Z",
          "shell.execute_reply.started": "2024-11-15T17:56:43.447076Z",
          "shell.execute_reply": "2024-11-15T17:56:43.461061Z"
        },
        "trusted": true,
        "id": "H5XPedfa_W8m"
      },
      "execution_count": null,
      "outputs": []
    },
    {
      "cell_type": "code",
      "source": [
        "men = train_data.loc[train_data.Sex == 'male'][\"Survived\"]\n",
        "rate_men = sum(men)/len(men)\n",
        "\n",
        "print(\"% of men who survived:\", rate_men)"
      ],
      "metadata": {
        "execution": {
          "iopub.status.busy": "2024-11-15T17:57:05.515141Z",
          "iopub.execute_input": "2024-11-15T17:57:05.515637Z",
          "iopub.status.idle": "2024-11-15T17:57:05.525841Z",
          "shell.execute_reply.started": "2024-11-15T17:57:05.515595Z",
          "shell.execute_reply": "2024-11-15T17:57:05.524122Z"
        },
        "trusted": true,
        "id": "y7cZiQcm_W8m"
      },
      "execution_count": null,
      "outputs": []
    },
    {
      "cell_type": "code",
      "source": [
        "from sklearn.ensemble import RandomForestClassifier\n",
        "\n",
        "y = train_data[\"Survived\"]\n",
        "\n",
        "features = [\"Pclass\", \"Sex\", \"SibSp\", \"Parch\"]\n",
        "X = pd.get_dummies(train_data[features])\n",
        "X_test = pd.get_dummies(test_data[features])\n",
        "\n",
        "model = RandomForestClassifier(n_estimators=100, max_depth=5, random_state=1)\n",
        "model.fit(X, y)\n",
        "predictions = model.predict(X_test)\n",
        "\n",
        "output = pd.DataFrame({'PassengerId': test_data.PassengerId, 'Survived': predictions})\n",
        "output.to_csv('submission.csv', index=False)\n",
        "print(\"Your submission was successfully saved!\")"
      ],
      "metadata": {
        "execution": {
          "iopub.status.busy": "2024-11-15T17:58:54.506764Z",
          "iopub.execute_input": "2024-11-15T17:58:54.507242Z",
          "iopub.status.idle": "2024-11-15T17:58:55.858847Z",
          "shell.execute_reply.started": "2024-11-15T17:58:54.507198Z",
          "shell.execute_reply": "2024-11-15T17:58:55.857587Z"
        },
        "trusted": true,
        "id": "yDYU1Ttv_W8m"
      },
      "execution_count": null,
      "outputs": []
    }
  ]
}