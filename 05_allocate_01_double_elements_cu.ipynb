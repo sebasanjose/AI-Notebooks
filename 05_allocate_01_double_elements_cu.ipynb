{
  "nbformat": 4,
  "nbformat_minor": 0,
  "metadata": {
    "colab": {
      "provenance": [],
      "gpuType": "T4",
      "authorship_tag": "ABX9TyPxpYAXGRQ5IQmm2pmSAO+i",
      "include_colab_link": true
    },
    "kernelspec": {
      "name": "python3",
      "display_name": "Python 3"
    },
    "language_info": {
      "name": "python"
    },
    "accelerator": "GPU"
  },
  "cells": [
    {
      "cell_type": "markdown",
      "metadata": {
        "id": "view-in-github",
        "colab_type": "text"
      },
      "source": [
        "<a href=\"https://colab.research.google.com/github/sebasanjose/AI-Notebooks/blob/main/05_allocate_01_double_elements_cu.ipynb\" target=\"_parent\"><img src=\"https://colab.research.google.com/assets/colab-badge.svg\" alt=\"Open In Colab\"/></a>"
      ]
    },
    {
      "cell_type": "code",
      "execution_count": 6,
      "metadata": {
        "colab": {
          "base_uri": "https://localhost:8080/"
        },
        "id": "nXWyB8W6uQ-h",
        "outputId": "51a248a2-2569-4e66-9de0-e87b85e2e72d"
      },
      "outputs": [
        {
          "output_type": "stream",
          "name": "stdout",
          "text": [
            "Overwriting 01-double_elements.cu\n"
          ]
        }
      ],
      "source": [
        "%%writefile 01-double_elements.cu\n",
        "\n",
        "\n",
        "#include <stdio.h>\n",
        "\n",
        "/*\n",
        " * Initialize array values on the host.\n",
        " */\n",
        "\n",
        "void init(int *a, int N)\n",
        "{\n",
        "  int i;\n",
        "  for (i = 0; i < N; ++i)\n",
        "  {\n",
        "    a[i] = i;\n",
        "  }\n",
        "}\n",
        "\n",
        "/*\n",
        " * Double elements in parallel on the GPU.\n",
        " */\n",
        "\n",
        "__global__\n",
        "void doubleElements(int *a, int N)\n",
        "{\n",
        "  int i;\n",
        "  i = blockIdx.x * blockDim.x + threadIdx.x;\n",
        "  if (i < N)\n",
        "  {\n",
        "    a[i] *= 2;\n",
        "  }\n",
        "}\n",
        "\n",
        "/*\n",
        " * Check all elements have been doubled on the host.\n",
        " */\n",
        "\n",
        "bool checkElementsAreDoubled(int *a, int N)\n",
        "{\n",
        "  int i;\n",
        "  for (i = 0; i < N; ++i)\n",
        "  {\n",
        "    if (a[i] != i*2) return false;\n",
        "  }\n",
        "  return true;\n",
        "}\n",
        "\n",
        "int main()\n",
        "{\n",
        "  int N = 1000;\n",
        "  int *a;\n",
        "\n",
        "  size_t size = N * sizeof(int);\n",
        "\n",
        "  /*\n",
        "   * Refactor this memory allocation to provide a pointer\n",
        "   * `a` that can be used on both the host and the device.\n",
        "   */\n",
        "\n",
        "  // a = (int *)malloc(size);\n",
        "  cudaMallocManaged(&a, size);\n",
        "\n",
        "  init(a, N);\n",
        "\n",
        "  size_t threads_per_block = 256;\n",
        "  size_t number_of_blocks = (N + threads_per_block - 1) / threads_per_block;\n",
        "\n",
        "  /*\n",
        "   * This launch will not work until the pointer `a` is also\n",
        "   * available to the device.\n",
        "   */\n",
        "\n",
        "  doubleElements<<<number_of_blocks, threads_per_block>>>(a, N);\n",
        "  cudaDeviceSynchronize();\n",
        "\n",
        "  bool areDoubled = checkElementsAreDoubled(a, N);\n",
        "  printf(\"All elements were doubled? %s\\n\", areDoubled ? \"TRUE\" : \"FALSE\");\n",
        "\n",
        "  /*\n",
        "   * Refactor to free memory that has been allocated to be\n",
        "   * accessed by both the host and the device.\n",
        "   */\n",
        "\n",
        "  cudaFree(a);\n",
        "}\n"
      ]
    },
    {
      "cell_type": "code",
      "source": [
        "!nvcc 01-double_elements.cu -o 01-double_elements -run"
      ],
      "metadata": {
        "colab": {
          "base_uri": "https://localhost:8080/"
        },
        "id": "8mI_I3dxu-ed",
        "outputId": "7cb19787-7c95-4c9d-bcd7-2a6028bb0869"
      },
      "execution_count": 7,
      "outputs": [
        {
          "output_type": "stream",
          "name": "stdout",
          "text": [
            "All elements were doubled? TRUE\n"
          ]
        }
      ]
    }
  ]
}