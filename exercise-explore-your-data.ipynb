{
 "cells": [
  {
   "cell_type": "markdown",
   "id": "ce62023c",
   "metadata": {
    "papermill": {
     "duration": 0.004128,
     "end_time": "2024-11-19T06:10:15.289365",
     "exception": false,
     "start_time": "2024-11-19T06:10:15.285237",
     "status": "completed"
    },
    "tags": []
   },
   "source": [
    "**[Machine Learning Course Home Page](https://www.kaggle.com/learn/machine-learning)**\n",
    "\n",
    "---\n"
   ]
  },
  {
   "cell_type": "markdown",
   "id": "9a706146",
   "metadata": {
    "papermill": {
     "duration": 0.002745,
     "end_time": "2024-11-19T06:10:15.295396",
     "exception": false,
     "start_time": "2024-11-19T06:10:15.292651",
     "status": "completed"
    },
    "tags": []
   },
   "source": [
    "This exercise will test your ability to read a data file and understand statistics about the data.\n",
    "\n",
    "In later exercises, you will apply techniques to filter the data, build a machine learning model, and iteratively improve your model.\n",
    "\n",
    "The course examples use data from Melbourne. To ensure you can apply these techniques on your own, you will have to apply them to a new dataset (with house prices from Iowa).\n",
    "\n",
    "The exercises use a \"notebook\" coding environment.  In case you are unfamiliar with notebooks, we have a [90-second intro video](https://www.youtube.com/watch?v=4C2qMnaIKL4).\n",
    "\n",
    "# Exercises\n",
    "\n",
    "Run the following cell to set up code-checking, which will verify your work as you go."
   ]
  },
  {
   "cell_type": "code",
   "execution_count": 1,
   "id": "1dc10e98",
   "metadata": {
    "execution": {
     "iopub.execute_input": "2024-11-19T06:10:15.302992Z",
     "iopub.status.busy": "2024-11-19T06:10:15.302527Z",
     "iopub.status.idle": "2024-11-19T06:10:16.326042Z",
     "shell.execute_reply": "2024-11-19T06:10:16.324898Z"
    },
    "papermill": {
     "duration": 1.030223,
     "end_time": "2024-11-19T06:10:16.328568",
     "exception": false,
     "start_time": "2024-11-19T06:10:15.298345",
     "status": "completed"
    },
    "tags": []
   },
   "outputs": [
    {
     "name": "stdout",
     "output_type": "stream",
     "text": [
      "Setup Complete\n"
     ]
    }
   ],
   "source": [
    "# Set up code checking\n",
    "from learntools.core import binder\n",
    "binder.bind(globals())\n",
    "from learntools.machine_learning.ex2 import *\n",
    "print(\"Setup Complete\")"
   ]
  },
  {
   "cell_type": "markdown",
   "id": "8078961b",
   "metadata": {
    "papermill": {
     "duration": 0.002738,
     "end_time": "2024-11-19T06:10:16.334348",
     "exception": false,
     "start_time": "2024-11-19T06:10:16.331610",
     "status": "completed"
    },
    "tags": []
   },
   "source": [
    "## Step 1: Loading Data\n",
    "Read the Iowa data file into a Pandas DataFrame called `home_data`."
   ]
  },
  {
   "cell_type": "code",
   "execution_count": 2,
   "id": "cb18f88a",
   "metadata": {
    "collapsed": true,
    "execution": {
     "iopub.execute_input": "2024-11-19T06:10:16.342238Z",
     "iopub.status.busy": "2024-11-19T06:10:16.341689Z",
     "iopub.status.idle": "2024-11-19T06:10:16.351961Z",
     "shell.execute_reply": "2024-11-19T06:10:16.350863Z"
    },
    "jupyter": {
     "outputs_hidden": true
    },
    "papermill": {
     "duration": 0.016893,
     "end_time": "2024-11-19T06:10:16.354137",
     "exception": false,
     "start_time": "2024-11-19T06:10:16.337244",
     "status": "completed"
    },
    "tags": []
   },
   "outputs": [
    {
     "data": {
      "application/javascript": [
       "parent.postMessage({\"jupyterEvent\": \"custom.exercise_interaction\", \"data\": {\"outcomeType\": 4, \"interactionType\": 1, \"questionType\": 1, \"questionId\": \"1_LoadHomeData\", \"learnToolsVersion\": \"0.3.4\", \"valueTowardsCompletion\": 0.0, \"failureMessage\": \"\", \"exceptionClass\": \"\", \"trace\": \"\"}}, \"*\")"
      ],
      "text/plain": [
       "<IPython.core.display.Javascript object>"
      ]
     },
     "metadata": {},
     "output_type": "display_data"
    },
    {
     "data": {
      "text/markdown": [
       "<span style=\"color:#ccaa33\">Check:</span> When you've updated the starter code, `check()` will tell you whether your code is correct. You need to update the code that creates variable `home_data`"
      ],
      "text/plain": [
       "Check: When you've updated the starter code, `check()` will tell you whether your code is correct. You need to update the code that creates variable `home_data`"
      ]
     },
     "metadata": {},
     "output_type": "display_data"
    }
   ],
   "source": [
    "import pandas as pd\n",
    "\n",
    "# Path of the file to read\n",
    "iowa_file_path = '../input/home-data-for-ml-course/train.csv'\n",
    "\n",
    "# Fill in the line below to read the file into a variable home_data\n",
    "home_data = ____\n",
    "\n",
    "# Call line below with no argument to check that you've loaded the data correctly\n",
    "step_1.check()"
   ]
  },
  {
   "cell_type": "code",
   "execution_count": 3,
   "id": "81e076f3",
   "metadata": {
    "collapsed": true,
    "execution": {
     "iopub.execute_input": "2024-11-19T06:10:16.362710Z",
     "iopub.status.busy": "2024-11-19T06:10:16.362340Z",
     "iopub.status.idle": "2024-11-19T06:10:16.367112Z",
     "shell.execute_reply": "2024-11-19T06:10:16.365836Z"
    },
    "jupyter": {
     "outputs_hidden": true
    },
    "papermill": {
     "duration": 0.012235,
     "end_time": "2024-11-19T06:10:16.369759",
     "exception": false,
     "start_time": "2024-11-19T06:10:16.357524",
     "status": "completed"
    },
    "tags": []
   },
   "outputs": [],
   "source": [
    "# Lines below will give you a hint or solution code\n",
    "#step_1.hint()\n",
    "#step_1.solution()"
   ]
  },
  {
   "cell_type": "markdown",
   "id": "465f7cea",
   "metadata": {
    "papermill": {
     "duration": 0.002988,
     "end_time": "2024-11-19T06:10:16.376229",
     "exception": false,
     "start_time": "2024-11-19T06:10:16.373241",
     "status": "completed"
    },
    "tags": []
   },
   "source": [
    "## Step 2: Review The Data\n",
    "Use the command you learned to view summary statistics of the data. Then fill in variables to answer the following questions"
   ]
  },
  {
   "cell_type": "code",
   "execution_count": 4,
   "id": "37a88999",
   "metadata": {
    "collapsed": true,
    "execution": {
     "iopub.execute_input": "2024-11-19T06:10:16.384801Z",
     "iopub.status.busy": "2024-11-19T06:10:16.384415Z",
     "iopub.status.idle": "2024-11-19T06:10:16.391445Z",
     "shell.execute_reply": "2024-11-19T06:10:16.390171Z"
    },
    "jupyter": {
     "outputs_hidden": true
    },
    "papermill": {
     "duration": 0.01425,
     "end_time": "2024-11-19T06:10:16.393697",
     "exception": false,
     "start_time": "2024-11-19T06:10:16.379447",
     "status": "completed"
    },
    "tags": []
   },
   "outputs": [
    {
     "data": {
      "text/markdown": [],
      "text/plain": [
       "<learntools.core.constants.PlaceholderValue at 0x792f77e20a30>"
      ]
     },
     "execution_count": 4,
     "metadata": {},
     "output_type": "execute_result"
    }
   ],
   "source": [
    "# Print summary statistics in next line\n",
    "____"
   ]
  },
  {
   "cell_type": "code",
   "execution_count": 5,
   "id": "3496e502",
   "metadata": {
    "execution": {
     "iopub.execute_input": "2024-11-19T06:10:16.402578Z",
     "iopub.status.busy": "2024-11-19T06:10:16.402133Z",
     "iopub.status.idle": "2024-11-19T06:10:16.411551Z",
     "shell.execute_reply": "2024-11-19T06:10:16.410479Z"
    },
    "papermill": {
     "duration": 0.016732,
     "end_time": "2024-11-19T06:10:16.414012",
     "exception": false,
     "start_time": "2024-11-19T06:10:16.397280",
     "status": "completed"
    },
    "tags": []
   },
   "outputs": [
    {
     "data": {
      "application/javascript": [
       "parent.postMessage({\"jupyterEvent\": \"custom.exercise_interaction\", \"data\": {\"outcomeType\": 4, \"interactionType\": 1, \"questionType\": 1, \"questionId\": \"2_HomeDescription\", \"learnToolsVersion\": \"0.3.4\", \"valueTowardsCompletion\": 0.0, \"failureMessage\": \"\", \"exceptionClass\": \"\", \"trace\": \"\"}}, \"*\")"
      ],
      "text/plain": [
       "<IPython.core.display.Javascript object>"
      ]
     },
     "metadata": {},
     "output_type": "display_data"
    },
    {
     "data": {
      "text/markdown": [
       "<span style=\"color:#ccaa33\">Check:</span> When you've updated the starter code, `check()` will tell you whether your code is correct. You need to update the code that creates variables `avg_lot_size`, `newest_home_age`"
      ],
      "text/plain": [
       "Check: When you've updated the starter code, `check()` will tell you whether your code is correct. You need to update the code that creates variables `avg_lot_size`, `newest_home_age`"
      ]
     },
     "metadata": {},
     "output_type": "display_data"
    }
   ],
   "source": [
    "# What is the average lot size (rounded to nearest integer)?\n",
    "avg_lot_size = ____\n",
    "\n",
    "# As of today, how old is the newest home (current year - the date in which it was built)\n",
    "newest_home_age = ____\n",
    "\n",
    "# Checks your answers\n",
    "step_2.check()"
   ]
  },
  {
   "cell_type": "code",
   "execution_count": 6,
   "id": "fa1cd289",
   "metadata": {
    "collapsed": true,
    "execution": {
     "iopub.execute_input": "2024-11-19T06:10:16.424341Z",
     "iopub.status.busy": "2024-11-19T06:10:16.422931Z",
     "iopub.status.idle": "2024-11-19T06:10:16.428452Z",
     "shell.execute_reply": "2024-11-19T06:10:16.427169Z"
    },
    "jupyter": {
     "outputs_hidden": true
    },
    "papermill": {
     "duration": 0.012884,
     "end_time": "2024-11-19T06:10:16.430801",
     "exception": false,
     "start_time": "2024-11-19T06:10:16.417917",
     "status": "completed"
    },
    "tags": []
   },
   "outputs": [],
   "source": [
    "#step_2.hint()\n",
    "#step_2.solution()"
   ]
  },
  {
   "cell_type": "markdown",
   "id": "93d4fd84",
   "metadata": {
    "papermill": {
     "duration": 0.004419,
     "end_time": "2024-11-19T06:10:16.439024",
     "exception": false,
     "start_time": "2024-11-19T06:10:16.434605",
     "status": "completed"
    },
    "tags": []
   },
   "source": [
    "## Think About Your Data\n",
    "\n",
    "The newest house in your data isn't that new.  A few potential explanations for this:\n",
    "1. They haven't built new houses where this data was collected.\n",
    "1. The data was collected a long time ago. Houses built after the data publication wouldn't show up.\n",
    "\n",
    "If the reason is explanation #1 above, does that affect your trust in the model you build with this data? What about if it is reason #2?\n",
    "\n",
    "How could you dig into the data to see which explanation is more plausible?\n",
    "\n",
    "Check out this **[discussion thread](https://www.kaggle.com/learn-forum/60581)** to see what others think or to add your ideas.\n",
    "\n",
    "# Keep Going\n",
    "\n",
    "You are ready for **[Your First Machine Learning Model](https://www.kaggle.com/dansbecker/your-first-machine-learning-model).**\n"
   ]
  },
  {
   "cell_type": "markdown",
   "id": "8577e720",
   "metadata": {
    "papermill": {
     "duration": 0.003386,
     "end_time": "2024-11-19T06:10:16.446107",
     "exception": false,
     "start_time": "2024-11-19T06:10:16.442721",
     "status": "completed"
    },
    "tags": []
   },
   "source": [
    "---\n",
    "**[Machine Learning Course Home Page](https://www.kaggle.com/learn/machine-learning)**\n",
    "\n"
   ]
  }
 ],
 "metadata": {
  "kaggle": {
   "accelerator": "none",
   "dataSources": [
    {
     "datasetId": 2709,
     "sourceId": 38454,
     "sourceType": "datasetVersion"
    },
    {
     "datasetId": 108980,
     "sourceId": 260251,
     "sourceType": "datasetVersion"
    }
   ],
   "isGpuEnabled": false,
   "isInternetEnabled": false,
   "language": "python",
   "sourceType": "notebook"
  },
  "kernelspec": {
   "display_name": "Python 3",
   "language": "python",
   "name": "python3"
  },
  "language_info": {
   "codemirror_mode": {
    "name": "ipython",
    "version": 3
   },
   "file_extension": ".py",
   "mimetype": "text/x-python",
   "name": "python",
   "nbconvert_exporter": "python",
   "pygments_lexer": "ipython3",
   "version": "3.10.14"
  },
  "papermill": {
   "default_parameters": {},
   "duration": 4.66492,
   "end_time": "2024-11-19T06:10:16.972475",
   "environment_variables": {},
   "exception": null,
   "input_path": "__notebook__.ipynb",
   "output_path": "__notebook__.ipynb",
   "parameters": {},
   "start_time": "2024-11-19T06:10:12.307555",
   "version": "2.6.0"
  }
 },
 "nbformat": 4,
 "nbformat_minor": 5
}
